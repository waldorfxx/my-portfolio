{
  "nbformat": 4,
  "nbformat_minor": 0,
  "metadata": {
    "accelerator": "GPU",
    "colab": {
      "name": "CARS196_Sub",
      "provenance": [],
      "collapsed_sections": []
    },
    "kernelspec": {
      "display_name": "Python 3",
      "name": "python3"
    }
  },
  "cells": [
    {
      "cell_type": "code",
      "metadata": {
        "id": "ARJ9JIpfHbeW"
      },
      "source": [
        "import numpy as np\n",
        "import tensorflow as tf\n",
        "import matplotlib.pyplot as plt\n",
        "import pandas as pd\n",
        "import seaborn as sns\n",
        "from tensorflow import keras\n",
        "import tensorflow_datasets as tfds\n",
        "\n",
        "import pathlib\n",
        "from keras.models import Sequential\n",
        "from keras.layers import Dense, Activation, Flatten, Dropout\n",
        "from tensorflow.keras.applications.resnet50 import ResNet50, preprocess_input\n",
        "from tensorflow.python.keras.preprocessing.image import ImageDataGenerator\n",
        "\n",
        "import cv2\n",
        "import os\n",
        "\n",
        "from tensorflow import keras\n",
        "from tensorflow.keras import layers\n",
        "from keras.layers.normalization import BatchNormalization"
      ],
      "execution_count": null,
      "outputs": []
    },
    {
      "cell_type": "code",
      "metadata": {
        "colab": {
          "base_uri": "https://localhost:8080/"
        },
        "id": "UybzxsCeaZsq",
        "outputId": "f10dbedc-d0a4-4c5e-b8f3-78810c252a6b"
      },
      "source": [
        "from google.colab import drive\n",
        "drive.mount('/content/drive')\n",
        "\n",
        "# Viewing the data in the folder present from the drive\n",
        "!ls \"/content/drive/My Drive/input\"\n",
        "\n",
        "path_train = \"/content/drive/My Drive/input/train/\"\n",
        "path_test = \"/content/drive/My Drive/input/test/\"\n",
        "# path_devkit = \"/content/drive/My Drive/input/devkit\"\n",
        "\n",
        "from pathlib import Path\n",
        "from matplotlib.patches import Rectangle\n",
        "from scipy.io import loadmat\n",
        "\n",
        "cars_meta = loadmat('/content/drive/My Drive/input/devkit/cars_meta.mat')\n",
        "cars_train_annos = loadmat('/content/drive/My Drive/input/devkit/cars_train_annos.mat')\n",
        "cars_test_annos = loadmat('/content/drive/My Drive/input/devkit/cars_test_annos_withlabels.mat')"
      ],
      "execution_count": null,
      "outputs": [
        {
          "output_type": "stream",
          "text": [
            "Mounted at /content/drive\n",
            "'?นิรสำืำะ1.h5'\t  devkit\t  Model5_Mobilenet.h5   test\n",
            " cars_test.tgz\t  Mobilenet1.h5   Model6.h5\t        train\n",
            " cars_train.tgz   Mobilenet2.h5   resnet50.h5\t        Xception.h5\n"
          ],
          "name": "stdout"
        }
      ]
    },
    {
      "cell_type": "code",
      "metadata": {
        "id": "I7XmJEJDxuIf",
        "colab": {
          "base_uri": "https://localhost:8080/",
          "height": 336
        },
        "outputId": "06a5d6a5-5e04-4524-aa04-3b9e72e96e66"
      },
      "source": [
        "# print(cars_meta) #'class_names'\n",
        "cars_classes = [i for i in cars_meta['class_names'][0]]\n",
        "\n",
        "df = pd.DataFrame(cars_classes,  columns =['Type'])\n",
        "\n",
        "df.info()\n",
        "df.head()"
      ],
      "execution_count": null,
      "outputs": [
        {
          "output_type": "stream",
          "text": [
            "<class 'pandas.core.frame.DataFrame'>\n",
            "RangeIndex: 196 entries, 0 to 195\n",
            "Data columns (total 1 columns):\n",
            " #   Column  Non-Null Count  Dtype \n",
            "---  ------  --------------  ----- \n",
            " 0   Type    196 non-null    object\n",
            "dtypes: object(1)\n",
            "memory usage: 1.7+ KB\n"
          ],
          "name": "stdout"
        },
        {
          "output_type": "execute_result",
          "data": {
            "text/html": [
              "<div>\n",
              "<style scoped>\n",
              "    .dataframe tbody tr th:only-of-type {\n",
              "        vertical-align: middle;\n",
              "    }\n",
              "\n",
              "    .dataframe tbody tr th {\n",
              "        vertical-align: top;\n",
              "    }\n",
              "\n",
              "    .dataframe thead th {\n",
              "        text-align: right;\n",
              "    }\n",
              "</style>\n",
              "<table border=\"1\" class=\"dataframe\">\n",
              "  <thead>\n",
              "    <tr style=\"text-align: right;\">\n",
              "      <th></th>\n",
              "      <th>Type</th>\n",
              "    </tr>\n",
              "  </thead>\n",
              "  <tbody>\n",
              "    <tr>\n",
              "      <th>0</th>\n",
              "      <td>AM General Hummer SUV 2000</td>\n",
              "    </tr>\n",
              "    <tr>\n",
              "      <th>1</th>\n",
              "      <td>Acura RL Sedan 2012</td>\n",
              "    </tr>\n",
              "    <tr>\n",
              "      <th>2</th>\n",
              "      <td>Acura TL Sedan 2012</td>\n",
              "    </tr>\n",
              "    <tr>\n",
              "      <th>3</th>\n",
              "      <td>Acura TL Type-S 2008</td>\n",
              "    </tr>\n",
              "    <tr>\n",
              "      <th>4</th>\n",
              "      <td>Acura TSX Sedan 2012</td>\n",
              "    </tr>\n",
              "  </tbody>\n",
              "</table>\n",
              "</div>"
            ],
            "text/plain": [
              "                         Type\n",
              "0  AM General Hummer SUV 2000\n",
              "1         Acura RL Sedan 2012\n",
              "2         Acura TL Sedan 2012\n",
              "3        Acura TL Type-S 2008\n",
              "4        Acura TSX Sedan 2012"
            ]
          },
          "metadata": {
            "tags": []
          },
          "execution_count": 3
        }
      ]
    },
    {
      "cell_type": "code",
      "metadata": {
        "colab": {
          "base_uri": "https://localhost:8080/"
        },
        "id": "BApz3IHo_luz",
        "outputId": "f731228a-dc48-4dce-e505-a202806831e7"
      },
      "source": [
        "df.Type.unique()\n"
      ],
      "execution_count": null,
      "outputs": [
        {
          "output_type": "execute_result",
          "data": {
            "text/plain": [
              "array(['AM General Hummer SUV 2000', 'Acura RL Sedan 2012',\n",
              "       'Acura TL Sedan 2012', 'Acura TL Type-S 2008',\n",
              "       'Acura TSX Sedan 2012', 'Acura Integra Type R 2001',\n",
              "       'Acura ZDX Hatchback 2012',\n",
              "       'Aston Martin V8 Vantage Convertible 2012',\n",
              "       'Aston Martin V8 Vantage Coupe 2012',\n",
              "       'Aston Martin Virage Convertible 2012',\n",
              "       'Aston Martin Virage Coupe 2012', 'Audi RS 4 Convertible 2008',\n",
              "       'Audi A5 Coupe 2012', 'Audi TTS Coupe 2012', 'Audi R8 Coupe 2012',\n",
              "       'Audi V8 Sedan 1994', 'Audi 100 Sedan 1994', 'Audi 100 Wagon 1994',\n",
              "       'Audi TT Hatchback 2011', 'Audi S6 Sedan 2011',\n",
              "       'Audi S5 Convertible 2012', 'Audi S5 Coupe 2012',\n",
              "       'Audi S4 Sedan 2012', 'Audi S4 Sedan 2007',\n",
              "       'Audi TT RS Coupe 2012', 'BMW ActiveHybrid 5 Sedan 2012',\n",
              "       'BMW 1 Series Convertible 2012', 'BMW 1 Series Coupe 2012',\n",
              "       'BMW 3 Series Sedan 2012', 'BMW 3 Series Wagon 2012',\n",
              "       'BMW 6 Series Convertible 2007', 'BMW X5 SUV 2007',\n",
              "       'BMW X6 SUV 2012', 'BMW M3 Coupe 2012', 'BMW M5 Sedan 2010',\n",
              "       'BMW M6 Convertible 2010', 'BMW X3 SUV 2012',\n",
              "       'BMW Z4 Convertible 2012',\n",
              "       'Bentley Continental Supersports Conv. Convertible 2012',\n",
              "       'Bentley Arnage Sedan 2009', 'Bentley Mulsanne Sedan 2011',\n",
              "       'Bentley Continental GT Coupe 2012',\n",
              "       'Bentley Continental GT Coupe 2007',\n",
              "       'Bentley Continental Flying Spur Sedan 2007',\n",
              "       'Bugatti Veyron 16.4 Convertible 2009',\n",
              "       'Bugatti Veyron 16.4 Coupe 2009', 'Buick Regal GS 2012',\n",
              "       'Buick Rainier SUV 2007', 'Buick Verano Sedan 2012',\n",
              "       'Buick Enclave SUV 2012', 'Cadillac CTS-V Sedan 2012',\n",
              "       'Cadillac SRX SUV 2012', 'Cadillac Escalade EXT Crew Cab 2007',\n",
              "       'Chevrolet Silverado 1500 Hybrid Crew Cab 2012',\n",
              "       'Chevrolet Corvette Convertible 2012',\n",
              "       'Chevrolet Corvette ZR1 2012',\n",
              "       'Chevrolet Corvette Ron Fellows Edition Z06 2007',\n",
              "       'Chevrolet Traverse SUV 2012', 'Chevrolet Camaro Convertible 2012',\n",
              "       'Chevrolet HHR SS 2010', 'Chevrolet Impala Sedan 2007',\n",
              "       'Chevrolet Tahoe Hybrid SUV 2012', 'Chevrolet Sonic Sedan 2012',\n",
              "       'Chevrolet Express Cargo Van 2007',\n",
              "       'Chevrolet Avalanche Crew Cab 2012', 'Chevrolet Cobalt SS 2010',\n",
              "       'Chevrolet Malibu Hybrid Sedan 2010',\n",
              "       'Chevrolet TrailBlazer SS 2009',\n",
              "       'Chevrolet Silverado 2500HD Regular Cab 2012',\n",
              "       'Chevrolet Silverado 1500 Classic Extended Cab 2007',\n",
              "       'Chevrolet Express Van 2007', 'Chevrolet Monte Carlo Coupe 2007',\n",
              "       'Chevrolet Malibu Sedan 2007',\n",
              "       'Chevrolet Silverado 1500 Extended Cab 2012',\n",
              "       'Chevrolet Silverado 1500 Regular Cab 2012',\n",
              "       'Chrysler Aspen SUV 2009', 'Chrysler Sebring Convertible 2010',\n",
              "       'Chrysler Town and Country Minivan 2012',\n",
              "       'Chrysler 300 SRT-8 2010', 'Chrysler Crossfire Convertible 2008',\n",
              "       'Chrysler PT Cruiser Convertible 2008', 'Daewoo Nubira Wagon 2002',\n",
              "       'Dodge Caliber Wagon 2012', 'Dodge Caliber Wagon 2007',\n",
              "       'Dodge Caravan Minivan 1997',\n",
              "       'Dodge Ram Pickup 3500 Crew Cab 2010',\n",
              "       'Dodge Ram Pickup 3500 Quad Cab 2009',\n",
              "       'Dodge Sprinter Cargo Van 2009', 'Dodge Journey SUV 2012',\n",
              "       'Dodge Dakota Crew Cab 2010', 'Dodge Dakota Club Cab 2007',\n",
              "       'Dodge Magnum Wagon 2008', 'Dodge Challenger SRT8 2011',\n",
              "       'Dodge Durango SUV 2012', 'Dodge Durango SUV 2007',\n",
              "       'Dodge Charger Sedan 2012', 'Dodge Charger SRT-8 2009',\n",
              "       'Eagle Talon Hatchback 1998', 'FIAT 500 Abarth 2012',\n",
              "       'FIAT 500 Convertible 2012', 'Ferrari FF Coupe 2012',\n",
              "       'Ferrari California Convertible 2012',\n",
              "       'Ferrari 458 Italia Convertible 2012',\n",
              "       'Ferrari 458 Italia Coupe 2012', 'Fisker Karma Sedan 2012',\n",
              "       'Ford F-450 Super Duty Crew Cab 2012',\n",
              "       'Ford Mustang Convertible 2007', 'Ford Freestar Minivan 2007',\n",
              "       'Ford Expedition EL SUV 2009', 'Ford Edge SUV 2012',\n",
              "       'Ford Ranger SuperCab 2011', 'Ford GT Coupe 2006',\n",
              "       'Ford F-150 Regular Cab 2012', 'Ford F-150 Regular Cab 2007',\n",
              "       'Ford Focus Sedan 2007', 'Ford E-Series Wagon Van 2012',\n",
              "       'Ford Fiesta Sedan 2012', 'GMC Terrain SUV 2012',\n",
              "       'GMC Savana Van 2012', 'GMC Yukon Hybrid SUV 2012',\n",
              "       'GMC Acadia SUV 2012', 'GMC Canyon Extended Cab 2012',\n",
              "       'Geo Metro Convertible 1993', 'HUMMER H3T Crew Cab 2010',\n",
              "       'HUMMER H2 SUT Crew Cab 2009', 'Honda Odyssey Minivan 2012',\n",
              "       'Honda Odyssey Minivan 2007', 'Honda Accord Coupe 2012',\n",
              "       'Honda Accord Sedan 2012', 'Hyundai Veloster Hatchback 2012',\n",
              "       'Hyundai Santa Fe SUV 2012', 'Hyundai Tucson SUV 2012',\n",
              "       'Hyundai Veracruz SUV 2012', 'Hyundai Sonata Hybrid Sedan 2012',\n",
              "       'Hyundai Elantra Sedan 2007', 'Hyundai Accent Sedan 2012',\n",
              "       'Hyundai Genesis Sedan 2012', 'Hyundai Sonata Sedan 2012',\n",
              "       'Hyundai Elantra Touring Hatchback 2012',\n",
              "       'Hyundai Azera Sedan 2012', 'Infiniti G Coupe IPL 2012',\n",
              "       'Infiniti QX56 SUV 2011', 'Isuzu Ascender SUV 2008',\n",
              "       'Jaguar XK XKR 2012', 'Jeep Patriot SUV 2012',\n",
              "       'Jeep Wrangler SUV 2012', 'Jeep Liberty SUV 2012',\n",
              "       'Jeep Grand Cherokee SUV 2012', 'Jeep Compass SUV 2012',\n",
              "       'Lamborghini Reventon Coupe 2008',\n",
              "       'Lamborghini Aventador Coupe 2012',\n",
              "       'Lamborghini Gallardo LP 570-4 Superleggera 2012',\n",
              "       'Lamborghini Diablo Coupe 2001', 'Land Rover Range Rover SUV 2012',\n",
              "       'Land Rover LR2 SUV 2012', 'Lincoln Town Car Sedan 2011',\n",
              "       'MINI Cooper Roadster Convertible 2012',\n",
              "       'Maybach Landaulet Convertible 2012', 'Mazda Tribute SUV 2011',\n",
              "       'McLaren MP4-12C Coupe 2012',\n",
              "       'Mercedes-Benz 300-Class Convertible 1993',\n",
              "       'Mercedes-Benz C-Class Sedan 2012',\n",
              "       'Mercedes-Benz SL-Class Coupe 2009',\n",
              "       'Mercedes-Benz E-Class Sedan 2012',\n",
              "       'Mercedes-Benz S-Class Sedan 2012',\n",
              "       'Mercedes-Benz Sprinter Van 2012', 'Mitsubishi Lancer Sedan 2012',\n",
              "       'Nissan Leaf Hatchback 2012', 'Nissan NV Passenger Van 2012',\n",
              "       'Nissan Juke Hatchback 2012', 'Nissan 240SX Coupe 1998',\n",
              "       'Plymouth Neon Coupe 1999', 'Porsche Panamera Sedan 2012',\n",
              "       'Ram C/V Cargo Van Minivan 2012',\n",
              "       'Rolls-Royce Phantom Drophead Coupe Convertible 2012',\n",
              "       'Rolls-Royce Ghost Sedan 2012', 'Rolls-Royce Phantom Sedan 2012',\n",
              "       'Scion xD Hatchback 2012', 'Spyker C8 Convertible 2009',\n",
              "       'Spyker C8 Coupe 2009', 'Suzuki Aerio Sedan 2007',\n",
              "       'Suzuki Kizashi Sedan 2012', 'Suzuki SX4 Hatchback 2012',\n",
              "       'Suzuki SX4 Sedan 2012', 'Tesla Model S Sedan 2012',\n",
              "       'Toyota Sequoia SUV 2012', 'Toyota Camry Sedan 2012',\n",
              "       'Toyota Corolla Sedan 2012', 'Toyota 4Runner SUV 2012',\n",
              "       'Volkswagen Golf Hatchback 2012', 'Volkswagen Golf Hatchback 1991',\n",
              "       'Volkswagen Beetle Hatchback 2012', 'Volvo C30 Hatchback 2012',\n",
              "       'Volvo 240 Sedan 1993', 'Volvo XC90 SUV 2007',\n",
              "       'smart fortwo Convertible 2012'], dtype=object)"
            ]
          },
          "metadata": {
            "tags": []
          },
          "execution_count": 4
        }
      ]
    },
    {
      "cell_type": "code",
      "metadata": {
        "colab": {
          "base_uri": "https://localhost:8080/"
        },
        "id": "FsTl1i7L_pf5",
        "outputId": "1f35aa3c-c8a3-4917-d40f-2274b7bb7de0"
      },
      "source": [
        "#Splitting company name from CarName column\n",
        "car_newclasses = df['Type'].apply(lambda x : x.split(' ')[0])\n",
        "df.insert(0,\"Brand\", car_newclasses)\n",
        "\n",
        "df.Brand.unique()"
      ],
      "execution_count": null,
      "outputs": [
        {
          "output_type": "execute_result",
          "data": {
            "text/plain": [
              "array(['AM', 'Acura', 'Aston', 'Audi', 'BMW', 'Bentley', 'Bugatti',\n",
              "       'Buick', 'Cadillac', 'Chevrolet', 'Chrysler', 'Daewoo', 'Dodge',\n",
              "       'Eagle', 'FIAT', 'Ferrari', 'Fisker', 'Ford', 'GMC', 'Geo',\n",
              "       'HUMMER', 'Honda', 'Hyundai', 'Infiniti', 'Isuzu', 'Jaguar',\n",
              "       'Jeep', 'Lamborghini', 'Land', 'Lincoln', 'MINI', 'Maybach',\n",
              "       'Mazda', 'McLaren', 'Mercedes-Benz', 'Mitsubishi', 'Nissan',\n",
              "       'Plymouth', 'Porsche', 'Ram', 'Rolls-Royce', 'Scion', 'Spyker',\n",
              "       'Suzuki', 'Tesla', 'Toyota', 'Volkswagen', 'Volvo', 'smart'],\n",
              "      dtype=object)"
            ]
          },
          "metadata": {
            "tags": []
          },
          "execution_count": 5
        }
      ]
    },
    {
      "cell_type": "code",
      "metadata": {
        "colab": {
          "base_uri": "https://localhost:8080/",
          "height": 195
        },
        "id": "x7Ftu-leAUUa",
        "outputId": "258668c4-6eb3-4630-eb03-18c38cf74eaa"
      },
      "source": [
        "df.head()"
      ],
      "execution_count": null,
      "outputs": [
        {
          "output_type": "execute_result",
          "data": {
            "text/html": [
              "<div>\n",
              "<style scoped>\n",
              "    .dataframe tbody tr th:only-of-type {\n",
              "        vertical-align: middle;\n",
              "    }\n",
              "\n",
              "    .dataframe tbody tr th {\n",
              "        vertical-align: top;\n",
              "    }\n",
              "\n",
              "    .dataframe thead th {\n",
              "        text-align: right;\n",
              "    }\n",
              "</style>\n",
              "<table border=\"1\" class=\"dataframe\">\n",
              "  <thead>\n",
              "    <tr style=\"text-align: right;\">\n",
              "      <th></th>\n",
              "      <th>Brand</th>\n",
              "      <th>Type</th>\n",
              "    </tr>\n",
              "  </thead>\n",
              "  <tbody>\n",
              "    <tr>\n",
              "      <th>0</th>\n",
              "      <td>AM</td>\n",
              "      <td>AM General Hummer SUV 2000</td>\n",
              "    </tr>\n",
              "    <tr>\n",
              "      <th>1</th>\n",
              "      <td>Acura</td>\n",
              "      <td>Acura RL Sedan 2012</td>\n",
              "    </tr>\n",
              "    <tr>\n",
              "      <th>2</th>\n",
              "      <td>Acura</td>\n",
              "      <td>Acura TL Sedan 2012</td>\n",
              "    </tr>\n",
              "    <tr>\n",
              "      <th>3</th>\n",
              "      <td>Acura</td>\n",
              "      <td>Acura TL Type-S 2008</td>\n",
              "    </tr>\n",
              "    <tr>\n",
              "      <th>4</th>\n",
              "      <td>Acura</td>\n",
              "      <td>Acura TSX Sedan 2012</td>\n",
              "    </tr>\n",
              "  </tbody>\n",
              "</table>\n",
              "</div>"
            ],
            "text/plain": [
              "   Brand                        Type\n",
              "0     AM  AM General Hummer SUV 2000\n",
              "1  Acura         Acura RL Sedan 2012\n",
              "2  Acura         Acura TL Sedan 2012\n",
              "3  Acura        Acura TL Type-S 2008\n",
              "4  Acura        Acura TSX Sedan 2012"
            ]
          },
          "metadata": {
            "tags": []
          },
          "execution_count": 8
        }
      ]
    },
    {
      "cell_type": "code",
      "metadata": {
        "colab": {
          "base_uri": "https://localhost:8080/",
          "height": 307
        },
        "id": "XN9o9pRsAvaK",
        "outputId": "eb99d8e1-6496-433a-9738-7d2bdade7d5b"
      },
      "source": [
        "plt.figure(figsize=(40, 3))\n",
        "plt.style.use(\"seaborn-pastel\")\n",
        "\n",
        "plt.subplot(1,3,1)\n",
        "plt1 = df.Brand.value_counts().plot(kind='bar')\n",
        "plt.title('Car-Make')\n",
        "plt1.set(xlabel = 'Car-Make', ylabel='Frequency of Brand')\n",
        "\n",
        "\n",
        "plt.show()"
      ],
      "execution_count": null,
      "outputs": [
        {
          "output_type": "display_data",
          "data": {
            "image/png": "[encoded data removed]",
            "text/plain": [
              "<Figure size 2880x216 with 1 Axes>"
            ]
          },
          "metadata": {
            "tags": [],
            "needs_background": "light"
          }
        }
      ]
    },
    {
      "cell_type": "code",
      "metadata": {
        "colab": {
          "base_uri": "https://localhost:8080/"
        },
        "id": "UGxgx_JYGfso",
        "outputId": "3990edee-ef9d-4056-f5c5-2a35f9a5b434"
      },
      "source": [
        "labels = df.Brand #(196, )\n",
        "\n",
        "print(np.array(labels).shape)"
      ],
      "execution_count": null,
      "outputs": [
        {
          "output_type": "stream",
          "text": [
            "(196,)\n"
          ],
          "name": "stdout"
        }
      ]
    },
    {
      "cell_type": "code",
      "metadata": {
        "colab": {
          "base_uri": "https://localhost:8080/"
        },
        "id": "qpVZ4_a2IsfC",
        "outputId": "906c6f9b-e0b1-46db-e606-a0ce6ec9779a"
      },
      "source": [
        "print(cars_train_annos)"
      ],
      "execution_count": null,
      "outputs": [
        {
          "output_type": "stream",
          "text": [
            "{'__header__': b'MATLAB 5.0 MAT-file, Platform: GLNXA64, Created on: Sat Dec 14 14:13:07 2013', '__version__': '1.0', '__globals__': [], 'annotations': array([[(array([[39]], dtype=uint8), array([[116]], dtype=uint8), array([[569]], dtype=uint16), array([[375]], dtype=uint16), array([[14]], dtype=uint8), array(['00001.jpg'], dtype='<U9')),\n",
            "        (array([[36]], dtype=uint8), array([[116]], dtype=uint8), array([[868]], dtype=uint16), array([[587]], dtype=uint16), array([[3]], dtype=uint8), array(['00002.jpg'], dtype='<U9')),\n",
            "        (array([[85]], dtype=uint8), array([[109]], dtype=uint8), array([[601]], dtype=uint16), array([[381]], dtype=uint16), array([[91]], dtype=uint8), array(['00003.jpg'], dtype='<U9')),\n",
            "        ...,\n",
            "        (array([[26]], dtype=uint8), array([[246]], dtype=uint8), array([[660]], dtype=uint16), array([[449]], dtype=uint16), array([[163]], dtype=uint8), array(['08142.jpg'], dtype='<U9')),\n",
            "        (array([[78]], dtype=uint8), array([[526]], dtype=uint16), array([[1489]], dtype=uint16), array([[908]], dtype=uint16), array([[112]], dtype=uint8), array(['08143.jpg'], dtype='<U9')),\n",
            "        (array([[20]], dtype=uint8), array([[240]], dtype=uint8), array([[862]], dtype=uint16), array([[677]], dtype=uint16), array([[17]], dtype=uint8), array(['08144.jpg'], dtype='<U9'))]],\n",
            "      dtype=[('bbox_x1', 'O'), ('bbox_y1', 'O'), ('bbox_x2', 'O'), ('bbox_y2', 'O'), ('class', 'O'), ('fname', 'O')])}\n"
          ],
          "name": "stdout"
        }
      ]
    },
    {
      "cell_type": "code",
      "metadata": {
        "colab": {
          "base_uri": "https://localhost:8080/",
          "height": 195
        },
        "id": "MlVXSsT9HTum",
        "outputId": "99dacd16-40aa-420e-d72c-d5981827ce21"
      },
      "source": [
        "\n",
        "datarow_train = [[i.flat[0] for i in line] for line in cars_train_annos['annotations'][0]]\n",
        "columns = ['bbox_x1', 'bbox_y1', 'bbox_x2', 'bbox_y2', 'classes', 'fname']\n",
        "df_train = pd.DataFrame(datarow_train, columns=columns)\n",
        "df_train['classes'] = df_train['classes']-1 # Python indexing starts on zero.\n",
        "df_train['fname'] = [f for f in df_train['fname']] #  Appending Path\n",
        "df_train.head()"
      ],
      "execution_count": null,
      "outputs": [
        {
          "output_type": "execute_result",
          "data": {
            "text/html": [
              "<div>\n",
              "<style scoped>\n",
              "    .dataframe tbody tr th:only-of-type {\n",
              "        vertical-align: middle;\n",
              "    }\n",
              "\n",
              "    .dataframe tbody tr th {\n",
              "        vertical-align: top;\n",
              "    }\n",
              "\n",
              "    .dataframe thead th {\n",
              "        text-align: right;\n",
              "    }\n",
              "</style>\n",
              "<table border=\"1\" class=\"dataframe\">\n",
              "  <thead>\n",
              "    <tr style=\"text-align: right;\">\n",
              "      <th></th>\n",
              "      <th>bbox_x1</th>\n",
              "      <th>bbox_y1</th>\n",
              "      <th>bbox_x2</th>\n",
              "      <th>bbox_y2</th>\n",
              "      <th>classes</th>\n",
              "      <th>fname</th>\n",
              "    </tr>\n",
              "  </thead>\n",
              "  <tbody>\n",
              "    <tr>\n",
              "      <th>0</th>\n",
              "      <td>39</td>\n",
              "      <td>116</td>\n",
              "      <td>569</td>\n",
              "      <td>375</td>\n",
              "      <td>13</td>\n",
              "      <td>00001.jpg</td>\n",
              "    </tr>\n",
              "    <tr>\n",
              "      <th>1</th>\n",
              "      <td>36</td>\n",
              "      <td>116</td>\n",
              "      <td>868</td>\n",
              "      <td>587</td>\n",
              "      <td>2</td>\n",
              "      <td>00002.jpg</td>\n",
              "    </tr>\n",
              "    <tr>\n",
              "      <th>2</th>\n",
              "      <td>85</td>\n",
              "      <td>109</td>\n",
              "      <td>601</td>\n",
              "      <td>381</td>\n",
              "      <td>90</td>\n",
              "      <td>00003.jpg</td>\n",
              "    </tr>\n",
              "    <tr>\n",
              "      <th>3</th>\n",
              "      <td>621</td>\n",
              "      <td>393</td>\n",
              "      <td>1484</td>\n",
              "      <td>1096</td>\n",
              "      <td>133</td>\n",
              "      <td>00004.jpg</td>\n",
              "    </tr>\n",
              "    <tr>\n",
              "      <th>4</th>\n",
              "      <td>14</td>\n",
              "      <td>36</td>\n",
              "      <td>133</td>\n",
              "      <td>99</td>\n",
              "      <td>105</td>\n",
              "      <td>00005.jpg</td>\n",
              "    </tr>\n",
              "  </tbody>\n",
              "</table>\n",
              "</div>"
            ],
            "text/plain": [
              "   bbox_x1  bbox_y1  bbox_x2  bbox_y2  classes      fname\n",
              "0       39      116      569      375       13  00001.jpg\n",
              "1       36      116      868      587        2  00002.jpg\n",
              "2       85      109      601      381       90  00003.jpg\n",
              "3      621      393     1484     1096      133  00004.jpg\n",
              "4       14       36      133       99      105  00005.jpg"
            ]
          },
          "metadata": {
            "tags": []
          },
          "execution_count": 7
        }
      ]
    },
    {
      "cell_type": "code",
      "metadata": {
        "colab": {
          "base_uri": "https://localhost:8080/"
        },
        "id": "F4aychPnIAQ6",
        "outputId": "c05cbeed-7888-43ab-ba76-1c8bac62e07b"
      },
      "source": [
        "df_train = df_train.merge(labels, left_on='classes', right_index=True, how='left')\n",
        "df_train = df_train.sort_index()\n",
        "df_train.info()"
      ],
      "execution_count": null,
      "outputs": [
        {
          "output_type": "stream",
          "text": [
            "<class 'pandas.core.frame.DataFrame'>\n",
            "RangeIndex: 8144 entries, 0 to 8143\n",
            "Data columns (total 7 columns):\n",
            " #   Column   Non-Null Count  Dtype \n",
            "---  ------   --------------  ----- \n",
            " 0   bbox_x1  8144 non-null   int64 \n",
            " 1   bbox_y1  8144 non-null   int64 \n",
            " 2   bbox_x2  8144 non-null   int64 \n",
            " 3   bbox_y2  8144 non-null   int64 \n",
            " 4   classes  8144 non-null   int64 \n",
            " 5   fname    8144 non-null   object\n",
            " 6   Brand    8144 non-null   object\n",
            "dtypes: int64(5), object(2)\n",
            "memory usage: 445.5+ KB\n"
          ],
          "name": "stdout"
        }
      ]
    },
    {
      "cell_type": "code",
      "metadata": {
        "colab": {
          "base_uri": "https://localhost:8080/"
        },
        "id": "2AV4PEHrIPL2",
        "outputId": "45333e74-38f8-4b5e-c041-82edb041a6f9"
      },
      "source": [
        "print(datarow_train[0])"
      ],
      "execution_count": null,
      "outputs": [
        {
          "output_type": "stream",
          "text": [
            "[39, 116, 569, 375, 14, '00001.jpg']\n"
          ],
          "name": "stdout"
        }
      ]
    },
    {
      "cell_type": "code",
      "metadata": {
        "colab": {
          "base_uri": "https://localhost:8080/",
          "height": 195
        },
        "id": "ejYOLnP7Ko7M",
        "outputId": "34ca399a-52bf-4cd8-ec30-8bc9c7e17880"
      },
      "source": [
        "datarow_test = [[i.flat[0] for i in line] for line in cars_test_annos['annotations'][0]]\n",
        "\n",
        "columns = ['bbox_x1', 'bbox_y1', 'bbox_x2', 'bbox_y2','classes', 'fname']\n",
        "df_test = pd.DataFrame(datarow_test, columns=columns)\n",
        "df_test['classes'] = df_test['classes']-1 # Python indexing starts on zero.\n",
        "df_test['fname'] = [f for f in df_test['fname']] #  Appending Path\n",
        "df_test.head()"
      ],
      "execution_count": null,
      "outputs": [
        {
          "output_type": "execute_result",
          "data": {
            "text/html": [
              "<div>\n",
              "<style scoped>\n",
              "    .dataframe tbody tr th:only-of-type {\n",
              "        vertical-align: middle;\n",
              "    }\n",
              "\n",
              "    .dataframe tbody tr th {\n",
              "        vertical-align: top;\n",
              "    }\n",
              "\n",
              "    .dataframe thead th {\n",
              "        text-align: right;\n",
              "    }\n",
              "</style>\n",
              "<table border=\"1\" class=\"dataframe\">\n",
              "  <thead>\n",
              "    <tr style=\"text-align: right;\">\n",
              "      <th></th>\n",
              "      <th>bbox_x1</th>\n",
              "      <th>bbox_y1</th>\n",
              "      <th>bbox_x2</th>\n",
              "      <th>bbox_y2</th>\n",
              "      <th>classes</th>\n",
              "      <th>fname</th>\n",
              "    </tr>\n",
              "  </thead>\n",
              "  <tbody>\n",
              "    <tr>\n",
              "      <th>0</th>\n",
              "      <td>30</td>\n",
              "      <td>52</td>\n",
              "      <td>246</td>\n",
              "      <td>147</td>\n",
              "      <td>180</td>\n",
              "      <td>00001.jpg</td>\n",
              "    </tr>\n",
              "    <tr>\n",
              "      <th>1</th>\n",
              "      <td>100</td>\n",
              "      <td>19</td>\n",
              "      <td>576</td>\n",
              "      <td>203</td>\n",
              "      <td>102</td>\n",
              "      <td>00002.jpg</td>\n",
              "    </tr>\n",
              "    <tr>\n",
              "      <th>2</th>\n",
              "      <td>51</td>\n",
              "      <td>105</td>\n",
              "      <td>968</td>\n",
              "      <td>659</td>\n",
              "      <td>144</td>\n",
              "      <td>00003.jpg</td>\n",
              "    </tr>\n",
              "    <tr>\n",
              "      <th>3</th>\n",
              "      <td>67</td>\n",
              "      <td>84</td>\n",
              "      <td>581</td>\n",
              "      <td>407</td>\n",
              "      <td>186</td>\n",
              "      <td>00004.jpg</td>\n",
              "    </tr>\n",
              "    <tr>\n",
              "      <th>4</th>\n",
              "      <td>140</td>\n",
              "      <td>151</td>\n",
              "      <td>593</td>\n",
              "      <td>339</td>\n",
              "      <td>184</td>\n",
              "      <td>00005.jpg</td>\n",
              "    </tr>\n",
              "  </tbody>\n",
              "</table>\n",
              "</div>"
            ],
            "text/plain": [
              "   bbox_x1  bbox_y1  bbox_x2  bbox_y2  classes      fname\n",
              "0       30       52      246      147      180  00001.jpg\n",
              "1      100       19      576      203      102  00002.jpg\n",
              "2       51      105      968      659      144  00003.jpg\n",
              "3       67       84      581      407      186  00004.jpg\n",
              "4      140      151      593      339      184  00005.jpg"
            ]
          },
          "metadata": {
            "tags": []
          },
          "execution_count": 10
        }
      ]
    },
    {
      "cell_type": "code",
      "metadata": {
        "colab": {
          "base_uri": "https://localhost:8080/",
          "height": 195
        },
        "id": "qfoFe8tYUwSE",
        "outputId": "0f9654f0-02ea-4a82-a8bc-afe3eb2c5c94"
      },
      "source": [
        "df_test = df_test.merge(labels, left_on='classes', right_index=True, how='left')\n",
        "df_test = df_test.sort_index()\n",
        "df_test.head()"
      ],
      "execution_count": null,
      "outputs": [
        {
          "output_type": "execute_result",
          "data": {
            "text/html": [
              "<div>\n",
              "<style scoped>\n",
              "    .dataframe tbody tr th:only-of-type {\n",
              "        vertical-align: middle;\n",
              "    }\n",
              "\n",
              "    .dataframe tbody tr th {\n",
              "        vertical-align: top;\n",
              "    }\n",
              "\n",
              "    .dataframe thead th {\n",
              "        text-align: right;\n",
              "    }\n",
              "</style>\n",
              "<table border=\"1\" class=\"dataframe\">\n",
              "  <thead>\n",
              "    <tr style=\"text-align: right;\">\n",
              "      <th></th>\n",
              "      <th>bbox_x1</th>\n",
              "      <th>bbox_y1</th>\n",
              "      <th>bbox_x2</th>\n",
              "      <th>bbox_y2</th>\n",
              "      <th>classes</th>\n",
              "      <th>fname</th>\n",
              "      <th>Brand</th>\n",
              "    </tr>\n",
              "  </thead>\n",
              "  <tbody>\n",
              "    <tr>\n",
              "      <th>0</th>\n",
              "      <td>30</td>\n",
              "      <td>52</td>\n",
              "      <td>246</td>\n",
              "      <td>147</td>\n",
              "      <td>180</td>\n",
              "      <td>00001.jpg</td>\n",
              "      <td>Suzuki</td>\n",
              "    </tr>\n",
              "    <tr>\n",
              "      <th>1</th>\n",
              "      <td>100</td>\n",
              "      <td>19</td>\n",
              "      <td>576</td>\n",
              "      <td>203</td>\n",
              "      <td>102</td>\n",
              "      <td>00002.jpg</td>\n",
              "      <td>Ferrari</td>\n",
              "    </tr>\n",
              "    <tr>\n",
              "      <th>2</th>\n",
              "      <td>51</td>\n",
              "      <td>105</td>\n",
              "      <td>968</td>\n",
              "      <td>659</td>\n",
              "      <td>144</td>\n",
              "      <td>00003.jpg</td>\n",
              "      <td>Jeep</td>\n",
              "    </tr>\n",
              "    <tr>\n",
              "      <th>3</th>\n",
              "      <td>67</td>\n",
              "      <td>84</td>\n",
              "      <td>581</td>\n",
              "      <td>407</td>\n",
              "      <td>186</td>\n",
              "      <td>00004.jpg</td>\n",
              "      <td>Toyota</td>\n",
              "    </tr>\n",
              "    <tr>\n",
              "      <th>4</th>\n",
              "      <td>140</td>\n",
              "      <td>151</td>\n",
              "      <td>593</td>\n",
              "      <td>339</td>\n",
              "      <td>184</td>\n",
              "      <td>00005.jpg</td>\n",
              "      <td>Tesla</td>\n",
              "    </tr>\n",
              "  </tbody>\n",
              "</table>\n",
              "</div>"
            ],
            "text/plain": [
              "   bbox_x1  bbox_y1  bbox_x2  bbox_y2  classes      fname    Brand\n",
              "0       30       52      246      147      180  00001.jpg   Suzuki\n",
              "1      100       19      576      203      102  00002.jpg  Ferrari\n",
              "2       51      105      968      659      144  00003.jpg     Jeep\n",
              "3       67       84      581      407      186  00004.jpg   Toyota\n",
              "4      140      151      593      339      184  00005.jpg    Tesla"
            ]
          },
          "metadata": {
            "tags": []
          },
          "execution_count": 11
        }
      ]
    },
    {
      "cell_type": "code",
      "metadata": {
        "colab": {
          "base_uri": "https://localhost:8080/"
        },
        "id": "etCJvduMNxHm",
        "outputId": "381fd1bc-247e-4c2c-9d47-e8e4f8b571a0"
      },
      "source": [
        "df_test.info()"
      ],
      "execution_count": null,
      "outputs": [
        {
          "output_type": "stream",
          "text": [
            "<class 'pandas.core.frame.DataFrame'>\n",
            "RangeIndex: 8041 entries, 0 to 8040\n",
            "Data columns (total 7 columns):\n",
            " #   Column   Non-Null Count  Dtype \n",
            "---  ------   --------------  ----- \n",
            " 0   bbox_x1  8041 non-null   int64 \n",
            " 1   bbox_y1  8041 non-null   int64 \n",
            " 2   bbox_x2  8041 non-null   int64 \n",
            " 3   bbox_y2  8041 non-null   int64 \n",
            " 4   classes  8041 non-null   int64 \n",
            " 5   fname    8041 non-null   object\n",
            " 6   Brand    8041 non-null   object\n",
            "dtypes: int64(5), object(2)\n",
            "memory usage: 439.9+ KB\n"
          ],
          "name": "stdout"
        }
      ]
    },
    {
      "cell_type": "code",
      "metadata": {
        "colab": {
          "base_uri": "https://localhost:8080/"
        },
        "id": "pEyCikkTNzwQ",
        "outputId": "74f48b33-2fad-4f30-fe86-96da0bb96cd0"
      },
      "source": [
        "df_train.info()"
      ],
      "execution_count": null,
      "outputs": [
        {
          "output_type": "stream",
          "text": [
            "<class 'pandas.core.frame.DataFrame'>\n",
            "RangeIndex: 8144 entries, 0 to 8143\n",
            "Data columns (total 7 columns):\n",
            " #   Column   Non-Null Count  Dtype \n",
            "---  ------   --------------  ----- \n",
            " 0   bbox_x1  8144 non-null   int64 \n",
            " 1   bbox_y1  8144 non-null   int64 \n",
            " 2   bbox_x2  8144 non-null   int64 \n",
            " 3   bbox_y2  8144 non-null   int64 \n",
            " 4   classes  8144 non-null   int64 \n",
            " 5   fname    8144 non-null   object\n",
            " 6   Brand    8144 non-null   object\n",
            "dtypes: int64(5), object(2)\n",
            "memory usage: 445.5+ KB\n"
          ],
          "name": "stdout"
        }
      ]
    },
    {
      "cell_type": "code",
      "metadata": {
        "colab": {
          "base_uri": "https://localhost:8080/",
          "height": 342
        },
        "id": "EAKj_yZDP2Q6",
        "outputId": "ec354ae7-ed19-4e94-8751-9a9ad0cb32ec"
      },
      "source": [
        "plt.figure(figsize=(40, 3))\n",
        "plt.style.use(\"seaborn-pastel\")\n",
        "\n",
        "plt.subplot(1,3,1)\n",
        "plt1 = df_train.Brand.value_counts().plot(kind='bar')\n",
        "plt.title('Car-Make')\n",
        "plt1.set(xlabel = 'Car-Make', ylabel='Frequency of Car-make in Training set')\n"
      ],
      "execution_count": null,
      "outputs": [
        {
          "output_type": "execute_result",
          "data": {
            "text/plain": [
              "[Text(0, 0.5, 'Frequency of Car-make in Training set'),\n",
              " Text(0.5, 0, 'Car-Make')]"
            ]
          },
          "metadata": {
            "tags": []
          },
          "execution_count": 19
        },
        {
          "output_type": "display_data",
          "data": {
            "image/png": "[encoded data removed]",
            "text/plain": [
              "<Figure size 2880x216 with 1 Axes>"
            ]
          },
          "metadata": {
            "tags": [],
            "needs_background": "light"
          }
        }
      ]
    },
    {
      "cell_type": "code",
      "metadata": {
        "colab": {
          "base_uri": "https://localhost:8080/"
        },
        "id": "S3taAeXsVJgt",
        "outputId": "f17e6e53-1249-46ab-ff03-d4d25f2034b3"
      },
      "source": [
        "col_fname = df_train['fname'].values\n",
        "# col_brand = df_train['Brand'].values\n",
        "\n",
        "print(path_train + col_fname[0])  "
      ],
      "execution_count": null,
      "outputs": [
        {
          "output_type": "stream",
          "text": [
            "/content/drive/My Drive/input/train/00001.jpg\n"
          ],
          "name": "stdout"
        }
      ]
    },
    {
      "cell_type": "code",
      "metadata": {
        "colab": {
          "base_uri": "https://localhost:8080/"
        },
        "id": "tAiHe-shf_yh",
        "outputId": "25f33dda-5a77-436b-e61f-e5c274682286"
      },
      "source": [
        "list_ds = tf.data.Dataset.list_files(str(pathlib.Path(path_train+'*.jpg')), shuffle=False)\n",
        "\n",
        "# for f in list_ds:\n",
        "#   print(f.numpy())\n",
        "\n",
        "print(list_ds)\n"
      ],
      "execution_count": null,
      "outputs": [
        {
          "output_type": "stream",
          "text": [
            "<TensorSliceDataset shapes: (), types: tf.string>\n"
          ],
          "name": "stdout"
        }
      ]
    },
    {
      "cell_type": "code",
      "metadata": {
        "colab": {
          "base_uri": "https://localhost:8080/"
        },
        "id": "KP9OyynMjJPt",
        "outputId": "9f53cff9-23a6-4156-ef72-7248bc9f1bf1"
      },
      "source": [
        "\n",
        "## PATH : Path to directory containing images\n",
        "def process_path(path) :\n",
        "  image = tf.io.read_file(path)\n",
        "  image = tf.image.decode_jpeg(image, channels=3)\n",
        "  image = tf.image.resize(image, [224,224], preserve_aspect_ratio=False, antialias=False, name=None)\n",
        "  image /= 255\n",
        "  return image\n",
        "    # train_label = df_train.classes[idx.numpy()]\n",
        "\n",
        "\n",
        "indices_tr = df_train.classes.values\n",
        "\n",
        "lbs_train = tf.one_hot(indices_tr, 196,\n",
        "           on_value=1.0, off_value=0.0,\n",
        "           axis=-1)\n",
        "\n",
        "\n",
        "Y_train = tf.data.Dataset.from_tensor_slices(lbs_train).batch(64)\n",
        "X_train = list_ds.map(process_path).batch(64)\n",
        "train_ds = tf.data.Dataset.zip((X_train, Y_train))\n",
        "\n",
        "\n",
        "list_test = tf.data.Dataset.list_files(str(pathlib.Path(path_test+'*.jpg')), shuffle=False)\n",
        "\n",
        "\n",
        "indices_te = df_test.classes.values\n",
        "\n",
        "lbs_test = tf.one_hot(indices_te, 196,\n",
        "           on_value=1.0, off_value=0.0,\n",
        "           axis=-1)\n",
        "\n",
        "Y_test = tf.data.Dataset.from_tensor_slices(lbs_test).batch(64)\n",
        "X_test = list_test.map(process_path).batch(64)\n",
        "test_ds = tf.data.Dataset.zip((X_test, Y_test))\n",
        "\n",
        "print(len(X_train), X_train)\n",
        "print(Y_train)\n",
        "print(len(X_test), X_test)\n",
        "print(Y_test)\n",
        "print(\"train_ds: \", train_ds, \"test_ds: \", test_ds)\n",
        "print(\"len train_ds: \", len(train_ds), \"len test_ds: \", len(test_ds))"
      ],
      "execution_count": null,
      "outputs": [
        {
          "output_type": "stream",
          "text": [
            "128 <BatchDataset shapes: (None, 224, 224, 3), types: tf.float32>\n",
            "<BatchDataset shapes: (None, 196), types: tf.float32>\n",
            "126 <BatchDataset shapes: (None, 224, 224, 3), types: tf.float32>\n",
            "<BatchDataset shapes: (None, 196), types: tf.float32>\n",
            "train_ds:  <ZipDataset shapes: ((None, 224, 224, 3), (None, 196)), types: (tf.float32, tf.float32)> test_ds:  <ZipDataset shapes: ((None, 224, 224, 3), (None, 196)), types: (tf.float32, tf.float32)>\n",
            "len train_ds:  128 len test_ds:  126\n"
          ],
          "name": "stdout"
        }
      ]
    },
    {
      "cell_type": "code",
      "metadata": {
        "colab": {
          "base_uri": "https://localhost:8080/"
        },
        "id": "nU_P6A8lzjbR",
        "outputId": "0f6f5fb5-a902-4613-bc16-66f6077fb0df"
      },
      "source": [
        "num_classes = labels.shape[0]\n",
        "print(num_classes)"
      ],
      "execution_count": null,
      "outputs": [
        {
          "output_type": "stream",
          "text": [
            "196\n"
          ],
          "name": "stdout"
        }
      ]
    },
    {
      "cell_type": "code",
      "metadata": {
        "id": "1dU159vTjRmp"
      },
      "source": [
        "from keras.callbacks import ModelCheckpoint\n",
        "best_model = ModelCheckpoint('/content/drive/MyDrive/Callback',\n",
        "                             monitor='val_loss',\n",
        "                             mode='min',\n",
        "                             save_best_only=True,\n",
        "                             verbose=1)"
      ],
      "execution_count": null,
      "outputs": []
    },
    {
      "cell_type": "code",
      "metadata": {
        "id": "ufYs60q7JZfh"
      },
      "source": [
        "early_stopping_callback = tf.keras.callbacks.EarlyStopping(\n",
        "    patience=5,\n",
        "    monitor='val_acc',\n",
        "    restore_best_weights=True,\n",
        "    verbose=1\n",
        ")"
      ],
      "execution_count": null,
      "outputs": []
    },
    {
      "cell_type": "code",
      "metadata": {
        "id": "RydBaEiSjR6e"
      },
      "source": [
        "from keras.callbacks import ModelCheckpoint\n",
        "# autosave best Model\n",
        "best_model_file = \"resnet50.h5\"\n",
        "best_model = ModelCheckpoint(best_model_file, monitor='val_acc', verbose=1, save_best_only=True)\n"
      ],
      "execution_count": null,
      "outputs": []
    },
    {
      "cell_type": "code",
      "metadata": {
        "colab": {
          "base_uri": "https://localhost:8080/"
        },
        "id": "b5qvwdc0ekm8",
        "outputId": "3bed83ca-a800-43a0-c9f1-ee2ada4ced02"
      },
      "source": [
        "model = Sequential()\n",
        "\n",
        "model.add(ResNet50(include_top=False, pooling='avg', weights='imagenet',  input_shape=(224,224,3)))\n",
        "model.add(Dense(num_classes, activation='softmax'))\n",
        "\n",
        "\n",
        "model.layers[0].trainable = False"
      ],
      "execution_count": null,
      "outputs": [
        {
          "output_type": "stream",
          "text": [
            "Downloading data from https://storage.googleapis.com/tensorflow/keras-applications/resnet/resnet50_weights_tf_dim_ordering_tf_kernels_notop.h5\n",
            "94773248/94765736 [==============================] - 1s 0us/step\n"
          ],
          "name": "stdout"
        }
      ]
    },
    {
      "cell_type": "code",
      "metadata": {
        "colab": {
          "base_uri": "https://localhost:8080/"
        },
        "id": "_twpgmJxKOvs",
        "outputId": "723f9b88-f8bb-4615-e329-b17f38eae263"
      },
      "source": [
        "opt = keras.optimizers.Adam(learning_rate=0.01)\n",
        "model.compile(optimizer=opt, loss='categorical_crossentropy', metrics=['accuracy'])\n",
        "model.summary()"
      ],
      "execution_count": null,
      "outputs": [
        {
          "output_type": "stream",
          "text": [
            "Model: \"sequential\"\n",
            "_________________________________________________________________\n",
            "Layer (type)                 Output Shape              Param #   \n",
            "=================================================================\n",
            "resnet50 (Functional)        (None, 2048)              23587712  \n",
            "_________________________________________________________________\n",
            "dense (Dense)                (None, 196)               401604    \n",
            "=================================================================\n",
            "Total params: 23,989,316\n",
            "Trainable params: 401,604\n",
            "Non-trainable params: 23,587,712\n",
            "_________________________________________________________________\n"
          ],
          "name": "stdout"
        }
      ]
    },
    {
      "cell_type": "code",
      "metadata": {
        "colab": {
          "base_uri": "https://localhost:8080/"
        },
        "id": "gmbx2HObbmaB",
        "outputId": "34ef7d70-d32e-4920-8013-c4a7e71ea423"
      },
      "source": [
        "model_history = model.fit(train_ds, epochs=10, callbacks=[early_stopping_callback])\n",
        "\n"
      ],
      "execution_count": null,
      "outputs": [
        {
          "output_type": "stream",
          "text": [
            "Epoch 1/10\n",
            "128/128 [==============================] - ETA: 0s - loss: 6.3802 - accuracy: 0.0072 WARNING:tensorflow:Early stopping conditioned on metric `val_accuracy` which is not available. Available metrics are: loss,accuracy\n",
            "128/128 [==============================] - 2442s 19s/step - loss: 6.3802 - accuracy: 0.0072\n",
            "Epoch 2/10\n",
            "128/128 [==============================] - ETA: 0s - loss: 5.9353 - accuracy: 0.0165WARNING:tensorflow:Early stopping conditioned on metric `val_accuracy` which is not available. Available metrics are: loss,accuracy\n",
            "128/128 [==============================] - 44s 343ms/step - loss: 5.9353 - accuracy: 0.0165\n",
            "Epoch 3/10\n",
            "128/128 [==============================] - ETA: 0s - loss: 5.7915 - accuracy: 0.0237WARNING:tensorflow:Early stopping conditioned on metric `val_accuracy` which is not available. Available metrics are: loss,accuracy\n",
            "128/128 [==============================] - 43s 335ms/step - loss: 5.7915 - accuracy: 0.0237\n",
            "Epoch 4/10\n",
            "128/128 [==============================] - ETA: 0s - loss: 5.6718 - accuracy: 0.0303WARNING:tensorflow:Early stopping conditioned on metric `val_accuracy` which is not available. Available metrics are: loss,accuracy\n",
            "128/128 [==============================] - 43s 334ms/step - loss: 5.6718 - accuracy: 0.0303\n",
            "Epoch 5/10\n",
            "128/128 [==============================] - ETA: 0s - loss: 5.5677 - accuracy: 0.0371WARNING:tensorflow:Early stopping conditioned on metric `val_accuracy` which is not available. Available metrics are: loss,accuracy\n",
            "128/128 [==============================] - 43s 332ms/step - loss: 5.5677 - accuracy: 0.0371\n",
            "Epoch 6/10\n",
            "128/128 [==============================] - ETA: 0s - loss: 5.4740 - accuracy: 0.0422WARNING:tensorflow:Early stopping conditioned on metric `val_accuracy` which is not available. Available metrics are: loss,accuracy\n",
            "128/128 [==============================] - 42s 329ms/step - loss: 5.4740 - accuracy: 0.0422\n",
            "Epoch 7/10\n",
            "128/128 [==============================] - ETA: 0s - loss: 5.3880 - accuracy: 0.0522WARNING:tensorflow:Early stopping conditioned on metric `val_accuracy` which is not available. Available metrics are: loss,accuracy\n",
            "128/128 [==============================] - 43s 333ms/step - loss: 5.3880 - accuracy: 0.0522\n",
            "Epoch 8/10\n",
            "128/128 [==============================] - ETA: 0s - loss: 5.3087 - accuracy: 0.0583WARNING:tensorflow:Early stopping conditioned on metric `val_accuracy` which is not available. Available metrics are: loss,accuracy\n",
            "128/128 [==============================] - 43s 335ms/step - loss: 5.3087 - accuracy: 0.0583\n",
            "Epoch 9/10\n",
            "128/128 [==============================] - ETA: 0s - loss: 5.2350 - accuracy: 0.0641WARNING:tensorflow:Early stopping conditioned on metric `val_accuracy` which is not available. Available metrics are: loss,accuracy\n",
            "128/128 [==============================] - 43s 339ms/step - loss: 5.2350 - accuracy: 0.0641\n",
            "Epoch 10/10\n",
            "128/128 [==============================] - ETA: 0s - loss: 5.1658 - accuracy: 0.0702WARNING:tensorflow:Early stopping conditioned on metric `val_accuracy` which is not available. Available metrics are: loss,accuracy\n",
            "128/128 [==============================] - 44s 340ms/step - loss: 5.1658 - accuracy: 0.0702\n"
          ],
          "name": "stdout"
        }
      ]
    },
    {
      "cell_type": "code",
      "metadata": {
        "colab": {
          "base_uri": "https://localhost:8080/",
          "height": 279
        },
        "id": "emwNP6YD8cEo",
        "outputId": "a68dac0c-6abf-4f4c-bdbc-063e06441fc6"
      },
      "source": [
        "plt.figure(0)\n",
        "plt.plot(model_history.history['accuracy'],'r')\n",
        "plt.plot(model_history.history['loss'],'g')\n",
        "plt.xticks(np.arange(0, 10, 1.0))\n",
        "plt.rcParams['figure.figsize'] = (8, 6)\n",
        "plt.xlabel(\"Num of Epochs\")\n",
        "plt.ylabel(\"Accuracy\")\n",
        "plt.legend(['accuracy','loss'])\n",
        "  \n",
        "plt.show()"
      ],
      "execution_count": null,
      "outputs": [
        {
          "output_type": "display_data",
          "data": {
            "image/png": "[encoded data removed]",
            "text/plain": [
              "<Figure size 432x288 with 1 Axes>"
            ]
          },
          "metadata": {
            "tags": [],
            "needs_background": "light"
          }
        }
      ]
    },
    {
      "cell_type": "code",
      "metadata": {
        "id": "G2PjLELgOYVY"
      },
      "source": [
        "model.save(\"/content/drive/MyDrive/input/resnet50.h5\", save_format=\"h5\")\n",
        "\n",
        "# from tensorflow import keras\n",
        "# load_model = keras.models.load_model('/content/drive/MyDrive/input/resnet50.h5')"
      ],
      "execution_count": null,
      "outputs": []
    },
    {
      "cell_type": "code",
      "metadata": {
        "id": "uoXoBHtuc74A"
      },
      "source": [
        "base_model = tf.keras.applications.MobileNetV2(include_top=True,\n",
        "                                                   input_shape=(224, 224, 3),\n",
        "                                                   weights='imagenet')\n",
        "base_output = base_model.layers[-2]\n",
        "outputs = tf.keras.layers.Dense(num_classes,\n",
        "                                    activation='softmax')(base_output.output)\n",
        "\n",
        "model2 = tf.keras.models.Model(inputs=base_model.inputs,\n",
        "                                  outputs=outputs)\n"
      ],
      "execution_count": null,
      "outputs": []
    },
    {
      "cell_type": "code",
      "metadata": {
        "colab": {
          "base_uri": "https://localhost:8080/"
        },
        "id": "-GDlFXEPeG7I",
        "outputId": "83e2fcd8-fcf9-43e4-806b-26800569b106"
      },
      "source": [
        "\n",
        "model2.summary()\n"
      ],
      "execution_count": null,
      "outputs": [
        {
          "output_type": "stream",
          "text": [
            "Model: \"functional_15\"\n",
            "__________________________________________________________________________________________________\n",
            "Layer (type)                    Output Shape         Param #     Connected to                     \n",
            "==================================================================================================\n",
            "input_9 (InputLayer)            [(None, 224, 224, 3) 0                                            \n",
            "__________________________________________________________________________________________________\n",
            "Conv1_pad (ZeroPadding2D)       (None, 225, 225, 3)  0           input_9[0][0]                    \n",
            "__________________________________________________________________________________________________\n",
            "Conv1 (Conv2D)                  (None, 112, 112, 32) 864         Conv1_pad[0][0]                  \n",
            "__________________________________________________________________________________________________\n",
            "bn_Conv1 (BatchNormalization)   (None, 112, 112, 32) 128         Conv1[0][0]                      \n",
            "__________________________________________________________________________________________________\n",
            "Conv1_relu (ReLU)               (None, 112, 112, 32) 0           bn_Conv1[0][0]                   \n",
            "__________________________________________________________________________________________________\n",
            "expanded_conv_depthwise (Depthw (None, 112, 112, 32) 288         Conv1_relu[0][0]                 \n",
            "__________________________________________________________________________________________________\n",
            "expanded_conv_depthwise_BN (Bat (None, 112, 112, 32) 128         expanded_conv_depthwise[0][0]    \n",
            "__________________________________________________________________________________________________\n",
            "expanded_conv_depthwise_relu (R (None, 112, 112, 32) 0           expanded_conv_depthwise_BN[0][0] \n",
            "__________________________________________________________________________________________________\n",
            "expanded_conv_project (Conv2D)  (None, 112, 112, 16) 512         expanded_conv_depthwise_relu[0][0\n",
            "__________________________________________________________________________________________________\n",
            "expanded_conv_project_BN (Batch (None, 112, 112, 16) 64          expanded_conv_project[0][0]      \n",
            "__________________________________________________________________________________________________\n",
            "block_1_expand (Conv2D)         (None, 112, 112, 96) 1536        expanded_conv_project_BN[0][0]   \n",
            "__________________________________________________________________________________________________\n",
            "block_1_expand_BN (BatchNormali (None, 112, 112, 96) 384         block_1_expand[0][0]             \n",
            "__________________________________________________________________________________________________\n",
            "block_1_expand_relu (ReLU)      (None, 112, 112, 96) 0           block_1_expand_BN[0][0]          \n",
            "__________________________________________________________________________________________________\n",
            "block_1_pad (ZeroPadding2D)     (None, 113, 113, 96) 0           block_1_expand_relu[0][0]        \n",
            "__________________________________________________________________________________________________\n",
            "block_1_depthwise (DepthwiseCon (None, 56, 56, 96)   864         block_1_pad[0][0]                \n",
            "__________________________________________________________________________________________________\n",
            "block_1_depthwise_BN (BatchNorm (None, 56, 56, 96)   384         block_1_depthwise[0][0]          \n",
            "__________________________________________________________________________________________________\n",
            "block_1_depthwise_relu (ReLU)   (None, 56, 56, 96)   0           block_1_depthwise_BN[0][0]       \n",
            "__________________________________________________________________________________________________\n",
            "block_1_project (Conv2D)        (None, 56, 56, 24)   2304        block_1_depthwise_relu[0][0]     \n",
            "__________________________________________________________________________________________________\n",
            "block_1_project_BN (BatchNormal (None, 56, 56, 24)   96          block_1_project[0][0]            \n",
            "__________________________________________________________________________________________________\n",
            "block_2_expand (Conv2D)         (None, 56, 56, 144)  3456        block_1_project_BN[0][0]         \n",
            "__________________________________________________________________________________________________\n",
            "block_2_expand_BN (BatchNormali (None, 56, 56, 144)  576         block_2_expand[0][0]             \n",
            "__________________________________________________________________________________________________\n",
            "block_2_expand_relu (ReLU)      (None, 56, 56, 144)  0           block_2_expand_BN[0][0]          \n",
            "__________________________________________________________________________________________________\n",
            "block_2_depthwise (DepthwiseCon (None, 56, 56, 144)  1296        block_2_expand_relu[0][0]        \n",
            "__________________________________________________________________________________________________\n",
            "block_2_depthwise_BN (BatchNorm (None, 56, 56, 144)  576         block_2_depthwise[0][0]          \n",
            "__________________________________________________________________________________________________\n",
            "block_2_depthwise_relu (ReLU)   (None, 56, 56, 144)  0           block_2_depthwise_BN[0][0]       \n",
            "__________________________________________________________________________________________________\n",
            "block_2_project (Conv2D)        (None, 56, 56, 24)   3456        block_2_depthwise_relu[0][0]     \n",
            "__________________________________________________________________________________________________\n",
            "block_2_project_BN (BatchNormal (None, 56, 56, 24)   96          block_2_project[0][0]            \n",
            "__________________________________________________________________________________________________\n",
            "block_2_add (Add)               (None, 56, 56, 24)   0           block_1_project_BN[0][0]         \n",
            "                                                                 block_2_project_BN[0][0]         \n",
            "__________________________________________________________________________________________________\n",
            "block_3_expand (Conv2D)         (None, 56, 56, 144)  3456        block_2_add[0][0]                \n",
            "__________________________________________________________________________________________________\n",
            "block_3_expand_BN (BatchNormali (None, 56, 56, 144)  576         block_3_expand[0][0]             \n",
            "__________________________________________________________________________________________________\n",
            "block_3_expand_relu (ReLU)      (None, 56, 56, 144)  0           block_3_expand_BN[0][0]          \n",
            "__________________________________________________________________________________________________\n",
            "block_3_pad (ZeroPadding2D)     (None, 57, 57, 144)  0           block_3_expand_relu[0][0]        \n",
            "__________________________________________________________________________________________________\n",
            "block_3_depthwise (DepthwiseCon (None, 28, 28, 144)  1296        block_3_pad[0][0]                \n",
            "__________________________________________________________________________________________________\n",
            "block_3_depthwise_BN (BatchNorm (None, 28, 28, 144)  576         block_3_depthwise[0][0]          \n",
            "__________________________________________________________________________________________________\n",
            "block_3_depthwise_relu (ReLU)   (None, 28, 28, 144)  0           block_3_depthwise_BN[0][0]       \n",
            "__________________________________________________________________________________________________\n",
            "block_3_project (Conv2D)        (None, 28, 28, 32)   4608        block_3_depthwise_relu[0][0]     \n",
            "__________________________________________________________________________________________________\n",
            "block_3_project_BN (BatchNormal (None, 28, 28, 32)   128         block_3_project[0][0]            \n",
            "__________________________________________________________________________________________________\n",
            "block_4_expand (Conv2D)         (None, 28, 28, 192)  6144        block_3_project_BN[0][0]         \n",
            "__________________________________________________________________________________________________\n",
            "block_4_expand_BN (BatchNormali (None, 28, 28, 192)  768         block_4_expand[0][0]             \n",
            "__________________________________________________________________________________________________\n",
            "block_4_expand_relu (ReLU)      (None, 28, 28, 192)  0           block_4_expand_BN[0][0]          \n",
            "__________________________________________________________________________________________________\n",
            "block_4_depthwise (DepthwiseCon (None, 28, 28, 192)  1728        block_4_expand_relu[0][0]        \n",
            "__________________________________________________________________________________________________\n",
            "block_4_depthwise_BN (BatchNorm (None, 28, 28, 192)  768         block_4_depthwise[0][0]          \n",
            "__________________________________________________________________________________________________\n",
            "block_4_depthwise_relu (ReLU)   (None, 28, 28, 192)  0           block_4_depthwise_BN[0][0]       \n",
            "__________________________________________________________________________________________________\n",
            "block_4_project (Conv2D)        (None, 28, 28, 32)   6144        block_4_depthwise_relu[0][0]     \n",
            "__________________________________________________________________________________________________\n",
            "block_4_project_BN (BatchNormal (None, 28, 28, 32)   128         block_4_project[0][0]            \n",
            "__________________________________________________________________________________________________\n",
            "block_4_add (Add)               (None, 28, 28, 32)   0           block_3_project_BN[0][0]         \n",
            "                                                                 block_4_project_BN[0][0]         \n",
            "__________________________________________________________________________________________________\n",
            "block_5_expand (Conv2D)         (None, 28, 28, 192)  6144        block_4_add[0][0]                \n",
            "__________________________________________________________________________________________________\n",
            "block_5_expand_BN (BatchNormali (None, 28, 28, 192)  768         block_5_expand[0][0]             \n",
            "__________________________________________________________________________________________________\n",
            "block_5_expand_relu (ReLU)      (None, 28, 28, 192)  0           block_5_expand_BN[0][0]          \n",
            "__________________________________________________________________________________________________\n",
            "block_5_depthwise (DepthwiseCon (None, 28, 28, 192)  1728        block_5_expand_relu[0][0]        \n",
            "__________________________________________________________________________________________________\n",
            "block_5_depthwise_BN (BatchNorm (None, 28, 28, 192)  768         block_5_depthwise[0][0]          \n",
            "__________________________________________________________________________________________________\n",
            "block_5_depthwise_relu (ReLU)   (None, 28, 28, 192)  0           block_5_depthwise_BN[0][0]       \n",
            "__________________________________________________________________________________________________\n",
            "block_5_project (Conv2D)        (None, 28, 28, 32)   6144        block_5_depthwise_relu[0][0]     \n",
            "__________________________________________________________________________________________________\n",
            "block_5_project_BN (BatchNormal (None, 28, 28, 32)   128         block_5_project[0][0]            \n",
            "__________________________________________________________________________________________________\n",
            "block_5_add (Add)               (None, 28, 28, 32)   0           block_4_add[0][0]                \n",
            "                                                                 block_5_project_BN[0][0]         \n",
            "__________________________________________________________________________________________________\n",
            "block_6_expand (Conv2D)         (None, 28, 28, 192)  6144        block_5_add[0][0]                \n",
            "__________________________________________________________________________________________________\n",
            "block_6_expand_BN (BatchNormali (None, 28, 28, 192)  768         block_6_expand[0][0]             \n",
            "__________________________________________________________________________________________________\n",
            "block_6_expand_relu (ReLU)      (None, 28, 28, 192)  0           block_6_expand_BN[0][0]          \n",
            "__________________________________________________________________________________________________\n",
            "block_6_pad (ZeroPadding2D)     (None, 29, 29, 192)  0           block_6_expand_relu[0][0]        \n",
            "__________________________________________________________________________________________________\n",
            "block_6_depthwise (DepthwiseCon (None, 14, 14, 192)  1728        block_6_pad[0][0]                \n",
            "__________________________________________________________________________________________________\n",
            "block_6_depthwise_BN (BatchNorm (None, 14, 14, 192)  768         block_6_depthwise[0][0]          \n",
            "__________________________________________________________________________________________________\n",
            "block_6_depthwise_relu (ReLU)   (None, 14, 14, 192)  0           block_6_depthwise_BN[0][0]       \n",
            "__________________________________________________________________________________________________\n",
            "block_6_project (Conv2D)        (None, 14, 14, 64)   12288       block_6_depthwise_relu[0][0]     \n",
            "__________________________________________________________________________________________________\n",
            "block_6_project_BN (BatchNormal (None, 14, 14, 64)   256         block_6_project[0][0]            \n",
            "__________________________________________________________________________________________________\n",
            "block_7_expand (Conv2D)         (None, 14, 14, 384)  24576       block_6_project_BN[0][0]         \n",
            "__________________________________________________________________________________________________\n",
            "block_7_expand_BN (BatchNormali (None, 14, 14, 384)  1536        block_7_expand[0][0]             \n",
            "__________________________________________________________________________________________________\n",
            "block_7_expand_relu (ReLU)      (None, 14, 14, 384)  0           block_7_expand_BN[0][0]          \n",
            "__________________________________________________________________________________________________\n",
            "block_7_depthwise (DepthwiseCon (None, 14, 14, 384)  3456        block_7_expand_relu[0][0]        \n",
            "__________________________________________________________________________________________________\n",
            "block_7_depthwise_BN (BatchNorm (None, 14, 14, 384)  1536        block_7_depthwise[0][0]          \n",
            "__________________________________________________________________________________________________\n",
            "block_7_depthwise_relu (ReLU)   (None, 14, 14, 384)  0           block_7_depthwise_BN[0][0]       \n",
            "__________________________________________________________________________________________________\n",
            "block_7_project (Conv2D)        (None, 14, 14, 64)   24576       block_7_depthwise_relu[0][0]     \n",
            "__________________________________________________________________________________________________\n",
            "block_7_project_BN (BatchNormal (None, 14, 14, 64)   256         block_7_project[0][0]            \n",
            "__________________________________________________________________________________________________\n",
            "block_7_add (Add)               (None, 14, 14, 64)   0           block_6_project_BN[0][0]         \n",
            "                                                                 block_7_project_BN[0][0]         \n",
            "__________________________________________________________________________________________________\n",
            "block_8_expand (Conv2D)         (None, 14, 14, 384)  24576       block_7_add[0][0]                \n",
            "__________________________________________________________________________________________________\n",
            "block_8_expand_BN (BatchNormali (None, 14, 14, 384)  1536        block_8_expand[0][0]             \n",
            "__________________________________________________________________________________________________\n",
            "block_8_expand_relu (ReLU)      (None, 14, 14, 384)  0           block_8_expand_BN[0][0]          \n",
            "__________________________________________________________________________________________________\n",
            "block_8_depthwise (DepthwiseCon (None, 14, 14, 384)  3456        block_8_expand_relu[0][0]        \n",
            "__________________________________________________________________________________________________\n",
            "block_8_depthwise_BN (BatchNorm (None, 14, 14, 384)  1536        block_8_depthwise[0][0]          \n",
            "__________________________________________________________________________________________________\n",
            "block_8_depthwise_relu (ReLU)   (None, 14, 14, 384)  0           block_8_depthwise_BN[0][0]       \n",
            "__________________________________________________________________________________________________\n",
            "block_8_project (Conv2D)        (None, 14, 14, 64)   24576       block_8_depthwise_relu[0][0]     \n",
            "__________________________________________________________________________________________________\n",
            "block_8_project_BN (BatchNormal (None, 14, 14, 64)   256         block_8_project[0][0]            \n",
            "__________________________________________________________________________________________________\n",
            "block_8_add (Add)               (None, 14, 14, 64)   0           block_7_add[0][0]                \n",
            "                                                                 block_8_project_BN[0][0]         \n",
            "__________________________________________________________________________________________________\n",
            "block_9_expand (Conv2D)         (None, 14, 14, 384)  24576       block_8_add[0][0]                \n",
            "__________________________________________________________________________________________________\n",
            "block_9_expand_BN (BatchNormali (None, 14, 14, 384)  1536        block_9_expand[0][0]             \n",
            "__________________________________________________________________________________________________\n",
            "block_9_expand_relu (ReLU)      (None, 14, 14, 384)  0           block_9_expand_BN[0][0]          \n",
            "__________________________________________________________________________________________________\n",
            "block_9_depthwise (DepthwiseCon (None, 14, 14, 384)  3456        block_9_expand_relu[0][0]        \n",
            "__________________________________________________________________________________________________\n",
            "block_9_depthwise_BN (BatchNorm (None, 14, 14, 384)  1536        block_9_depthwise[0][0]          \n",
            "__________________________________________________________________________________________________\n",
            "block_9_depthwise_relu (ReLU)   (None, 14, 14, 384)  0           block_9_depthwise_BN[0][0]       \n",
            "__________________________________________________________________________________________________\n",
            "block_9_project (Conv2D)        (None, 14, 14, 64)   24576       block_9_depthwise_relu[0][0]     \n",
            "__________________________________________________________________________________________________\n",
            "block_9_project_BN (BatchNormal (None, 14, 14, 64)   256         block_9_project[0][0]            \n",
            "__________________________________________________________________________________________________\n",
            "block_9_add (Add)               (None, 14, 14, 64)   0           block_8_add[0][0]                \n",
            "                                                                 block_9_project_BN[0][0]         \n",
            "__________________________________________________________________________________________________\n",
            "block_10_expand (Conv2D)        (None, 14, 14, 384)  24576       block_9_add[0][0]                \n",
            "__________________________________________________________________________________________________\n",
            "block_10_expand_BN (BatchNormal (None, 14, 14, 384)  1536        block_10_expand[0][0]            \n",
            "__________________________________________________________________________________________________\n",
            "block_10_expand_relu (ReLU)     (None, 14, 14, 384)  0           block_10_expand_BN[0][0]         \n",
            "__________________________________________________________________________________________________\n",
            "block_10_depthwise (DepthwiseCo (None, 14, 14, 384)  3456        block_10_expand_relu[0][0]       \n",
            "__________________________________________________________________________________________________\n",
            "block_10_depthwise_BN (BatchNor (None, 14, 14, 384)  1536        block_10_depthwise[0][0]         \n",
            "__________________________________________________________________________________________________\n",
            "block_10_depthwise_relu (ReLU)  (None, 14, 14, 384)  0           block_10_depthwise_BN[0][0]      \n",
            "__________________________________________________________________________________________________\n",
            "block_10_project (Conv2D)       (None, 14, 14, 96)   36864       block_10_depthwise_relu[0][0]    \n",
            "__________________________________________________________________________________________________\n",
            "block_10_project_BN (BatchNorma (None, 14, 14, 96)   384         block_10_project[0][0]           \n",
            "__________________________________________________________________________________________________\n",
            "block_11_expand (Conv2D)        (None, 14, 14, 576)  55296       block_10_project_BN[0][0]        \n",
            "__________________________________________________________________________________________________\n",
            "block_11_expand_BN (BatchNormal (None, 14, 14, 576)  2304        block_11_expand[0][0]            \n",
            "__________________________________________________________________________________________________\n",
            "block_11_expand_relu (ReLU)     (None, 14, 14, 576)  0           block_11_expand_BN[0][0]         \n",
            "__________________________________________________________________________________________________\n",
            "block_11_depthwise (DepthwiseCo (None, 14, 14, 576)  5184        block_11_expand_relu[0][0]       \n",
            "__________________________________________________________________________________________________\n",
            "block_11_depthwise_BN (BatchNor (None, 14, 14, 576)  2304        block_11_depthwise[0][0]         \n",
            "__________________________________________________________________________________________________\n",
            "block_11_depthwise_relu (ReLU)  (None, 14, 14, 576)  0           block_11_depthwise_BN[0][0]      \n",
            "__________________________________________________________________________________________________\n",
            "block_11_project (Conv2D)       (None, 14, 14, 96)   55296       block_11_depthwise_relu[0][0]    \n",
            "__________________________________________________________________________________________________\n",
            "block_11_project_BN (BatchNorma (None, 14, 14, 96)   384         block_11_project[0][0]           \n",
            "__________________________________________________________________________________________________\n",
            "block_11_add (Add)              (None, 14, 14, 96)   0           block_10_project_BN[0][0]        \n",
            "                                                                 block_11_project_BN[0][0]        \n",
            "__________________________________________________________________________________________________\n",
            "block_12_expand (Conv2D)        (None, 14, 14, 576)  55296       block_11_add[0][0]               \n",
            "__________________________________________________________________________________________________\n",
            "block_12_expand_BN (BatchNormal (None, 14, 14, 576)  2304        block_12_expand[0][0]            \n",
            "__________________________________________________________________________________________________\n",
            "block_12_expand_relu (ReLU)     (None, 14, 14, 576)  0           block_12_expand_BN[0][0]         \n",
            "__________________________________________________________________________________________________\n",
            "block_12_depthwise (DepthwiseCo (None, 14, 14, 576)  5184        block_12_expand_relu[0][0]       \n",
            "__________________________________________________________________________________________________\n",
            "block_12_depthwise_BN (BatchNor (None, 14, 14, 576)  2304        block_12_depthwise[0][0]         \n",
            "__________________________________________________________________________________________________\n",
            "block_12_depthwise_relu (ReLU)  (None, 14, 14, 576)  0           block_12_depthwise_BN[0][0]      \n",
            "__________________________________________________________________________________________________\n",
            "block_12_project (Conv2D)       (None, 14, 14, 96)   55296       block_12_depthwise_relu[0][0]    \n",
            "__________________________________________________________________________________________________\n",
            "block_12_project_BN (BatchNorma (None, 14, 14, 96)   384         block_12_project[0][0]           \n",
            "__________________________________________________________________________________________________\n",
            "block_12_add (Add)              (None, 14, 14, 96)   0           block_11_add[0][0]               \n",
            "                                                                 block_12_project_BN[0][0]        \n",
            "__________________________________________________________________________________________________\n",
            "block_13_expand (Conv2D)        (None, 14, 14, 576)  55296       block_12_add[0][0]               \n",
            "__________________________________________________________________________________________________\n",
            "block_13_expand_BN (BatchNormal (None, 14, 14, 576)  2304        block_13_expand[0][0]            \n",
            "__________________________________________________________________________________________________\n",
            "block_13_expand_relu (ReLU)     (None, 14, 14, 576)  0           block_13_expand_BN[0][0]         \n",
            "__________________________________________________________________________________________________\n",
            "block_13_pad (ZeroPadding2D)    (None, 15, 15, 576)  0           block_13_expand_relu[0][0]       \n",
            "__________________________________________________________________________________________________\n",
            "block_13_depthwise (DepthwiseCo (None, 7, 7, 576)    5184        block_13_pad[0][0]               \n",
            "__________________________________________________________________________________________________\n",
            "block_13_depthwise_BN (BatchNor (None, 7, 7, 576)    2304        block_13_depthwise[0][0]         \n",
            "__________________________________________________________________________________________________\n",
            "block_13_depthwise_relu (ReLU)  (None, 7, 7, 576)    0           block_13_depthwise_BN[0][0]      \n",
            "__________________________________________________________________________________________________\n",
            "block_13_project (Conv2D)       (None, 7, 7, 160)    92160       block_13_depthwise_relu[0][0]    \n",
            "__________________________________________________________________________________________________\n",
            "block_13_project_BN (BatchNorma (None, 7, 7, 160)    640         block_13_project[0][0]           \n",
            "__________________________________________________________________________________________________\n",
            "block_14_expand (Conv2D)        (None, 7, 7, 960)    153600      block_13_project_BN[0][0]        \n",
            "__________________________________________________________________________________________________\n",
            "block_14_expand_BN (BatchNormal (None, 7, 7, 960)    3840        block_14_expand[0][0]            \n",
            "__________________________________________________________________________________________________\n",
            "block_14_expand_relu (ReLU)     (None, 7, 7, 960)    0           block_14_expand_BN[0][0]         \n",
            "__________________________________________________________________________________________________\n",
            "block_14_depthwise (DepthwiseCo (None, 7, 7, 960)    8640        block_14_expand_relu[0][0]       \n",
            "__________________________________________________________________________________________________\n",
            "block_14_depthwise_BN (BatchNor (None, 7, 7, 960)    3840        block_14_depthwise[0][0]         \n",
            "__________________________________________________________________________________________________\n",
            "block_14_depthwise_relu (ReLU)  (None, 7, 7, 960)    0           block_14_depthwise_BN[0][0]      \n",
            "__________________________________________________________________________________________________\n",
            "block_14_project (Conv2D)       (None, 7, 7, 160)    153600      block_14_depthwise_relu[0][0]    \n",
            "__________________________________________________________________________________________________\n",
            "block_14_project_BN (BatchNorma (None, 7, 7, 160)    640         block_14_project[0][0]           \n",
            "__________________________________________________________________________________________________\n",
            "block_14_add (Add)              (None, 7, 7, 160)    0           block_13_project_BN[0][0]        \n",
            "                                                                 block_14_project_BN[0][0]        \n",
            "__________________________________________________________________________________________________\n",
            "block_15_expand (Conv2D)        (None, 7, 7, 960)    153600      block_14_add[0][0]               \n",
            "__________________________________________________________________________________________________\n",
            "block_15_expand_BN (BatchNormal (None, 7, 7, 960)    3840        block_15_expand[0][0]            \n",
            "__________________________________________________________________________________________________\n",
            "block_15_expand_relu (ReLU)     (None, 7, 7, 960)    0           block_15_expand_BN[0][0]         \n",
            "__________________________________________________________________________________________________\n",
            "block_15_depthwise (DepthwiseCo (None, 7, 7, 960)    8640        block_15_expand_relu[0][0]       \n",
            "__________________________________________________________________________________________________\n",
            "block_15_depthwise_BN (BatchNor (None, 7, 7, 960)    3840        block_15_depthwise[0][0]         \n",
            "__________________________________________________________________________________________________\n",
            "block_15_depthwise_relu (ReLU)  (None, 7, 7, 960)    0           block_15_depthwise_BN[0][0]      \n",
            "__________________________________________________________________________________________________\n",
            "block_15_project (Conv2D)       (None, 7, 7, 160)    153600      block_15_depthwise_relu[0][0]    \n",
            "__________________________________________________________________________________________________\n",
            "block_15_project_BN (BatchNorma (None, 7, 7, 160)    640         block_15_project[0][0]           \n",
            "__________________________________________________________________________________________________\n",
            "block_15_add (Add)              (None, 7, 7, 160)    0           block_14_add[0][0]               \n",
            "                                                                 block_15_project_BN[0][0]        \n",
            "__________________________________________________________________________________________________\n",
            "block_16_expand (Conv2D)        (None, 7, 7, 960)    153600      block_15_add[0][0]               \n",
            "__________________________________________________________________________________________________\n",
            "block_16_expand_BN (BatchNormal (None, 7, 7, 960)    3840        block_16_expand[0][0]            \n",
            "__________________________________________________________________________________________________\n",
            "block_16_expand_relu (ReLU)     (None, 7, 7, 960)    0           block_16_expand_BN[0][0]         \n",
            "__________________________________________________________________________________________________\n",
            "block_16_depthwise (DepthwiseCo (None, 7, 7, 960)    8640        block_16_expand_relu[0][0]       \n",
            "__________________________________________________________________________________________________\n",
            "block_16_depthwise_BN (BatchNor (None, 7, 7, 960)    3840        block_16_depthwise[0][0]         \n",
            "__________________________________________________________________________________________________\n",
            "block_16_depthwise_relu (ReLU)  (None, 7, 7, 960)    0           block_16_depthwise_BN[0][0]      \n",
            "__________________________________________________________________________________________________\n",
            "block_16_project (Conv2D)       (None, 7, 7, 320)    307200      block_16_depthwise_relu[0][0]    \n",
            "__________________________________________________________________________________________________\n",
            "block_16_project_BN (BatchNorma (None, 7, 7, 320)    1280        block_16_project[0][0]           \n",
            "__________________________________________________________________________________________________\n",
            "Conv_1 (Conv2D)                 (None, 7, 7, 1280)   409600      block_16_project_BN[0][0]        \n",
            "__________________________________________________________________________________________________\n",
            "Conv_1_bn (BatchNormalization)  (None, 7, 7, 1280)   5120        Conv_1[0][0]                     \n",
            "__________________________________________________________________________________________________\n",
            "out_relu (ReLU)                 (None, 7, 7, 1280)   0           Conv_1_bn[0][0]                  \n",
            "__________________________________________________________________________________________________\n",
            "global_average_pooling2d_7 (Glo (None, 1280)         0           out_relu[0][0]                   \n",
            "__________________________________________________________________________________________________\n",
            "dense_8 (Dense)                 (None, 196)          251076      global_average_pooling2d_7[0][0] \n",
            "==================================================================================================\n",
            "Total params: 2,509,060\n",
            "Trainable params: 2,474,948\n",
            "Non-trainable params: 34,112\n",
            "__________________________________________________________________________________________________\n"
          ],
          "name": "stdout"
        }
      ]
    },
    {
      "cell_type": "code",
      "metadata": {
        "colab": {
          "base_uri": "https://localhost:8080/"
        },
        "id": "jD--yA9we0Am",
        "outputId": "160c5db5-a3e9-4b5f-bfe4-09bf1b749bda"
      },
      "source": [
        "model2.compile(optimizer='adam', loss='categorical_crossentropy',\n",
        "                metrics=['accuracy'])\n",
        "\n",
        "model_history2 = model2.fit(train_ds, epochs=10)"
      ],
      "execution_count": null,
      "outputs": [
        {
          "output_type": "stream",
          "text": [
            "Epoch 1/10\n",
            "  2/128 [..............................] - ETA: 48s - loss: 1.3624 - accuracy: 0.6875WARNING:tensorflow:Callbacks method `on_train_batch_end` is slow compared to the batch time (batch time: 0.1181s vs `on_train_batch_end` time: 0.3056s). Check your callbacks.\n",
            "128/128 [==============================] - 51s 402ms/step - loss: 0.9987 - accuracy: 0.7243\n",
            "Epoch 2/10\n",
            "128/128 [==============================] - 53s 417ms/step - loss: 0.3080 - accuracy: 0.9052\n",
            "Epoch 3/10\n",
            "128/128 [==============================] - 54s 423ms/step - loss: 0.1344 - accuracy: 0.9585\n",
            "Epoch 4/10\n",
            "128/128 [==============================] - 54s 423ms/step - loss: 0.1076 - accuracy: 0.9711\n",
            "Epoch 5/10\n",
            "128/128 [==============================] - 54s 421ms/step - loss: 0.1262 - accuracy: 0.9614\n",
            "Epoch 6/10\n",
            "128/128 [==============================] - 54s 423ms/step - loss: 0.1609 - accuracy: 0.9493\n",
            "Epoch 7/10\n",
            "128/128 [==============================] - 54s 423ms/step - loss: 0.1670 - accuracy: 0.9468\n",
            "Epoch 8/10\n",
            "128/128 [==============================] - 54s 418ms/step - loss: 0.1283 - accuracy: 0.9594\n",
            "Epoch 9/10\n",
            "128/128 [==============================] - 53s 418ms/step - loss: 0.0839 - accuracy: 0.9774\n",
            "Epoch 10/10\n",
            "128/128 [==============================] - 54s 418ms/step - loss: 0.0606 - accuracy: 0.9828\n"
          ],
          "name": "stdout"
        }
      ]
    },
    {
      "cell_type": "code",
      "metadata": {
        "colab": {
          "base_uri": "https://localhost:8080/"
        },
        "id": "QoUTYkQ_rwMs",
        "outputId": "ded64d32-7202-47a9-c596-43a4ad299fc2"
      },
      "source": [
        "model2.evaluate(test_ds)"
      ],
      "execution_count": null,
      "outputs": [
        {
          "output_type": "stream",
          "text": [
            "126/126 [==============================] - 42s 330ms/step - loss: 10.8327 - accuracy: 0.1009\n"
          ],
          "name": "stdout"
        },
        {
          "output_type": "execute_result",
          "data": {
            "text/plain": [
              "[10.832669258117676, 0.10085809975862503]"
            ]
          },
          "metadata": {
            "tags": []
          },
          "execution_count": 64
        }
      ]
    },
    {
      "cell_type": "code",
      "metadata": {
        "colab": {
          "base_uri": "https://localhost:8080/"
        },
        "id": "xkK8-xHkilsm",
        "outputId": "a0d93ea1-0ca6-4739-8a7a-e51c7c011a28"
      },
      "source": [
        "model2.predict(test_ds)"
      ],
      "execution_count": null,
      "outputs": [
        {
          "output_type": "execute_result",
          "data": {
            "text/plain": [
              "array([[4.4328061e-19, 5.0746878e-09, 1.7286086e-13, ..., 1.8980985e-14,\n",
              "        4.2221469e-08, 1.9948945e-09],\n",
              "       [7.0543730e-14, 2.1813898e-11, 6.8776208e-13, ..., 5.8990949e-15,\n",
              "        8.6586550e-11, 1.1642755e-04],\n",
              "       [5.3836194e-14, 2.7175156e-13, 7.3290664e-17, ..., 9.9683692e-11,\n",
              "        2.5542484e-05, 1.5048517e-08],\n",
              "       ...,\n",
              "       [4.6577434e-12, 2.0381356e-11, 1.1254772e-15, ..., 4.2218326e-10,\n",
              "        1.0266548e-03, 5.7145564e-07],\n",
              "       [9.5614172e-15, 1.2150051e-14, 1.6938601e-18, ..., 1.0436706e-14,\n",
              "        2.6449890e-16, 6.1994548e-10],\n",
              "       [9.5227699e-14, 1.9620741e-11, 3.5506261e-16, ..., 9.0419181e-13,\n",
              "        1.8538311e-06, 1.0697540e-08]], dtype=float32)"
            ]
          },
          "metadata": {
            "tags": []
          },
          "execution_count": 67
        }
      ]
    },
    {
      "cell_type": "code",
      "metadata": {
        "colab": {
          "base_uri": "https://localhost:8080/",
          "height": 388
        },
        "id": "AYM5DiDazDue",
        "outputId": "961d3e0d-4e12-4eeb-bc1f-76d52bd4c05c"
      },
      "source": [
        "plt.figure(0)\n",
        "plt.plot(model_history2.history['accuracy'],'r')\n",
        "plt.plot(model_history2.history['loss'],'g')\n",
        "plt.xticks(np.arange(0, 10, 1.0))\n",
        "plt.rcParams['figure.figsize'] = (8, 6)\n",
        "plt.xlabel(\"Num of Epochs\")\n",
        "plt.ylabel(\"Accuracy\")\n",
        "plt.legend(['accuracy','loss'])\n",
        "  \n",
        "plt.show()"
      ],
      "execution_count": null,
      "outputs": [
        {
          "output_type": "display_data",
          "data": {
            "image/png": "[encoded data removed]",
            "text/plain": [
              "<Figure size 576x432 with 1 Axes>"
            ]
          },
          "metadata": {
            "tags": [],
            "needs_background": "light"
          }
        }
      ]
    },
    {
      "cell_type": "code",
      "metadata": {
        "id": "dVU-Wvcp9hyh"
      },
      "source": [
        "# model3.save(\"/content/drive/MyDrive/input/Mobilenet2.h5\", save_format=\"h5\")\n",
        "\n",
        "# # from tensorflow import keras\n",
        "resnet_load = keras.models.load_model('/content/drive/MyDrive/input/resnet50.h5')"
      ],
      "execution_count": null,
      "outputs": []
    },
    {
      "cell_type": "code",
      "metadata": {
        "colab": {
          "base_uri": "https://localhost:8080/"
        },
        "id": "vWW4ID1aPQh7",
        "outputId": "ca4e2d5b-d49a-4209-86f2-3ab40806861a"
      },
      "source": [
        "resnet_load.evaluate(test_ds)\n"
      ],
      "execution_count": null,
      "outputs": [
        {
          "output_type": "stream",
          "text": [
            "126/126 [==============================] - 42s 331ms/step - loss: 5.9028 - accuracy: 0.0286\n"
          ],
          "name": "stdout"
        },
        {
          "output_type": "execute_result",
          "data": {
            "text/plain": [
              "[5.902781009674072, 0.028603406623005867]"
            ]
          },
          "metadata": {
            "tags": []
          },
          "execution_count": 136
        }
      ]
    },
    {
      "cell_type": "code",
      "metadata": {
        "colab": {
          "base_uri": "https://localhost:8080/"
        },
        "id": "DI9g2aqcxkOG",
        "outputId": "ed05cc2b-85cd-403a-e52f-955a04ea6932"
      },
      "source": [
        "x, y = next(test_ds.as_numpy_iterator())\n",
        "pred = model2.predict(test_ds.take(1))\n",
        "classes = [df_test.Brand[i] for i in np.argmax(y, axis=1)]\n",
        "y_pred = [df_test.Brand[i] for i in np.argmax(pred, axis=1)]\n",
        "print(y_pred)\n",
        "print(classes)\n",
        "\n",
        "print(len(classes))\n",
        "print(len(y_pred))\n",
        "\n"
      ],
      "execution_count": null,
      "outputs": [
        {
          "output_type": "stream",
          "text": [
            "['BMW', 'Dodge', 'Chrysler', 'BMW', 'BMW', 'BMW', 'BMW', 'Audi', 'BMW', 'BMW', 'GMC', 'BMW', 'GMC', 'BMW', 'BMW', 'GMC', 'Audi', 'BMW', 'BMW', 'BMW', 'GMC', 'Audi', 'GMC', 'GMC', 'BMW', 'Chrysler', 'Audi', 'Acura', 'GMC', 'BMW', 'BMW', 'BMW', 'BMW', 'GMC', 'BMW', 'GMC', 'Chevrolet', 'BMW', 'BMW', 'GMC', 'GMC', 'GMC', 'BMW', 'Buick', 'Chrysler', 'BMW', 'GMC', 'GMC', 'GMC', 'Chevrolet', 'BMW', 'BMW', 'Chrysler', 'Audi', 'Chrysler', 'GMC', 'GMC', 'Audi', 'BMW', 'GMC', 'Chevrolet', 'Chevrolet', 'BMW', 'BMW']\n",
            "['BMW', 'BMW', 'Cadillac', 'Chrysler', 'Hyundai', 'Chevrolet', 'Chevrolet', 'Spyker', 'Jeep', 'BMW', 'Audi', 'Hyundai', 'Land', 'BMW', 'Fisker', 'Hyundai', 'Mazda', 'Toyota', 'Acura', 'Jeep', 'Chrysler', 'Toyota', 'Ram', 'BMW', 'Spyker', 'Chrysler', 'Dodge', 'Audi', 'Cadillac', 'Tesla', 'Eagle', 'BMW', 'Mercedes-Benz', 'Chevrolet', 'Toyota', 'GMC', 'Mercedes-Benz', 'Hyundai', 'Acura', 'Aston', 'Geo', 'Isuzu', 'Jeep', 'Chevrolet', 'Chrysler', 'BMW', 'Nissan', 'Acura', 'Mercedes-Benz', 'Chevrolet', 'Acura', 'BMW', 'Chrysler', 'Plymouth', 'BMW', 'BMW', 'Nissan', 'Acura', 'Acura', 'Acura', 'BMW', 'Chevrolet', 'Bentley', 'BMW']\n",
            "64\n",
            "64\n"
          ],
          "name": "stdout"
        }
      ]
    },
    {
      "cell_type": "code",
      "metadata": {
        "id": "UH6_anHt4py-"
      },
      "source": [
        "model2.save(\"/content/drive/MyDrive/input/Mobilenet1.h5\", save_format=\"h5\")\n",
        "\n",
        "# from tensorflow import keras\n",
        "# load_model = keras.models.load_model('/content/drive/MyDrive/input/resnet50.h5')"
      ],
      "execution_count": null,
      "outputs": []
    },
    {
      "cell_type": "code",
      "metadata": {
        "id": "gMYQ_8tH43RY"
      },
      "source": [
        "model3 = Sequential()\n",
        "\n",
        "model3.add(tf.keras.applications.MobileNetV2(pooling='avg', weights='imagenet'))\n",
        "model3.add(BatchNormalization())\n",
        "model3.add(Dense(num_classes, activation='softmax'))\n"
      ],
      "execution_count": null,
      "outputs": []
    },
    {
      "cell_type": "code",
      "metadata": {
        "colab": {
          "base_uri": "https://localhost:8080/"
        },
        "id": "QVZGol5o5Opn",
        "outputId": "78bf5294-896d-4aa9-f48f-549757666020"
      },
      "source": [
        "model3.compile(optimizer='adam', loss='categorical_crossentropy',\n",
        "                metrics=['accuracy'])\n",
        "\n",
        "model_history3 = model3.fit(train_ds, epochs=10)"
      ],
      "execution_count": null,
      "outputs": [
        {
          "output_type": "stream",
          "text": [
            "Epoch 1/10\n",
            "  2/128 [..............................] - ETA: 49s - loss: 5.2906 - accuracy: 0.0156    WARNING:tensorflow:Callbacks method `on_train_batch_end` is slow compared to the batch time (batch time: 0.0950s vs `on_train_batch_end` time: 0.3022s). Check your callbacks.\n",
            "128/128 [==============================] - 52s 406ms/step - loss: 4.9676 - accuracy: 0.0398\n",
            "Epoch 2/10\n",
            "128/128 [==============================] - 51s 402ms/step - loss: 3.8695 - accuracy: 0.1582\n",
            "Epoch 3/10\n",
            "128/128 [==============================] - 52s 407ms/step - loss: 2.8964 - accuracy: 0.3008\n",
            "Epoch 4/10\n",
            "128/128 [==============================] - 52s 402ms/step - loss: 2.2281 - accuracy: 0.4403\n",
            "Epoch 5/10\n",
            "128/128 [==============================] - 51s 402ms/step - loss: 1.6908 - accuracy: 0.5664\n",
            "Epoch 6/10\n",
            "128/128 [==============================] - 51s 398ms/step - loss: 1.2998 - accuracy: 0.6655\n",
            "Epoch 7/10\n",
            "128/128 [==============================] - 52s 402ms/step - loss: 1.0191 - accuracy: 0.7353\n",
            "Epoch 8/10\n",
            "128/128 [==============================] - 52s 408ms/step - loss: 0.7750 - accuracy: 0.8057\n",
            "Epoch 9/10\n",
            "128/128 [==============================] - 51s 401ms/step - loss: 0.5848 - accuracy: 0.8531\n",
            "Epoch 10/10\n",
            "128/128 [==============================] - 52s 404ms/step - loss: 0.4341 - accuracy: 0.8993\n"
          ],
          "name": "stdout"
        }
      ]
    },
    {
      "cell_type": "code",
      "metadata": {
        "id": "xWS2Gv4wORIN"
      },
      "source": [
        "\n",
        "# model3.save(\"/content/drive/MyDrive/input/Mobilenet2.h5\", save_format=\"h5\")\n",
        "\n",
        "# from tensorflow import keras\n",
        "Mobilenet2_loadmodel = keras.models.load_model('/content/drive/MyDrive/input/Mobilenet2.h5')"
      ],
      "execution_count": null,
      "outputs": []
    },
    {
      "cell_type": "code",
      "metadata": {
        "colab": {
          "base_uri": "https://localhost:8080/"
        },
        "id": "fmDnGFVaQGBp",
        "outputId": "cef1d5a6-2612-472f-e183-51d792f42b52"
      },
      "source": [
        "Mobilenet2_loadmodel.evaluate(test_ds)"
      ],
      "execution_count": null,
      "outputs": [
        {
          "output_type": "stream",
          "text": [
            "126/126 [==============================] - 41s 329ms/step - loss: 7.6542 - accuracy: 0.0298\n"
          ],
          "name": "stdout"
        },
        {
          "output_type": "execute_result",
          "data": {
            "text/plain": [
              "[7.654150009155273, 0.029847033321857452]"
            ]
          },
          "metadata": {
            "tags": []
          },
          "execution_count": 138
        }
      ]
    },
    {
      "cell_type": "code",
      "metadata": {
        "colab": {
          "base_uri": "https://localhost:8080/"
        },
        "id": "EXxIjtpiBALR",
        "outputId": "5e9e92b2-6170-48c5-9b26-869f2a64ad9e"
      },
      "source": [
        "model4 = Sequential()\n",
        "\n",
        "model4.add(tf.keras.applications.Xception(pooling='avg', weights='imagenet'))\n",
        "model4.add(BatchNormalization())\n",
        "model4.add(Dense(num_classes*2, activation='softmax'))\n",
        "model4.add(Dense(num_classes, activation='softmax'))\n"
      ],
      "execution_count": null,
      "outputs": [
        {
          "output_type": "stream",
          "text": [
            "Downloading data from https://storage.googleapis.com/tensorflow/keras-applications/xception/xception_weights_tf_dim_ordering_tf_kernels.h5\n",
            "91889664/91884032 [==============================] - 1s 0us/step\n"
          ],
          "name": "stdout"
        }
      ]
    },
    {
      "cell_type": "code",
      "metadata": {
        "colab": {
          "base_uri": "https://localhost:8080/"
        },
        "id": "vbWyzXQNBALR",
        "outputId": "9994d2ee-002d-48f1-d71a-fc065f6bed38"
      },
      "source": [
        "model4.compile(optimizer='adam', loss='categorical_crossentropy',\n",
        "                metrics=['accuracy'])\n",
        "\n",
        "model_history4 = model4.fit(train_ds, epochs=10)"
      ],
      "execution_count": null,
      "outputs": [
        {
          "output_type": "stream",
          "text": [
            "Epoch 1/10\n",
            "WARNING:tensorflow:Model was constructed with shape (None, 299, 299, 3) for input Tensor(\"xception_input:0\", shape=(None, 299, 299, 3), dtype=float32), but it was called on an input with incompatible shape (None, 224, 224, 3).\n",
            "WARNING:tensorflow:Model was constructed with shape (None, 299, 299, 3) for input Tensor(\"input_19:0\", shape=(None, 299, 299, 3), dtype=float32), but it was called on an input with incompatible shape (None, 224, 224, 3).\n",
            "WARNING:tensorflow:Model was constructed with shape (None, 299, 299, 3) for input Tensor(\"xception_input:0\", shape=(None, 299, 299, 3), dtype=float32), but it was called on an input with incompatible shape (None, 224, 224, 3).\n",
            "WARNING:tensorflow:Model was constructed with shape (None, 299, 299, 3) for input Tensor(\"input_19:0\", shape=(None, 299, 299, 3), dtype=float32), but it was called on an input with incompatible shape (None, 224, 224, 3).\n",
            "  2/128 [..............................] - ETA: 1:23 - loss: 5.2782 - accuracy: 0.0078WARNING:tensorflow:Callbacks method `on_train_batch_end` is slow compared to the batch time (batch time: 0.3177s vs `on_train_batch_end` time: 1.0081s). Check your callbacks.\n",
            "128/128 [==============================] - 160s 1s/step - loss: 5.2773 - accuracy: 0.0066\n",
            "Epoch 2/10\n",
            "128/128 [==============================] - 158s 1s/step - loss: 5.2217 - accuracy: 0.0138\n",
            "Epoch 3/10\n",
            "128/128 [==============================] - 157s 1s/step - loss: 5.1631 - accuracy: 0.0168\n",
            "Epoch 4/10\n",
            "128/128 [==============================] - 158s 1s/step - loss: 5.1264 - accuracy: 0.0190\n",
            "Epoch 5/10\n",
            "128/128 [==============================] - 157s 1s/step - loss: 5.0781 - accuracy: 0.0198\n",
            "Epoch 6/10\n",
            "128/128 [==============================] - 158s 1s/step - loss: 5.0386 - accuracy: 0.0217\n",
            "Epoch 7/10\n",
            "128/128 [==============================] - 157s 1s/step - loss: 5.0008 - accuracy: 0.0219\n",
            "Epoch 8/10\n",
            "128/128 [==============================] - 158s 1s/step - loss: 4.9765 - accuracy: 0.0214\n",
            "Epoch 9/10\n",
            "128/128 [==============================] - 157s 1s/step - loss: 4.9364 - accuracy: 0.0220\n",
            "Epoch 10/10\n",
            "128/128 [==============================] - 157s 1s/step - loss: 4.9085 - accuracy: 0.0217\n"
          ],
          "name": "stdout"
        }
      ]
    },
    {
      "cell_type": "code",
      "metadata": {
        "colab": {
          "base_uri": "https://localhost:8080/"
        },
        "id": "jTOktALmBALR",
        "outputId": "445dfc19-9b1d-4153-b227-26bae358521f"
      },
      "source": [
        "model4.evaluate(test_ds)\n",
        "\n",
        "model4.save(\"/content/drive/MyDrive/input/Xception.h5\", save_format=\"h5\")\n",
        "\n",
        "# from tensorflow import keras\n",
        "# load_model = keras.models.load_model('/content/drive/MyDrive/input/resnet50.h5')"
      ],
      "execution_count": null,
      "outputs": [
        {
          "output_type": "stream",
          "text": [
            "126/126 [==============================] - 42s 332ms/step - loss: 4.9770 - accuracy: 0.0205\n"
          ],
          "name": "stdout"
        }
      ]
    },
    {
      "cell_type": "code",
      "metadata": {
        "id": "vkhGe6i6QVFT"
      },
      "source": [
        "#Model 2 has the best Acc but Overfit\n",
        "\n",
        "#Split to train 80% Val 20%\n",
        "\n",
        "train_img = tf.data.Dataset.from_tensor_slices(lbs_train)\n",
        "train_ls = list_ds.map(process_path)\n",
        "\n",
        "\n",
        "train_size = int(0.8 * len(train_img))\n",
        "val_size = int(0.2 * len(train_img))\n",
        "\n",
        "train_dataset = list_ds.take(train_size) #train 80 only path\n",
        "val_dataset = list_ds.skip(train_size) #val 20 only path\n",
        "\n",
        "train_lb = train_img.take(train_size) #lb train 80 one hot\n",
        "val_lb = train_img.skip(train_size)  #lb train 20 one hot\n",
        "\n",
        "#80\n",
        "\n",
        "\n",
        "X_train_split = train_dataset.map(process_path).batch(64)\n",
        "valX_split = train_lb.batch(64)\n",
        "\n",
        "train_ds_split = tf.data.Dataset.zip((X_train_split, valX_split)) #80 zip\n",
        "\n",
        "#20\n",
        "\n",
        "Y_train_split = val_dataset.map(process_path).batch(64)\n",
        "valY_split = val_lb.batch(64)\n",
        "\n",
        "val_ds_split = tf.data.Dataset.zip((Y_train_split, valY_split)) #20 zip\n"
      ],
      "execution_count": null,
      "outputs": []
    },
    {
      "cell_type": "code",
      "metadata": {
        "id": "8nmXS8rPfCSY"
      },
      "source": [
        "base_model = tf.keras.applications.MobileNetV2(include_top=True,\n",
        "                                                   input_shape=(224, 224, 3),\n",
        "                                                   weights='imagenet')\n",
        "_model5 = base_model.layers[-2].output\n",
        "\n",
        "\n",
        "_model5 = Flatten()(_model5)\n",
        "_model5 = Dense(1024 , activation='relu')(_model5)\n",
        "_model5 = Dropout(0.5)(_model5)\n",
        "_model5 = Dense(512 , activation='relu')(_model5)\n",
        "_model5 = Dropout(0.5)(_model5)\n",
        "_model5 = Dense(num_classes, activation='softmax')(_model5)\n",
        "\n",
        "model5 = keras.Model(inputs=base_model.input, outputs=_model5)\n"
      ],
      "execution_count": null,
      "outputs": []
    },
    {
      "cell_type": "code",
      "metadata": {
        "colab": {
          "base_uri": "https://localhost:8080/"
        },
        "id": "UYK97hf5fCSY",
        "outputId": "d4d5025d-34c5-4bd8-a2f3-7ec817bc3366"
      },
      "source": [
        "model5.summary()\n"
      ],
      "execution_count": null,
      "outputs": [
        {
          "output_type": "stream",
          "text": [
            "Model: \"functional_23\"\n",
            "__________________________________________________________________________________________________\n",
            "Layer (type)                    Output Shape         Param #     Connected to                     \n",
            "==================================================================================================\n",
            "input_24 (InputLayer)           [(None, 224, 224, 3) 0                                            \n",
            "__________________________________________________________________________________________________\n",
            "Conv1_pad (ZeroPadding2D)       (None, 225, 225, 3)  0           input_24[0][0]                   \n",
            "__________________________________________________________________________________________________\n",
            "Conv1 (Conv2D)                  (None, 112, 112, 32) 864         Conv1_pad[0][0]                  \n",
            "__________________________________________________________________________________________________\n",
            "bn_Conv1 (BatchNormalization)   (None, 112, 112, 32) 128         Conv1[0][0]                      \n",
            "__________________________________________________________________________________________________\n",
            "Conv1_relu (ReLU)               (None, 112, 112, 32) 0           bn_Conv1[0][0]                   \n",
            "__________________________________________________________________________________________________\n",
            "expanded_conv_depthwise (Depthw (None, 112, 112, 32) 288         Conv1_relu[0][0]                 \n",
            "__________________________________________________________________________________________________\n",
            "expanded_conv_depthwise_BN (Bat (None, 112, 112, 32) 128         expanded_conv_depthwise[0][0]    \n",
            "__________________________________________________________________________________________________\n",
            "expanded_conv_depthwise_relu (R (None, 112, 112, 32) 0           expanded_conv_depthwise_BN[0][0] \n",
            "__________________________________________________________________________________________________\n",
            "expanded_conv_project (Conv2D)  (None, 112, 112, 16) 512         expanded_conv_depthwise_relu[0][0\n",
            "__________________________________________________________________________________________________\n",
            "expanded_conv_project_BN (Batch (None, 112, 112, 16) 64          expanded_conv_project[0][0]      \n",
            "__________________________________________________________________________________________________\n",
            "block_1_expand (Conv2D)         (None, 112, 112, 96) 1536        expanded_conv_project_BN[0][0]   \n",
            "__________________________________________________________________________________________________\n",
            "block_1_expand_BN (BatchNormali (None, 112, 112, 96) 384         block_1_expand[0][0]             \n",
            "__________________________________________________________________________________________________\n",
            "block_1_expand_relu (ReLU)      (None, 112, 112, 96) 0           block_1_expand_BN[0][0]          \n",
            "__________________________________________________________________________________________________\n",
            "block_1_pad (ZeroPadding2D)     (None, 113, 113, 96) 0           block_1_expand_relu[0][0]        \n",
            "__________________________________________________________________________________________________\n",
            "block_1_depthwise (DepthwiseCon (None, 56, 56, 96)   864         block_1_pad[0][0]                \n",
            "__________________________________________________________________________________________________\n",
            "block_1_depthwise_BN (BatchNorm (None, 56, 56, 96)   384         block_1_depthwise[0][0]          \n",
            "__________________________________________________________________________________________________\n",
            "block_1_depthwise_relu (ReLU)   (None, 56, 56, 96)   0           block_1_depthwise_BN[0][0]       \n",
            "__________________________________________________________________________________________________\n",
            "block_1_project (Conv2D)        (None, 56, 56, 24)   2304        block_1_depthwise_relu[0][0]     \n",
            "__________________________________________________________________________________________________\n",
            "block_1_project_BN (BatchNormal (None, 56, 56, 24)   96          block_1_project[0][0]            \n",
            "__________________________________________________________________________________________________\n",
            "block_2_expand (Conv2D)         (None, 56, 56, 144)  3456        block_1_project_BN[0][0]         \n",
            "__________________________________________________________________________________________________\n",
            "block_2_expand_BN (BatchNormali (None, 56, 56, 144)  576         block_2_expand[0][0]             \n",
            "__________________________________________________________________________________________________\n",
            "block_2_expand_relu (ReLU)      (None, 56, 56, 144)  0           block_2_expand_BN[0][0]          \n",
            "__________________________________________________________________________________________________\n",
            "block_2_depthwise (DepthwiseCon (None, 56, 56, 144)  1296        block_2_expand_relu[0][0]        \n",
            "__________________________________________________________________________________________________\n",
            "block_2_depthwise_BN (BatchNorm (None, 56, 56, 144)  576         block_2_depthwise[0][0]          \n",
            "__________________________________________________________________________________________________\n",
            "block_2_depthwise_relu (ReLU)   (None, 56, 56, 144)  0           block_2_depthwise_BN[0][0]       \n",
            "__________________________________________________________________________________________________\n",
            "block_2_project (Conv2D)        (None, 56, 56, 24)   3456        block_2_depthwise_relu[0][0]     \n",
            "__________________________________________________________________________________________________\n",
            "block_2_project_BN (BatchNormal (None, 56, 56, 24)   96          block_2_project[0][0]            \n",
            "__________________________________________________________________________________________________\n",
            "block_2_add (Add)               (None, 56, 56, 24)   0           block_1_project_BN[0][0]         \n",
            "                                                                 block_2_project_BN[0][0]         \n",
            "__________________________________________________________________________________________________\n",
            "block_3_expand (Conv2D)         (None, 56, 56, 144)  3456        block_2_add[0][0]                \n",
            "__________________________________________________________________________________________________\n",
            "block_3_expand_BN (BatchNormali (None, 56, 56, 144)  576         block_3_expand[0][0]             \n",
            "__________________________________________________________________________________________________\n",
            "block_3_expand_relu (ReLU)      (None, 56, 56, 144)  0           block_3_expand_BN[0][0]          \n",
            "__________________________________________________________________________________________________\n",
            "block_3_pad (ZeroPadding2D)     (None, 57, 57, 144)  0           block_3_expand_relu[0][0]        \n",
            "__________________________________________________________________________________________________\n",
            "block_3_depthwise (DepthwiseCon (None, 28, 28, 144)  1296        block_3_pad[0][0]                \n",
            "__________________________________________________________________________________________________\n",
            "block_3_depthwise_BN (BatchNorm (None, 28, 28, 144)  576         block_3_depthwise[0][0]          \n",
            "__________________________________________________________________________________________________\n",
            "block_3_depthwise_relu (ReLU)   (None, 28, 28, 144)  0           block_3_depthwise_BN[0][0]       \n",
            "__________________________________________________________________________________________________\n",
            "block_3_project (Conv2D)        (None, 28, 28, 32)   4608        block_3_depthwise_relu[0][0]     \n",
            "__________________________________________________________________________________________________\n",
            "block_3_project_BN (BatchNormal (None, 28, 28, 32)   128         block_3_project[0][0]            \n",
            "__________________________________________________________________________________________________\n",
            "block_4_expand (Conv2D)         (None, 28, 28, 192)  6144        block_3_project_BN[0][0]         \n",
            "__________________________________________________________________________________________________\n",
            "block_4_expand_BN (BatchNormali (None, 28, 28, 192)  768         block_4_expand[0][0]             \n",
            "__________________________________________________________________________________________________\n",
            "block_4_expand_relu (ReLU)      (None, 28, 28, 192)  0           block_4_expand_BN[0][0]          \n",
            "__________________________________________________________________________________________________\n",
            "block_4_depthwise (DepthwiseCon (None, 28, 28, 192)  1728        block_4_expand_relu[0][0]        \n",
            "__________________________________________________________________________________________________\n",
            "block_4_depthwise_BN (BatchNorm (None, 28, 28, 192)  768         block_4_depthwise[0][0]          \n",
            "__________________________________________________________________________________________________\n",
            "block_4_depthwise_relu (ReLU)   (None, 28, 28, 192)  0           block_4_depthwise_BN[0][0]       \n",
            "__________________________________________________________________________________________________\n",
            "block_4_project (Conv2D)        (None, 28, 28, 32)   6144        block_4_depthwise_relu[0][0]     \n",
            "__________________________________________________________________________________________________\n",
            "block_4_project_BN (BatchNormal (None, 28, 28, 32)   128         block_4_project[0][0]            \n",
            "__________________________________________________________________________________________________\n",
            "block_4_add (Add)               (None, 28, 28, 32)   0           block_3_project_BN[0][0]         \n",
            "                                                                 block_4_project_BN[0][0]         \n",
            "__________________________________________________________________________________________________\n",
            "block_5_expand (Conv2D)         (None, 28, 28, 192)  6144        block_4_add[0][0]                \n",
            "__________________________________________________________________________________________________\n",
            "block_5_expand_BN (BatchNormali (None, 28, 28, 192)  768         block_5_expand[0][0]             \n",
            "__________________________________________________________________________________________________\n",
            "block_5_expand_relu (ReLU)      (None, 28, 28, 192)  0           block_5_expand_BN[0][0]          \n",
            "__________________________________________________________________________________________________\n",
            "block_5_depthwise (DepthwiseCon (None, 28, 28, 192)  1728        block_5_expand_relu[0][0]        \n",
            "__________________________________________________________________________________________________\n",
            "block_5_depthwise_BN (BatchNorm (None, 28, 28, 192)  768         block_5_depthwise[0][0]          \n",
            "__________________________________________________________________________________________________\n",
            "block_5_depthwise_relu (ReLU)   (None, 28, 28, 192)  0           block_5_depthwise_BN[0][0]       \n",
            "__________________________________________________________________________________________________\n",
            "block_5_project (Conv2D)        (None, 28, 28, 32)   6144        block_5_depthwise_relu[0][0]     \n",
            "__________________________________________________________________________________________________\n",
            "block_5_project_BN (BatchNormal (None, 28, 28, 32)   128         block_5_project[0][0]            \n",
            "__________________________________________________________________________________________________\n",
            "block_5_add (Add)               (None, 28, 28, 32)   0           block_4_add[0][0]                \n",
            "                                                                 block_5_project_BN[0][0]         \n",
            "__________________________________________________________________________________________________\n",
            "block_6_expand (Conv2D)         (None, 28, 28, 192)  6144        block_5_add[0][0]                \n",
            "__________________________________________________________________________________________________\n",
            "block_6_expand_BN (BatchNormali (None, 28, 28, 192)  768         block_6_expand[0][0]             \n",
            "__________________________________________________________________________________________________\n",
            "block_6_expand_relu (ReLU)      (None, 28, 28, 192)  0           block_6_expand_BN[0][0]          \n",
            "__________________________________________________________________________________________________\n",
            "block_6_pad (ZeroPadding2D)     (None, 29, 29, 192)  0           block_6_expand_relu[0][0]        \n",
            "__________________________________________________________________________________________________\n",
            "block_6_depthwise (DepthwiseCon (None, 14, 14, 192)  1728        block_6_pad[0][0]                \n",
            "__________________________________________________________________________________________________\n",
            "block_6_depthwise_BN (BatchNorm (None, 14, 14, 192)  768         block_6_depthwise[0][0]          \n",
            "__________________________________________________________________________________________________\n",
            "block_6_depthwise_relu (ReLU)   (None, 14, 14, 192)  0           block_6_depthwise_BN[0][0]       \n",
            "__________________________________________________________________________________________________\n",
            "block_6_project (Conv2D)        (None, 14, 14, 64)   12288       block_6_depthwise_relu[0][0]     \n",
            "__________________________________________________________________________________________________\n",
            "block_6_project_BN (BatchNormal (None, 14, 14, 64)   256         block_6_project[0][0]            \n",
            "__________________________________________________________________________________________________\n",
            "block_7_expand (Conv2D)         (None, 14, 14, 384)  24576       block_6_project_BN[0][0]         \n",
            "__________________________________________________________________________________________________\n",
            "block_7_expand_BN (BatchNormali (None, 14, 14, 384)  1536        block_7_expand[0][0]             \n",
            "__________________________________________________________________________________________________\n",
            "block_7_expand_relu (ReLU)      (None, 14, 14, 384)  0           block_7_expand_BN[0][0]          \n",
            "__________________________________________________________________________________________________\n",
            "block_7_depthwise (DepthwiseCon (None, 14, 14, 384)  3456        block_7_expand_relu[0][0]        \n",
            "__________________________________________________________________________________________________\n",
            "block_7_depthwise_BN (BatchNorm (None, 14, 14, 384)  1536        block_7_depthwise[0][0]          \n",
            "__________________________________________________________________________________________________\n",
            "block_7_depthwise_relu (ReLU)   (None, 14, 14, 384)  0           block_7_depthwise_BN[0][0]       \n",
            "__________________________________________________________________________________________________\n",
            "block_7_project (Conv2D)        (None, 14, 14, 64)   24576       block_7_depthwise_relu[0][0]     \n",
            "__________________________________________________________________________________________________\n",
            "block_7_project_BN (BatchNormal (None, 14, 14, 64)   256         block_7_project[0][0]            \n",
            "__________________________________________________________________________________________________\n",
            "block_7_add (Add)               (None, 14, 14, 64)   0           block_6_project_BN[0][0]         \n",
            "                                                                 block_7_project_BN[0][0]         \n",
            "__________________________________________________________________________________________________\n",
            "block_8_expand (Conv2D)         (None, 14, 14, 384)  24576       block_7_add[0][0]                \n",
            "__________________________________________________________________________________________________\n",
            "block_8_expand_BN (BatchNormali (None, 14, 14, 384)  1536        block_8_expand[0][0]             \n",
            "__________________________________________________________________________________________________\n",
            "block_8_expand_relu (ReLU)      (None, 14, 14, 384)  0           block_8_expand_BN[0][0]          \n",
            "__________________________________________________________________________________________________\n",
            "block_8_depthwise (DepthwiseCon (None, 14, 14, 384)  3456        block_8_expand_relu[0][0]        \n",
            "__________________________________________________________________________________________________\n",
            "block_8_depthwise_BN (BatchNorm (None, 14, 14, 384)  1536        block_8_depthwise[0][0]          \n",
            "__________________________________________________________________________________________________\n",
            "block_8_depthwise_relu (ReLU)   (None, 14, 14, 384)  0           block_8_depthwise_BN[0][0]       \n",
            "__________________________________________________________________________________________________\n",
            "block_8_project (Conv2D)        (None, 14, 14, 64)   24576       block_8_depthwise_relu[0][0]     \n",
            "__________________________________________________________________________________________________\n",
            "block_8_project_BN (BatchNormal (None, 14, 14, 64)   256         block_8_project[0][0]            \n",
            "__________________________________________________________________________________________________\n",
            "block_8_add (Add)               (None, 14, 14, 64)   0           block_7_add[0][0]                \n",
            "                                                                 block_8_project_BN[0][0]         \n",
            "__________________________________________________________________________________________________\n",
            "block_9_expand (Conv2D)         (None, 14, 14, 384)  24576       block_8_add[0][0]                \n",
            "__________________________________________________________________________________________________\n",
            "block_9_expand_BN (BatchNormali (None, 14, 14, 384)  1536        block_9_expand[0][0]             \n",
            "__________________________________________________________________________________________________\n",
            "block_9_expand_relu (ReLU)      (None, 14, 14, 384)  0           block_9_expand_BN[0][0]          \n",
            "__________________________________________________________________________________________________\n",
            "block_9_depthwise (DepthwiseCon (None, 14, 14, 384)  3456        block_9_expand_relu[0][0]        \n",
            "__________________________________________________________________________________________________\n",
            "block_9_depthwise_BN (BatchNorm (None, 14, 14, 384)  1536        block_9_depthwise[0][0]          \n",
            "__________________________________________________________________________________________________\n",
            "block_9_depthwise_relu (ReLU)   (None, 14, 14, 384)  0           block_9_depthwise_BN[0][0]       \n",
            "__________________________________________________________________________________________________\n",
            "block_9_project (Conv2D)        (None, 14, 14, 64)   24576       block_9_depthwise_relu[0][0]     \n",
            "__________________________________________________________________________________________________\n",
            "block_9_project_BN (BatchNormal (None, 14, 14, 64)   256         block_9_project[0][0]            \n",
            "__________________________________________________________________________________________________\n",
            "block_9_add (Add)               (None, 14, 14, 64)   0           block_8_add[0][0]                \n",
            "                                                                 block_9_project_BN[0][0]         \n",
            "__________________________________________________________________________________________________\n",
            "block_10_expand (Conv2D)        (None, 14, 14, 384)  24576       block_9_add[0][0]                \n",
            "__________________________________________________________________________________________________\n",
            "block_10_expand_BN (BatchNormal (None, 14, 14, 384)  1536        block_10_expand[0][0]            \n",
            "__________________________________________________________________________________________________\n",
            "block_10_expand_relu (ReLU)     (None, 14, 14, 384)  0           block_10_expand_BN[0][0]         \n",
            "__________________________________________________________________________________________________\n",
            "block_10_depthwise (DepthwiseCo (None, 14, 14, 384)  3456        block_10_expand_relu[0][0]       \n",
            "__________________________________________________________________________________________________\n",
            "block_10_depthwise_BN (BatchNor (None, 14, 14, 384)  1536        block_10_depthwise[0][0]         \n",
            "__________________________________________________________________________________________________\n",
            "block_10_depthwise_relu (ReLU)  (None, 14, 14, 384)  0           block_10_depthwise_BN[0][0]      \n",
            "__________________________________________________________________________________________________\n",
            "block_10_project (Conv2D)       (None, 14, 14, 96)   36864       block_10_depthwise_relu[0][0]    \n",
            "__________________________________________________________________________________________________\n",
            "block_10_project_BN (BatchNorma (None, 14, 14, 96)   384         block_10_project[0][0]           \n",
            "__________________________________________________________________________________________________\n",
            "block_11_expand (Conv2D)        (None, 14, 14, 576)  55296       block_10_project_BN[0][0]        \n",
            "__________________________________________________________________________________________________\n",
            "block_11_expand_BN (BatchNormal (None, 14, 14, 576)  2304        block_11_expand[0][0]            \n",
            "__________________________________________________________________________________________________\n",
            "block_11_expand_relu (ReLU)     (None, 14, 14, 576)  0           block_11_expand_BN[0][0]         \n",
            "__________________________________________________________________________________________________\n",
            "block_11_depthwise (DepthwiseCo (None, 14, 14, 576)  5184        block_11_expand_relu[0][0]       \n",
            "__________________________________________________________________________________________________\n",
            "block_11_depthwise_BN (BatchNor (None, 14, 14, 576)  2304        block_11_depthwise[0][0]         \n",
            "__________________________________________________________________________________________________\n",
            "block_11_depthwise_relu (ReLU)  (None, 14, 14, 576)  0           block_11_depthwise_BN[0][0]      \n",
            "__________________________________________________________________________________________________\n",
            "block_11_project (Conv2D)       (None, 14, 14, 96)   55296       block_11_depthwise_relu[0][0]    \n",
            "__________________________________________________________________________________________________\n",
            "block_11_project_BN (BatchNorma (None, 14, 14, 96)   384         block_11_project[0][0]           \n",
            "__________________________________________________________________________________________________\n",
            "block_11_add (Add)              (None, 14, 14, 96)   0           block_10_project_BN[0][0]        \n",
            "                                                                 block_11_project_BN[0][0]        \n",
            "__________________________________________________________________________________________________\n",
            "block_12_expand (Conv2D)        (None, 14, 14, 576)  55296       block_11_add[0][0]               \n",
            "__________________________________________________________________________________________________\n",
            "block_12_expand_BN (BatchNormal (None, 14, 14, 576)  2304        block_12_expand[0][0]            \n",
            "__________________________________________________________________________________________________\n",
            "block_12_expand_relu (ReLU)     (None, 14, 14, 576)  0           block_12_expand_BN[0][0]         \n",
            "__________________________________________________________________________________________________\n",
            "block_12_depthwise (DepthwiseCo (None, 14, 14, 576)  5184        block_12_expand_relu[0][0]       \n",
            "__________________________________________________________________________________________________\n",
            "block_12_depthwise_BN (BatchNor (None, 14, 14, 576)  2304        block_12_depthwise[0][0]         \n",
            "__________________________________________________________________________________________________\n",
            "block_12_depthwise_relu (ReLU)  (None, 14, 14, 576)  0           block_12_depthwise_BN[0][0]      \n",
            "__________________________________________________________________________________________________\n",
            "block_12_project (Conv2D)       (None, 14, 14, 96)   55296       block_12_depthwise_relu[0][0]    \n",
            "__________________________________________________________________________________________________\n",
            "block_12_project_BN (BatchNorma (None, 14, 14, 96)   384         block_12_project[0][0]           \n",
            "__________________________________________________________________________________________________\n",
            "block_12_add (Add)              (None, 14, 14, 96)   0           block_11_add[0][0]               \n",
            "                                                                 block_12_project_BN[0][0]        \n",
            "__________________________________________________________________________________________________\n",
            "block_13_expand (Conv2D)        (None, 14, 14, 576)  55296       block_12_add[0][0]               \n",
            "__________________________________________________________________________________________________\n",
            "block_13_expand_BN (BatchNormal (None, 14, 14, 576)  2304        block_13_expand[0][0]            \n",
            "__________________________________________________________________________________________________\n",
            "block_13_expand_relu (ReLU)     (None, 14, 14, 576)  0           block_13_expand_BN[0][0]         \n",
            "__________________________________________________________________________________________________\n",
            "block_13_pad (ZeroPadding2D)    (None, 15, 15, 576)  0           block_13_expand_relu[0][0]       \n",
            "__________________________________________________________________________________________________\n",
            "block_13_depthwise (DepthwiseCo (None, 7, 7, 576)    5184        block_13_pad[0][0]               \n",
            "__________________________________________________________________________________________________\n",
            "block_13_depthwise_BN (BatchNor (None, 7, 7, 576)    2304        block_13_depthwise[0][0]         \n",
            "__________________________________________________________________________________________________\n",
            "block_13_depthwise_relu (ReLU)  (None, 7, 7, 576)    0           block_13_depthwise_BN[0][0]      \n",
            "__________________________________________________________________________________________________\n",
            "block_13_project (Conv2D)       (None, 7, 7, 160)    92160       block_13_depthwise_relu[0][0]    \n",
            "__________________________________________________________________________________________________\n",
            "block_13_project_BN (BatchNorma (None, 7, 7, 160)    640         block_13_project[0][0]           \n",
            "__________________________________________________________________________________________________\n",
            "block_14_expand (Conv2D)        (None, 7, 7, 960)    153600      block_13_project_BN[0][0]        \n",
            "__________________________________________________________________________________________________\n",
            "block_14_expand_BN (BatchNormal (None, 7, 7, 960)    3840        block_14_expand[0][0]            \n",
            "__________________________________________________________________________________________________\n",
            "block_14_expand_relu (ReLU)     (None, 7, 7, 960)    0           block_14_expand_BN[0][0]         \n",
            "__________________________________________________________________________________________________\n",
            "block_14_depthwise (DepthwiseCo (None, 7, 7, 960)    8640        block_14_expand_relu[0][0]       \n",
            "__________________________________________________________________________________________________\n",
            "block_14_depthwise_BN (BatchNor (None, 7, 7, 960)    3840        block_14_depthwise[0][0]         \n",
            "__________________________________________________________________________________________________\n",
            "block_14_depthwise_relu (ReLU)  (None, 7, 7, 960)    0           block_14_depthwise_BN[0][0]      \n",
            "__________________________________________________________________________________________________\n",
            "block_14_project (Conv2D)       (None, 7, 7, 160)    153600      block_14_depthwise_relu[0][0]    \n",
            "__________________________________________________________________________________________________\n",
            "block_14_project_BN (BatchNorma (None, 7, 7, 160)    640         block_14_project[0][0]           \n",
            "__________________________________________________________________________________________________\n",
            "block_14_add (Add)              (None, 7, 7, 160)    0           block_13_project_BN[0][0]        \n",
            "                                                                 block_14_project_BN[0][0]        \n",
            "__________________________________________________________________________________________________\n",
            "block_15_expand (Conv2D)        (None, 7, 7, 960)    153600      block_14_add[0][0]               \n",
            "__________________________________________________________________________________________________\n",
            "block_15_expand_BN (BatchNormal (None, 7, 7, 960)    3840        block_15_expand[0][0]            \n",
            "__________________________________________________________________________________________________\n",
            "block_15_expand_relu (ReLU)     (None, 7, 7, 960)    0           block_15_expand_BN[0][0]         \n",
            "__________________________________________________________________________________________________\n",
            "block_15_depthwise (DepthwiseCo (None, 7, 7, 960)    8640        block_15_expand_relu[0][0]       \n",
            "__________________________________________________________________________________________________\n",
            "block_15_depthwise_BN (BatchNor (None, 7, 7, 960)    3840        block_15_depthwise[0][0]         \n",
            "__________________________________________________________________________________________________\n",
            "block_15_depthwise_relu (ReLU)  (None, 7, 7, 960)    0           block_15_depthwise_BN[0][0]      \n",
            "__________________________________________________________________________________________________\n",
            "block_15_project (Conv2D)       (None, 7, 7, 160)    153600      block_15_depthwise_relu[0][0]    \n",
            "__________________________________________________________________________________________________\n",
            "block_15_project_BN (BatchNorma (None, 7, 7, 160)    640         block_15_project[0][0]           \n",
            "__________________________________________________________________________________________________\n",
            "block_15_add (Add)              (None, 7, 7, 160)    0           block_14_add[0][0]               \n",
            "                                                                 block_15_project_BN[0][0]        \n",
            "__________________________________________________________________________________________________\n",
            "block_16_expand (Conv2D)        (None, 7, 7, 960)    153600      block_15_add[0][0]               \n",
            "__________________________________________________________________________________________________\n",
            "block_16_expand_BN (BatchNormal (None, 7, 7, 960)    3840        block_16_expand[0][0]            \n",
            "__________________________________________________________________________________________________\n",
            "block_16_expand_relu (ReLU)     (None, 7, 7, 960)    0           block_16_expand_BN[0][0]         \n",
            "__________________________________________________________________________________________________\n",
            "block_16_depthwise (DepthwiseCo (None, 7, 7, 960)    8640        block_16_expand_relu[0][0]       \n",
            "__________________________________________________________________________________________________\n",
            "block_16_depthwise_BN (BatchNor (None, 7, 7, 960)    3840        block_16_depthwise[0][0]         \n",
            "__________________________________________________________________________________________________\n",
            "block_16_depthwise_relu (ReLU)  (None, 7, 7, 960)    0           block_16_depthwise_BN[0][0]      \n",
            "__________________________________________________________________________________________________\n",
            "block_16_project (Conv2D)       (None, 7, 7, 320)    307200      block_16_depthwise_relu[0][0]    \n",
            "__________________________________________________________________________________________________\n",
            "block_16_project_BN (BatchNorma (None, 7, 7, 320)    1280        block_16_project[0][0]           \n",
            "__________________________________________________________________________________________________\n",
            "Conv_1 (Conv2D)                 (None, 7, 7, 1280)   409600      block_16_project_BN[0][0]        \n",
            "__________________________________________________________________________________________________\n",
            "Conv_1_bn (BatchNormalization)  (None, 7, 7, 1280)   5120        Conv_1[0][0]                     \n",
            "__________________________________________________________________________________________________\n",
            "out_relu (ReLU)                 (None, 7, 7, 1280)   0           Conv_1_bn[0][0]                  \n",
            "__________________________________________________________________________________________________\n",
            "global_average_pooling2d_14 (Gl (None, 1280)         0           out_relu[0][0]                   \n",
            "__________________________________________________________________________________________________\n",
            "flatten_4 (Flatten)             (None, 1280)         0           global_average_pooling2d_14[0][0]\n",
            "__________________________________________________________________________________________________\n",
            "dense_25 (Dense)                (None, 1024)         1311744     flatten_4[0][0]                  \n",
            "__________________________________________________________________________________________________\n",
            "dropout_4 (Dropout)             (None, 1024)         0           dense_25[0][0]                   \n",
            "__________________________________________________________________________________________________\n",
            "dense_26 (Dense)                (None, 512)          524800      dropout_4[0][0]                  \n",
            "__________________________________________________________________________________________________\n",
            "dropout_5 (Dropout)             (None, 512)          0           dense_26[0][0]                   \n",
            "__________________________________________________________________________________________________\n",
            "dense_27 (Dense)                (None, 196)          100548      dropout_5[0][0]                  \n",
            "==================================================================================================\n",
            "Total params: 4,195,076\n",
            "Trainable params: 4,160,964\n",
            "Non-trainable params: 34,112\n",
            "__________________________________________________________________________________________________\n"
          ],
          "name": "stdout"
        }
      ]
    },
    {
      "cell_type": "code",
      "metadata": {
        "colab": {
          "base_uri": "https://localhost:8080/"
        },
        "id": "3rFxOCU1fCSY",
        "outputId": "64ae4c84-1f02-4d84-f90c-8f0bf07e659b"
      },
      "source": [
        "model5.compile(optimizer='adam', loss='categorical_crossentropy',\n",
        "                metrics=['accuracy'])\n",
        "\n",
        "model_history5 = model5.fit(train_ds_split, validation_data=val_ds_split, \n",
        "                            epochs=10, verbose=1, callbacks=[early_stopping_callback])\n",
        "\n"
      ],
      "execution_count": null,
      "outputs": [
        {
          "output_type": "stream",
          "text": [
            "Epoch 1/10\n",
            "  2/102 [..............................] - ETA: 21s - loss: 5.2741 - accuracy: 0.0312WARNING:tensorflow:Callbacks method `on_train_batch_end` is slow compared to the batch time (batch time: 0.1159s vs `on_train_batch_end` time: 0.3179s). Check your callbacks.\n",
            "102/102 [==============================] - 54s 526ms/step - loss: 5.2932 - accuracy: 0.0089 - val_loss: 6.3766 - val_accuracy: 0.0031\n",
            "Epoch 2/10\n",
            "102/102 [==============================] - 49s 480ms/step - loss: 5.1612 - accuracy: 0.0097 - val_loss: 5.6065 - val_accuracy: 0.0080\n",
            "Epoch 3/10\n",
            "102/102 [==============================] - 48s 469ms/step - loss: 4.9551 - accuracy: 0.0157 - val_loss: 7.7638 - val_accuracy: 0.0068\n",
            "Epoch 4/10\n",
            "102/102 [==============================] - 48s 469ms/step - loss: 4.6587 - accuracy: 0.0275 - val_loss: 10.0183 - val_accuracy: 0.0043\n",
            "Epoch 5/10\n",
            "102/102 [==============================] - 48s 471ms/step - loss: 4.3804 - accuracy: 0.0391 - val_loss: 5.3262 - val_accuracy: 0.0123\n",
            "Epoch 6/10\n",
            "102/102 [==============================] - 48s 472ms/step - loss: 4.1012 - accuracy: 0.0522 - val_loss: 8.3552 - val_accuracy: 0.0049\n",
            "Epoch 7/10\n",
            "102/102 [==============================] - 49s 476ms/step - loss: 3.9268 - accuracy: 0.0688 - val_loss: 13.3191 - val_accuracy: 0.0037\n",
            "Epoch 8/10\n",
            "102/102 [==============================] - 48s 468ms/step - loss: 3.6305 - accuracy: 0.1001 - val_loss: 6.4747 - val_accuracy: 0.0080\n",
            "Epoch 9/10\n",
            "102/102 [==============================] - 48s 469ms/step - loss: 3.3458 - accuracy: 0.1228 - val_loss: 5.8505 - val_accuracy: 0.0233\n",
            "Epoch 10/10\n",
            "102/102 [==============================] - 48s 469ms/step - loss: 3.1276 - accuracy: 0.1538 - val_loss: 6.8021 - val_accuracy: 0.0233\n"
          ],
          "name": "stdout"
        }
      ]
    },
    {
      "cell_type": "code",
      "metadata": {
        "colab": {
          "base_uri": "https://localhost:8080/"
        },
        "id": "2j9aTqQmfCSY",
        "outputId": "bf3a079c-2ea6-4041-9393-ec519251cd57"
      },
      "source": [
        "model5.evaluate(test_ds)"
      ],
      "execution_count": null,
      "outputs": [
        {
          "output_type": "stream",
          "text": [
            "126/126 [==============================] - 38s 301ms/step - loss: 6.7334 - accuracy: 0.0234\n"
          ],
          "name": "stdout"
        },
        {
          "output_type": "execute_result",
          "data": {
            "text/plain": [
              "[6.733364582061768, 0.023380177095532417]"
            ]
          },
          "metadata": {
            "tags": []
          },
          "execution_count": 261
        }
      ]
    },
    {
      "cell_type": "code",
      "metadata": {
        "colab": {
          "base_uri": "https://localhost:8080/"
        },
        "id": "rmLTENJqoAqM",
        "outputId": "d1d7233c-7085-4e6c-dcd9-0659869b6705"
      },
      "source": [
        "#increase EPOCH\n",
        "\n",
        "model_history5 = model5.fit(train_ds_split, validation_data=val_ds_split, \n",
        "                            epochs=100, verbose=1)\n",
        "\n"
      ],
      "execution_count": null,
      "outputs": [
        {
          "output_type": "stream",
          "text": [
            "Epoch 1/100\n",
            "  2/102 [..............................] - ETA: 37s - loss: 2.3485 - accuracy: 0.2734WARNING:tensorflow:Callbacks method `on_train_batch_end` is slow compared to the batch time (batch time: 0.1150s vs `on_train_batch_end` time: 0.3053s). Check your callbacks.\n",
            "102/102 [==============================] - 48s 474ms/step - loss: 2.1819 - accuracy: 0.3332 - val_loss: 10.2524 - val_accuracy: 0.0227\n",
            "Epoch 2/100\n",
            "102/102 [==============================] - 47s 465ms/step - loss: 1.9711 - accuracy: 0.3741 - val_loss: 8.1947 - val_accuracy: 0.0393\n",
            "Epoch 3/100\n",
            "102/102 [==============================] - 50s 485ms/step - loss: 1.8216 - accuracy: 0.4177 - val_loss: 9.2073 - val_accuracy: 0.0295\n",
            "Epoch 4/100\n",
            "102/102 [==============================] - 48s 470ms/step - loss: 1.6887 - accuracy: 0.4497 - val_loss: 10.2367 - val_accuracy: 0.0374\n",
            "Epoch 5/100\n",
            "102/102 [==============================] - 47s 465ms/step - loss: 1.6474 - accuracy: 0.4646 - val_loss: 8.0631 - val_accuracy: 0.0540\n",
            "Epoch 6/100\n",
            "102/102 [==============================] - 48s 474ms/step - loss: 1.5533 - accuracy: 0.4990 - val_loss: 9.6946 - val_accuracy: 0.0411\n",
            "Epoch 7/100\n",
            "102/102 [==============================] - 48s 473ms/step - loss: 1.4040 - accuracy: 0.5414 - val_loss: 9.3404 - val_accuracy: 0.0522\n",
            "Epoch 8/100\n",
            "102/102 [==============================] - 48s 473ms/step - loss: 1.3261 - accuracy: 0.5662 - val_loss: 12.1143 - val_accuracy: 0.0473\n",
            "Epoch 9/100\n",
            "102/102 [==============================] - 48s 468ms/step - loss: 1.1599 - accuracy: 0.6163 - val_loss: 19.1583 - val_accuracy: 0.0203\n",
            "Epoch 10/100\n",
            "102/102 [==============================] - 48s 470ms/step - loss: 1.1038 - accuracy: 0.6405 - val_loss: 13.3327 - val_accuracy: 0.0368\n",
            "Epoch 11/100\n",
            "102/102 [==============================] - 48s 467ms/step - loss: 1.0241 - accuracy: 0.6625 - val_loss: 9.1221 - val_accuracy: 0.0522\n",
            "Epoch 12/100\n",
            "102/102 [==============================] - 48s 474ms/step - loss: 0.9827 - accuracy: 0.6789 - val_loss: 18.0566 - val_accuracy: 0.0442\n",
            "Epoch 13/100\n",
            "102/102 [==============================] - 48s 467ms/step - loss: 0.8820 - accuracy: 0.7068 - val_loss: 10.3562 - val_accuracy: 0.0909\n",
            "Epoch 14/100\n",
            "102/102 [==============================] - 49s 476ms/step - loss: 0.8457 - accuracy: 0.7229 - val_loss: 17.4553 - val_accuracy: 0.0589\n",
            "Epoch 15/100\n",
            "102/102 [==============================] - 47s 465ms/step - loss: 0.7530 - accuracy: 0.7457 - val_loss: 17.9919 - val_accuracy: 0.0399\n",
            "Epoch 16/100\n",
            "102/102 [==============================] - 47s 464ms/step - loss: 0.7028 - accuracy: 0.7685 - val_loss: 13.3529 - val_accuracy: 0.0902\n",
            "Epoch 17/100\n",
            "102/102 [==============================] - 48s 466ms/step - loss: 0.6477 - accuracy: 0.7909 - val_loss: 16.8029 - val_accuracy: 0.0718\n",
            "Epoch 18/100\n",
            "102/102 [==============================] - 48s 466ms/step - loss: 0.5943 - accuracy: 0.8011 - val_loss: 13.8317 - val_accuracy: 0.1044\n",
            "Epoch 19/100\n",
            "102/102 [==============================] - 47s 465ms/step - loss: 0.5943 - accuracy: 0.8072 - val_loss: 14.5354 - val_accuracy: 0.0718\n",
            "Epoch 20/100\n",
            "102/102 [==============================] - 47s 465ms/step - loss: 0.5557 - accuracy: 0.8187 - val_loss: 8.9430 - val_accuracy: 0.1473\n",
            "Epoch 21/100\n",
            "102/102 [==============================] - 48s 472ms/step - loss: 0.5015 - accuracy: 0.8342 - val_loss: 11.0464 - val_accuracy: 0.1130\n",
            "Epoch 22/100\n",
            "102/102 [==============================] - 49s 478ms/step - loss: 0.5126 - accuracy: 0.8318 - val_loss: 10.0922 - val_accuracy: 0.0939\n",
            "Epoch 23/100\n",
            "102/102 [==============================] - 47s 464ms/step - loss: 0.4976 - accuracy: 0.8417 - val_loss: 9.8080 - val_accuracy: 0.1062\n",
            "Epoch 24/100\n",
            "102/102 [==============================] - 49s 482ms/step - loss: 0.4664 - accuracy: 0.8508 - val_loss: 8.2227 - val_accuracy: 0.1455\n",
            "Epoch 25/100\n",
            "102/102 [==============================] - 49s 485ms/step - loss: 0.4269 - accuracy: 0.8608 - val_loss: 8.4227 - val_accuracy: 0.1774\n",
            "Epoch 26/100\n",
            "102/102 [==============================] - 49s 481ms/step - loss: 0.4061 - accuracy: 0.8643 - val_loss: 8.3847 - val_accuracy: 0.1829\n",
            "Epoch 27/100\n",
            "102/102 [==============================] - 49s 476ms/step - loss: 0.3668 - accuracy: 0.8783 - val_loss: 8.5139 - val_accuracy: 0.1958\n",
            "Epoch 28/100\n",
            "102/102 [==============================] - 49s 482ms/step - loss: 0.3877 - accuracy: 0.8794 - val_loss: 7.9781 - val_accuracy: 0.2192\n",
            "Epoch 29/100\n",
            "102/102 [==============================] - 49s 476ms/step - loss: 0.3544 - accuracy: 0.8903 - val_loss: 7.8001 - val_accuracy: 0.2259\n",
            "Epoch 30/100\n",
            "102/102 [==============================] - 48s 475ms/step - loss: 0.3159 - accuracy: 0.9022 - val_loss: 7.6761 - val_accuracy: 0.2363\n",
            "Epoch 31/100\n",
            "102/102 [==============================] - 48s 475ms/step - loss: 0.3247 - accuracy: 0.9013 - val_loss: 5.6281 - val_accuracy: 0.2805\n",
            "Epoch 32/100\n",
            "102/102 [==============================] - 48s 470ms/step - loss: 0.3102 - accuracy: 0.9027 - val_loss: 5.5480 - val_accuracy: 0.2830\n",
            "Epoch 33/100\n",
            "102/102 [==============================] - 47s 463ms/step - loss: 0.3149 - accuracy: 0.9007 - val_loss: 6.7346 - val_accuracy: 0.2492\n",
            "Epoch 34/100\n",
            "102/102 [==============================] - 48s 469ms/step - loss: 0.3158 - accuracy: 0.9012 - val_loss: 5.3818 - val_accuracy: 0.3161\n",
            "Epoch 35/100\n",
            "102/102 [==============================] - 49s 478ms/step - loss: 0.3224 - accuracy: 0.8993 - val_loss: 5.9222 - val_accuracy: 0.3143\n",
            "Epoch 36/100\n",
            "102/102 [==============================] - 48s 473ms/step - loss: 0.2661 - accuracy: 0.9114 - val_loss: 6.8163 - val_accuracy: 0.2511\n",
            "Epoch 37/100\n",
            "102/102 [==============================] - 48s 475ms/step - loss: 0.2973 - accuracy: 0.9090 - val_loss: 5.5281 - val_accuracy: 0.2756\n",
            "Epoch 38/100\n",
            "102/102 [==============================] - 48s 470ms/step - loss: 0.2677 - accuracy: 0.9176 - val_loss: 5.2860 - val_accuracy: 0.3161\n",
            "Epoch 39/100\n",
            "102/102 [==============================] - 48s 470ms/step - loss: 0.2839 - accuracy: 0.9073 - val_loss: 8.6394 - val_accuracy: 0.2063\n",
            "Epoch 40/100\n",
            "102/102 [==============================] - 49s 479ms/step - loss: 0.2437 - accuracy: 0.9213 - val_loss: 6.7025 - val_accuracy: 0.2474\n",
            "Epoch 41/100\n",
            "102/102 [==============================] - 49s 484ms/step - loss: 0.2545 - accuracy: 0.9228 - val_loss: 6.2653 - val_accuracy: 0.2953\n",
            "Epoch 42/100\n",
            "102/102 [==============================] - 49s 478ms/step - loss: 0.2622 - accuracy: 0.9185 - val_loss: 9.2403 - val_accuracy: 0.2050\n",
            "Epoch 43/100\n",
            "102/102 [==============================] - 49s 482ms/step - loss: 0.2672 - accuracy: 0.9199 - val_loss: 8.7931 - val_accuracy: 0.2290\n",
            "Epoch 44/100\n",
            "102/102 [==============================] - 48s 474ms/step - loss: 0.2265 - accuracy: 0.9322 - val_loss: 8.5591 - val_accuracy: 0.2093\n",
            "Epoch 45/100\n",
            "102/102 [==============================] - 48s 474ms/step - loss: 0.2518 - accuracy: 0.9225 - val_loss: 6.0122 - val_accuracy: 0.3131\n",
            "Epoch 46/100\n",
            "102/102 [==============================] - 49s 476ms/step - loss: 0.2299 - accuracy: 0.9300 - val_loss: 6.6788 - val_accuracy: 0.2713\n",
            "Epoch 47/100\n",
            "102/102 [==============================] - 49s 483ms/step - loss: 0.2135 - accuracy: 0.9326 - val_loss: 5.4942 - val_accuracy: 0.3438\n",
            "Epoch 48/100\n",
            "102/102 [==============================] - 49s 481ms/step - loss: 0.2359 - accuracy: 0.9283 - val_loss: 4.6929 - val_accuracy: 0.3874\n",
            "Epoch 49/100\n",
            "102/102 [==============================] - 49s 476ms/step - loss: 0.2347 - accuracy: 0.9314 - val_loss: 6.2513 - val_accuracy: 0.2934\n",
            "Epoch 50/100\n",
            "102/102 [==============================] - 48s 475ms/step - loss: 0.1995 - accuracy: 0.9414 - val_loss: 4.9386 - val_accuracy: 0.3591\n",
            "Epoch 51/100\n",
            "102/102 [==============================] - 49s 479ms/step - loss: 0.1973 - accuracy: 0.9384 - val_loss: 4.2327 - val_accuracy: 0.3972\n",
            "Epoch 52/100\n",
            "102/102 [==============================] - 49s 483ms/step - loss: 0.2049 - accuracy: 0.9360 - val_loss: 5.7175 - val_accuracy: 0.3100\n",
            "Epoch 53/100\n",
            "102/102 [==============================] - 49s 481ms/step - loss: 0.2173 - accuracy: 0.9303 - val_loss: 6.4019 - val_accuracy: 0.2388\n",
            "Epoch 54/100\n",
            "102/102 [==============================] - 49s 477ms/step - loss: 0.2436 - accuracy: 0.9252 - val_loss: 4.9533 - val_accuracy: 0.3106\n",
            "Epoch 55/100\n",
            "102/102 [==============================] - 49s 479ms/step - loss: 0.2180 - accuracy: 0.9318 - val_loss: 6.4144 - val_accuracy: 0.2934\n",
            "Epoch 56/100\n",
            "102/102 [==============================] - 49s 477ms/step - loss: 0.1892 - accuracy: 0.9411 - val_loss: 5.0512 - val_accuracy: 0.3309\n",
            "Epoch 57/100\n",
            "102/102 [==============================] - 50s 487ms/step - loss: 0.1676 - accuracy: 0.9492 - val_loss: 5.8690 - val_accuracy: 0.3456\n",
            "Epoch 58/100\n",
            "102/102 [==============================] - 49s 477ms/step - loss: 0.2412 - accuracy: 0.9300 - val_loss: 8.4245 - val_accuracy: 0.2216\n",
            "Epoch 59/100\n",
            "102/102 [==============================] - 49s 477ms/step - loss: 0.2333 - accuracy: 0.9303 - val_loss: 6.4993 - val_accuracy: 0.2824\n",
            "Epoch 60/100\n",
            "102/102 [==============================] - 49s 477ms/step - loss: 0.2271 - accuracy: 0.9342 - val_loss: 5.6492 - val_accuracy: 0.3303\n",
            "Epoch 61/100\n",
            "102/102 [==============================] - 50s 486ms/step - loss: 0.2052 - accuracy: 0.9351 - val_loss: 5.4530 - val_accuracy: 0.3567\n",
            "Epoch 62/100\n",
            "102/102 [==============================] - 49s 485ms/step - loss: 0.1909 - accuracy: 0.9441 - val_loss: 5.5100 - val_accuracy: 0.3542\n",
            "Epoch 63/100\n",
            "102/102 [==============================] - 49s 484ms/step - loss: 0.1659 - accuracy: 0.9500 - val_loss: 6.6189 - val_accuracy: 0.3204\n",
            "Epoch 64/100\n",
            "102/102 [==============================] - 49s 482ms/step - loss: 0.1913 - accuracy: 0.9423 - val_loss: 6.5495 - val_accuracy: 0.2990\n",
            "Epoch 65/100\n",
            "102/102 [==============================] - 49s 479ms/step - loss: 0.1810 - accuracy: 0.9474 - val_loss: 5.9646 - val_accuracy: 0.3223\n",
            "Epoch 66/100\n",
            "102/102 [==============================] - 49s 481ms/step - loss: 0.1823 - accuracy: 0.9455 - val_loss: 6.2819 - val_accuracy: 0.2904\n",
            "Epoch 67/100\n",
            "102/102 [==============================] - 49s 483ms/step - loss: 0.1835 - accuracy: 0.9429 - val_loss: 5.3660 - val_accuracy: 0.3665\n",
            "Epoch 68/100\n",
            "102/102 [==============================] - 49s 479ms/step - loss: 0.1893 - accuracy: 0.9406 - val_loss: 5.8592 - val_accuracy: 0.2848\n",
            "Epoch 69/100\n",
            "102/102 [==============================] - 49s 482ms/step - loss: 0.1383 - accuracy: 0.9563 - val_loss: 4.6846 - val_accuracy: 0.3806\n",
            "Epoch 70/100\n",
            "102/102 [==============================] - 49s 481ms/step - loss: 0.1718 - accuracy: 0.9493 - val_loss: 4.9023 - val_accuracy: 0.3352\n",
            "Epoch 71/100\n",
            "102/102 [==============================] - 50s 487ms/step - loss: 0.1995 - accuracy: 0.9383 - val_loss: 4.2135 - val_accuracy: 0.4052\n",
            "Epoch 72/100\n",
            "102/102 [==============================] - 49s 485ms/step - loss: 0.1843 - accuracy: 0.9454 - val_loss: 4.5271 - val_accuracy: 0.4144\n",
            "Epoch 73/100\n",
            "102/102 [==============================] - 49s 483ms/step - loss: 0.1589 - accuracy: 0.9507 - val_loss: 5.7972 - val_accuracy: 0.3720\n",
            "Epoch 74/100\n",
            "102/102 [==============================] - 49s 481ms/step - loss: 0.1559 - accuracy: 0.9506 - val_loss: 3.9963 - val_accuracy: 0.4555\n",
            "Epoch 75/100\n",
            "102/102 [==============================] - 49s 481ms/step - loss: 0.1606 - accuracy: 0.9518 - val_loss: 4.7699 - val_accuracy: 0.3898\n",
            "Epoch 76/100\n",
            "102/102 [==============================] - 49s 481ms/step - loss: 0.1705 - accuracy: 0.9486 - val_loss: 4.5818 - val_accuracy: 0.4144\n",
            "Epoch 77/100\n",
            "102/102 [==============================] - 49s 484ms/step - loss: 0.1533 - accuracy: 0.9544 - val_loss: 4.6329 - val_accuracy: 0.4211\n",
            "Epoch 78/100\n",
            "102/102 [==============================] - 50s 487ms/step - loss: 0.1468 - accuracy: 0.9556 - val_loss: 5.4841 - val_accuracy: 0.3591\n",
            "Epoch 79/100\n",
            "102/102 [==============================] - 50s 486ms/step - loss: 0.1456 - accuracy: 0.9544 - val_loss: 5.1131 - val_accuracy: 0.3972\n",
            "Epoch 80/100\n",
            "102/102 [==============================] - 50s 488ms/step - loss: 0.1725 - accuracy: 0.9500 - val_loss: 6.4310 - val_accuracy: 0.3161\n",
            "Epoch 81/100\n",
            "102/102 [==============================] - 49s 480ms/step - loss: 0.2133 - accuracy: 0.9398 - val_loss: 5.8559 - val_accuracy: 0.3026\n",
            "Epoch 82/100\n",
            "102/102 [==============================] - 49s 475ms/step - loss: 0.1770 - accuracy: 0.9460 - val_loss: 5.0220 - val_accuracy: 0.3720\n",
            "Epoch 83/100\n",
            "102/102 [==============================] - 49s 480ms/step - loss: 0.1809 - accuracy: 0.9449 - val_loss: 4.7933 - val_accuracy: 0.3781\n",
            "Epoch 84/100\n",
            "102/102 [==============================] - 48s 474ms/step - loss: 0.1722 - accuracy: 0.9530 - val_loss: 4.8623 - val_accuracy: 0.3757\n",
            "Epoch 85/100\n",
            "102/102 [==============================] - 48s 475ms/step - loss: 0.1364 - accuracy: 0.9583 - val_loss: 4.8676 - val_accuracy: 0.3843\n",
            "Epoch 86/100\n",
            "102/102 [==============================] - 49s 482ms/step - loss: 0.1117 - accuracy: 0.9665 - val_loss: 6.4909 - val_accuracy: 0.2990\n",
            "Epoch 87/100\n",
            "102/102 [==============================] - 49s 482ms/step - loss: 0.1269 - accuracy: 0.9610 - val_loss: 5.5794 - val_accuracy: 0.3726\n",
            "Epoch 88/100\n",
            "102/102 [==============================] - 50s 485ms/step - loss: 0.1724 - accuracy: 0.9500 - val_loss: 8.0102 - val_accuracy: 0.2805\n",
            "Epoch 89/100\n",
            "102/102 [==============================] - 49s 483ms/step - loss: 0.1761 - accuracy: 0.9520 - val_loss: 6.6942 - val_accuracy: 0.3020\n",
            "Epoch 90/100\n",
            "102/102 [==============================] - 50s 487ms/step - loss: 0.1454 - accuracy: 0.9589 - val_loss: 6.2206 - val_accuracy: 0.3389\n",
            "Epoch 91/100\n",
            "102/102 [==============================] - 50s 486ms/step - loss: 0.1137 - accuracy: 0.9639 - val_loss: 7.5449 - val_accuracy: 0.2965\n",
            "Epoch 92/100\n",
            "102/102 [==============================] - 49s 480ms/step - loss: 0.1656 - accuracy: 0.9535 - val_loss: 6.1799 - val_accuracy: 0.3315\n",
            "Epoch 93/100\n",
            "102/102 [==============================] - 50s 485ms/step - loss: 0.1328 - accuracy: 0.9621 - val_loss: 7.3359 - val_accuracy: 0.2910\n",
            "Epoch 94/100\n",
            "102/102 [==============================] - 49s 477ms/step - loss: 0.1507 - accuracy: 0.9556 - val_loss: 5.8759 - val_accuracy: 0.3671\n",
            "Epoch 95/100\n",
            "102/102 [==============================] - 49s 479ms/step - loss: 0.1441 - accuracy: 0.9590 - val_loss: 5.3497 - val_accuracy: 0.3634\n",
            "Epoch 96/100\n",
            "102/102 [==============================] - 48s 472ms/step - loss: 0.1476 - accuracy: 0.9558 - val_loss: 4.7627 - val_accuracy: 0.4039\n",
            "Epoch 97/100\n",
            "102/102 [==============================] - 48s 470ms/step - loss: 0.1754 - accuracy: 0.9481 - val_loss: 4.0459 - val_accuracy: 0.4297\n",
            "Epoch 98/100\n",
            "102/102 [==============================] - 48s 475ms/step - loss: 0.1441 - accuracy: 0.9589 - val_loss: 5.4250 - val_accuracy: 0.3425\n",
            "Epoch 99/100\n",
            "102/102 [==============================] - 48s 471ms/step - loss: 0.1588 - accuracy: 0.9536 - val_loss: 4.8994 - val_accuracy: 0.4002\n",
            "Epoch 100/100\n",
            "102/102 [==============================] - 47s 465ms/step - loss: 0.1324 - accuracy: 0.9616 - val_loss: 5.0172 - val_accuracy: 0.4144\n"
          ],
          "name": "stdout"
        }
      ]
    },
    {
      "cell_type": "code",
      "metadata": {
        "colab": {
          "base_uri": "https://localhost:8080/"
        },
        "id": "AmtCVwHJoK7L",
        "outputId": "b327d557-c4f2-453f-9a7a-bddf8a228f74"
      },
      "source": [
        "model5.evaluate(test_ds)\n"
      ],
      "execution_count": null,
      "outputs": [
        {
          "output_type": "stream",
          "text": [
            "126/126 [==============================] - 39s 312ms/step - loss: 5.0591 - accuracy: 0.4018\n"
          ],
          "name": "stdout"
        },
        {
          "output_type": "execute_result",
          "data": {
            "text/plain": [
              "[5.059120178222656, 0.4018156826496124]"
            ]
          },
          "metadata": {
            "tags": []
          },
          "execution_count": 264
        }
      ]
    },
    {
      "cell_type": "code",
      "metadata": {
        "colab": {
          "base_uri": "https://localhost:8080/"
        },
        "id": "3Z4wiqZOfCSY",
        "outputId": "579575d1-aab4-4bd1-9624-c5862817c0e0"
      },
      "source": [
        "model5.predict(test_ds)"
      ],
      "execution_count": null,
      "outputs": [
        {
          "output_type": "execute_result",
          "data": {
            "text/plain": [
              "array([[2.5189945e-19, 8.0063230e-12, 1.0421762e-18, ..., 2.9176296e-19,\n",
              "        5.2579382e-13, 4.6220921e-14],\n",
              "       [5.1321986e-04, 1.4978117e-07, 2.0912612e-09, ..., 1.5462117e-06,\n",
              "        3.5974350e-09, 5.5304945e-06],\n",
              "       [2.0215755e-22, 1.8471000e-31, 9.1447848e-32, ..., 2.1369068e-12,\n",
              "        6.3509473e-20, 5.2376599e-26],\n",
              "       ...,\n",
              "       [3.5563263e-15, 2.3783393e-17, 9.0452887e-18, ..., 1.0846513e-04,\n",
              "        6.3295361e-06, 6.3505753e-18],\n",
              "       [1.0432233e-16, 1.3564177e-22, 1.4752811e-26, ..., 1.7122738e-22,\n",
              "        1.1933555e-29, 8.0598338e-25],\n",
              "       [3.7887688e-16, 1.4797284e-14, 4.6323753e-20, ..., 1.1435212e-11,\n",
              "        3.6023870e-10, 4.5974674e-12]], dtype=float32)"
            ]
          },
          "metadata": {
            "tags": []
          },
          "execution_count": 265
        }
      ]
    },
    {
      "cell_type": "code",
      "metadata": {
        "colab": {
          "base_uri": "https://localhost:8080/"
        },
        "id": "b0QcWqqI9AXS",
        "outputId": "e11575f1-ab07-485d-dae0-7c8b1cb995d3"
      },
      "source": [
        "model_history5.history.keys() "
      ],
      "execution_count": null,
      "outputs": [
        {
          "output_type": "execute_result",
          "data": {
            "text/plain": [
              "dict_keys(['loss', 'accuracy', 'val_loss', 'val_accuracy'])"
            ]
          },
          "metadata": {
            "tags": []
          },
          "execution_count": 268
        }
      ]
    },
    {
      "cell_type": "code",
      "metadata": {
        "colab": {
          "base_uri": "https://localhost:8080/",
          "height": 761
        },
        "id": "-8SChyq5e25x",
        "outputId": "de3268ba-0181-42fc-9861-a38e1a9d078a"
      },
      "source": [
        "plt.figure(0)\n",
        "plt.plot(model_history5.history['accuracy'],'r')\n",
        "plt.plot(model_history5.history['loss'],'g')\n",
        "plt.xticks(np.arange(0, 100, 1.0))\n",
        "plt.rcParams['figure.figsize'] = (8, 6)\n",
        "plt.xlabel(\"Num of Epochs\")\n",
        "plt.ylabel(\"Accuracy\")\n",
        "plt.legend(['accuracy','loss'])\n",
        "\n",
        "\n",
        "plt.figure(1)\n",
        "plt.plot(model_history5.history['val_accuracy'],'r')\n",
        "plt.plot(model_history5.history['val_loss'],'g')\n",
        "plt.xticks(np.arange(0, 100, 1.0))\n",
        "plt.rcParams['figure.figsize'] = (8, 6)\n",
        "plt.xlabel(\"Num of Epochs\")\n",
        "plt.ylabel(\"Accuracy\")\n",
        "plt.legend(['val_accuracy','val_loss'])\n",
        "  \n",
        "plt.show()\n",
        "\n"
      ],
      "execution_count": null,
      "outputs": [
        {
          "output_type": "display_data",
          "data": {
            "image/png": "[encoded data removed]",
            "text/plain": [
              "<Figure size 576x432 with 1 Axes>"
            ]
          },
          "metadata": {
            "tags": [],
            "needs_background": "light"
          }
        },
        {
          "output_type": "display_data",
          "data": {
            "image/png": "[encoded data removed]",
            "text/plain": [
              "<Figure size 576x432 with 1 Axes>"
            ]
          },
          "metadata": {
            "tags": [],
            "needs_background": "light"
          }
        }
      ]
    },
    {
      "cell_type": "code",
      "metadata": {
        "id": "pli3yv3ae25x"
      },
      "source": [
        "# model5.save(\"/content/drive/MyDrive/input/Model5_Mobilenet.h5\", save_format=\"h5\")\n",
        "\n",
        "# # # from tensorflow import keras\n",
        "model5_load = keras.models.load_model('/content/drive/MyDrive/input/Model5_Mobilenet.h5')"
      ],
      "execution_count": null,
      "outputs": []
    },
    {
      "cell_type": "code",
      "metadata": {
        "id": "kJqWXQND_xaS"
      },
      "source": [
        "base_model = tf.keras.applications.MobileNetV2(include_top=True,\n",
        "                                                   input_shape=(224, 224, 3),\n",
        "                                                   weights='imagenet')\n",
        "_model6 = base_model.layers[-2].output\n",
        "\n",
        "\n",
        "_model6 = BatchNormalization()(_model6)\n",
        "_model6 = Dense(1024 , activation='relu')(_model6)\n",
        "_model6 = Dropout(0.5)(_model6)\n",
        "_model6 = Dense(512 , activation='relu')(_model6)\n",
        "_model6 = Dropout(0.5)(_model6)\n",
        "_model6 = Dense(num_classes, activation='softmax')(_model6)\n",
        "\n",
        "model6 = keras.Model(inputs=base_model.input, outputs=_model6)\n"
      ],
      "execution_count": null,
      "outputs": []
    },
    {
      "cell_type": "code",
      "metadata": {
        "colab": {
          "base_uri": "https://localhost:8080/"
        },
        "id": "sKZmshuQ_xaT",
        "outputId": "8e1c4e80-b328-4d62-dc96-013611c00806"
      },
      "source": [
        "model6.summary()\n"
      ],
      "execution_count": null,
      "outputs": [
        {
          "output_type": "stream",
          "text": [
            "Model: \"functional_32\"\n",
            "__________________________________________________________________________________________________\n",
            "Layer (type)                    Output Shape         Param #     Connected to                     \n",
            "==================================================================================================\n",
            "input_38 (InputLayer)           [(None, 224, 224, 3) 0                                            \n",
            "__________________________________________________________________________________________________\n",
            "Conv1_pad (ZeroPadding2D)       (None, 225, 225, 3)  0           input_38[0][0]                   \n",
            "__________________________________________________________________________________________________\n",
            "Conv1 (Conv2D)                  (None, 112, 112, 32) 864         Conv1_pad[0][0]                  \n",
            "__________________________________________________________________________________________________\n",
            "bn_Conv1 (BatchNormalization)   (None, 112, 112, 32) 128         Conv1[0][0]                      \n",
            "__________________________________________________________________________________________________\n",
            "Conv1_relu (ReLU)               (None, 112, 112, 32) 0           bn_Conv1[0][0]                   \n",
            "__________________________________________________________________________________________________\n",
            "expanded_conv_depthwise (Depthw (None, 112, 112, 32) 288         Conv1_relu[0][0]                 \n",
            "__________________________________________________________________________________________________\n",
            "expanded_conv_depthwise_BN (Bat (None, 112, 112, 32) 128         expanded_conv_depthwise[0][0]    \n",
            "__________________________________________________________________________________________________\n",
            "expanded_conv_depthwise_relu (R (None, 112, 112, 32) 0           expanded_conv_depthwise_BN[0][0] \n",
            "__________________________________________________________________________________________________\n",
            "expanded_conv_project (Conv2D)  (None, 112, 112, 16) 512         expanded_conv_depthwise_relu[0][0\n",
            "__________________________________________________________________________________________________\n",
            "expanded_conv_project_BN (Batch (None, 112, 112, 16) 64          expanded_conv_project[0][0]      \n",
            "__________________________________________________________________________________________________\n",
            "block_1_expand (Conv2D)         (None, 112, 112, 96) 1536        expanded_conv_project_BN[0][0]   \n",
            "__________________________________________________________________________________________________\n",
            "block_1_expand_BN (BatchNormali (None, 112, 112, 96) 384         block_1_expand[0][0]             \n",
            "__________________________________________________________________________________________________\n",
            "block_1_expand_relu (ReLU)      (None, 112, 112, 96) 0           block_1_expand_BN[0][0]          \n",
            "__________________________________________________________________________________________________\n",
            "block_1_pad (ZeroPadding2D)     (None, 113, 113, 96) 0           block_1_expand_relu[0][0]        \n",
            "__________________________________________________________________________________________________\n",
            "block_1_depthwise (DepthwiseCon (None, 56, 56, 96)   864         block_1_pad[0][0]                \n",
            "__________________________________________________________________________________________________\n",
            "block_1_depthwise_BN (BatchNorm (None, 56, 56, 96)   384         block_1_depthwise[0][0]          \n",
            "__________________________________________________________________________________________________\n",
            "block_1_depthwise_relu (ReLU)   (None, 56, 56, 96)   0           block_1_depthwise_BN[0][0]       \n",
            "__________________________________________________________________________________________________\n",
            "block_1_project (Conv2D)        (None, 56, 56, 24)   2304        block_1_depthwise_relu[0][0]     \n",
            "__________________________________________________________________________________________________\n",
            "block_1_project_BN (BatchNormal (None, 56, 56, 24)   96          block_1_project[0][0]            \n",
            "__________________________________________________________________________________________________\n",
            "block_2_expand (Conv2D)         (None, 56, 56, 144)  3456        block_1_project_BN[0][0]         \n",
            "__________________________________________________________________________________________________\n",
            "block_2_expand_BN (BatchNormali (None, 56, 56, 144)  576         block_2_expand[0][0]             \n",
            "__________________________________________________________________________________________________\n",
            "block_2_expand_relu (ReLU)      (None, 56, 56, 144)  0           block_2_expand_BN[0][0]          \n",
            "__________________________________________________________________________________________________\n",
            "block_2_depthwise (DepthwiseCon (None, 56, 56, 144)  1296        block_2_expand_relu[0][0]        \n",
            "__________________________________________________________________________________________________\n",
            "block_2_depthwise_BN (BatchNorm (None, 56, 56, 144)  576         block_2_depthwise[0][0]          \n",
            "__________________________________________________________________________________________________\n",
            "block_2_depthwise_relu (ReLU)   (None, 56, 56, 144)  0           block_2_depthwise_BN[0][0]       \n",
            "__________________________________________________________________________________________________\n",
            "block_2_project (Conv2D)        (None, 56, 56, 24)   3456        block_2_depthwise_relu[0][0]     \n",
            "__________________________________________________________________________________________________\n",
            "block_2_project_BN (BatchNormal (None, 56, 56, 24)   96          block_2_project[0][0]            \n",
            "__________________________________________________________________________________________________\n",
            "block_2_add (Add)               (None, 56, 56, 24)   0           block_1_project_BN[0][0]         \n",
            "                                                                 block_2_project_BN[0][0]         \n",
            "__________________________________________________________________________________________________\n",
            "block_3_expand (Conv2D)         (None, 56, 56, 144)  3456        block_2_add[0][0]                \n",
            "__________________________________________________________________________________________________\n",
            "block_3_expand_BN (BatchNormali (None, 56, 56, 144)  576         block_3_expand[0][0]             \n",
            "__________________________________________________________________________________________________\n",
            "block_3_expand_relu (ReLU)      (None, 56, 56, 144)  0           block_3_expand_BN[0][0]          \n",
            "__________________________________________________________________________________________________\n",
            "block_3_pad (ZeroPadding2D)     (None, 57, 57, 144)  0           block_3_expand_relu[0][0]        \n",
            "__________________________________________________________________________________________________\n",
            "block_3_depthwise (DepthwiseCon (None, 28, 28, 144)  1296        block_3_pad[0][0]                \n",
            "__________________________________________________________________________________________________\n",
            "block_3_depthwise_BN (BatchNorm (None, 28, 28, 144)  576         block_3_depthwise[0][0]          \n",
            "__________________________________________________________________________________________________\n",
            "block_3_depthwise_relu (ReLU)   (None, 28, 28, 144)  0           block_3_depthwise_BN[0][0]       \n",
            "__________________________________________________________________________________________________\n",
            "block_3_project (Conv2D)        (None, 28, 28, 32)   4608        block_3_depthwise_relu[0][0]     \n",
            "__________________________________________________________________________________________________\n",
            "block_3_project_BN (BatchNormal (None, 28, 28, 32)   128         block_3_project[0][0]            \n",
            "__________________________________________________________________________________________________\n",
            "block_4_expand (Conv2D)         (None, 28, 28, 192)  6144        block_3_project_BN[0][0]         \n",
            "__________________________________________________________________________________________________\n",
            "block_4_expand_BN (BatchNormali (None, 28, 28, 192)  768         block_4_expand[0][0]             \n",
            "__________________________________________________________________________________________________\n",
            "block_4_expand_relu (ReLU)      (None, 28, 28, 192)  0           block_4_expand_BN[0][0]          \n",
            "__________________________________________________________________________________________________\n",
            "block_4_depthwise (DepthwiseCon (None, 28, 28, 192)  1728        block_4_expand_relu[0][0]        \n",
            "__________________________________________________________________________________________________\n",
            "block_4_depthwise_BN (BatchNorm (None, 28, 28, 192)  768         block_4_depthwise[0][0]          \n",
            "__________________________________________________________________________________________________\n",
            "block_4_depthwise_relu (ReLU)   (None, 28, 28, 192)  0           block_4_depthwise_BN[0][0]       \n",
            "__________________________________________________________________________________________________\n",
            "block_4_project (Conv2D)        (None, 28, 28, 32)   6144        block_4_depthwise_relu[0][0]     \n",
            "__________________________________________________________________________________________________\n",
            "block_4_project_BN (BatchNormal (None, 28, 28, 32)   128         block_4_project[0][0]            \n",
            "__________________________________________________________________________________________________\n",
            "block_4_add (Add)               (None, 28, 28, 32)   0           block_3_project_BN[0][0]         \n",
            "                                                                 block_4_project_BN[0][0]         \n",
            "__________________________________________________________________________________________________\n",
            "block_5_expand (Conv2D)         (None, 28, 28, 192)  6144        block_4_add[0][0]                \n",
            "__________________________________________________________________________________________________\n",
            "block_5_expand_BN (BatchNormali (None, 28, 28, 192)  768         block_5_expand[0][0]             \n",
            "__________________________________________________________________________________________________\n",
            "block_5_expand_relu (ReLU)      (None, 28, 28, 192)  0           block_5_expand_BN[0][0]          \n",
            "__________________________________________________________________________________________________\n",
            "block_5_depthwise (DepthwiseCon (None, 28, 28, 192)  1728        block_5_expand_relu[0][0]        \n",
            "__________________________________________________________________________________________________\n",
            "block_5_depthwise_BN (BatchNorm (None, 28, 28, 192)  768         block_5_depthwise[0][0]          \n",
            "__________________________________________________________________________________________________\n",
            "block_5_depthwise_relu (ReLU)   (None, 28, 28, 192)  0           block_5_depthwise_BN[0][0]       \n",
            "__________________________________________________________________________________________________\n",
            "block_5_project (Conv2D)        (None, 28, 28, 32)   6144        block_5_depthwise_relu[0][0]     \n",
            "__________________________________________________________________________________________________\n",
            "block_5_project_BN (BatchNormal (None, 28, 28, 32)   128         block_5_project[0][0]            \n",
            "__________________________________________________________________________________________________\n",
            "block_5_add (Add)               (None, 28, 28, 32)   0           block_4_add[0][0]                \n",
            "                                                                 block_5_project_BN[0][0]         \n",
            "__________________________________________________________________________________________________\n",
            "block_6_expand (Conv2D)         (None, 28, 28, 192)  6144        block_5_add[0][0]                \n",
            "__________________________________________________________________________________________________\n",
            "block_6_expand_BN (BatchNormali (None, 28, 28, 192)  768         block_6_expand[0][0]             \n",
            "__________________________________________________________________________________________________\n",
            "block_6_expand_relu (ReLU)      (None, 28, 28, 192)  0           block_6_expand_BN[0][0]          \n",
            "__________________________________________________________________________________________________\n",
            "block_6_pad (ZeroPadding2D)     (None, 29, 29, 192)  0           block_6_expand_relu[0][0]        \n",
            "__________________________________________________________________________________________________\n",
            "block_6_depthwise (DepthwiseCon (None, 14, 14, 192)  1728        block_6_pad[0][0]                \n",
            "__________________________________________________________________________________________________\n",
            "block_6_depthwise_BN (BatchNorm (None, 14, 14, 192)  768         block_6_depthwise[0][0]          \n",
            "__________________________________________________________________________________________________\n",
            "block_6_depthwise_relu (ReLU)   (None, 14, 14, 192)  0           block_6_depthwise_BN[0][0]       \n",
            "__________________________________________________________________________________________________\n",
            "block_6_project (Conv2D)        (None, 14, 14, 64)   12288       block_6_depthwise_relu[0][0]     \n",
            "__________________________________________________________________________________________________\n",
            "block_6_project_BN (BatchNormal (None, 14, 14, 64)   256         block_6_project[0][0]            \n",
            "__________________________________________________________________________________________________\n",
            "block_7_expand (Conv2D)         (None, 14, 14, 384)  24576       block_6_project_BN[0][0]         \n",
            "__________________________________________________________________________________________________\n",
            "block_7_expand_BN (BatchNormali (None, 14, 14, 384)  1536        block_7_expand[0][0]             \n",
            "__________________________________________________________________________________________________\n",
            "block_7_expand_relu (ReLU)      (None, 14, 14, 384)  0           block_7_expand_BN[0][0]          \n",
            "__________________________________________________________________________________________________\n",
            "block_7_depthwise (DepthwiseCon (None, 14, 14, 384)  3456        block_7_expand_relu[0][0]        \n",
            "__________________________________________________________________________________________________\n",
            "block_7_depthwise_BN (BatchNorm (None, 14, 14, 384)  1536        block_7_depthwise[0][0]          \n",
            "__________________________________________________________________________________________________\n",
            "block_7_depthwise_relu (ReLU)   (None, 14, 14, 384)  0           block_7_depthwise_BN[0][0]       \n",
            "__________________________________________________________________________________________________\n",
            "block_7_project (Conv2D)        (None, 14, 14, 64)   24576       block_7_depthwise_relu[0][0]     \n",
            "__________________________________________________________________________________________________\n",
            "block_7_project_BN (BatchNormal (None, 14, 14, 64)   256         block_7_project[0][0]            \n",
            "__________________________________________________________________________________________________\n",
            "block_7_add (Add)               (None, 14, 14, 64)   0           block_6_project_BN[0][0]         \n",
            "                                                                 block_7_project_BN[0][0]         \n",
            "__________________________________________________________________________________________________\n",
            "block_8_expand (Conv2D)         (None, 14, 14, 384)  24576       block_7_add[0][0]                \n",
            "__________________________________________________________________________________________________\n",
            "block_8_expand_BN (BatchNormali (None, 14, 14, 384)  1536        block_8_expand[0][0]             \n",
            "__________________________________________________________________________________________________\n",
            "block_8_expand_relu (ReLU)      (None, 14, 14, 384)  0           block_8_expand_BN[0][0]          \n",
            "__________________________________________________________________________________________________\n",
            "block_8_depthwise (DepthwiseCon (None, 14, 14, 384)  3456        block_8_expand_relu[0][0]        \n",
            "__________________________________________________________________________________________________\n",
            "block_8_depthwise_BN (BatchNorm (None, 14, 14, 384)  1536        block_8_depthwise[0][0]          \n",
            "__________________________________________________________________________________________________\n",
            "block_8_depthwise_relu (ReLU)   (None, 14, 14, 384)  0           block_8_depthwise_BN[0][0]       \n",
            "__________________________________________________________________________________________________\n",
            "block_8_project (Conv2D)        (None, 14, 14, 64)   24576       block_8_depthwise_relu[0][0]     \n",
            "__________________________________________________________________________________________________\n",
            "block_8_project_BN (BatchNormal (None, 14, 14, 64)   256         block_8_project[0][0]            \n",
            "__________________________________________________________________________________________________\n",
            "block_8_add (Add)               (None, 14, 14, 64)   0           block_7_add[0][0]                \n",
            "                                                                 block_8_project_BN[0][0]         \n",
            "__________________________________________________________________________________________________\n",
            "block_9_expand (Conv2D)         (None, 14, 14, 384)  24576       block_8_add[0][0]                \n",
            "__________________________________________________________________________________________________\n",
            "block_9_expand_BN (BatchNormali (None, 14, 14, 384)  1536        block_9_expand[0][0]             \n",
            "__________________________________________________________________________________________________\n",
            "block_9_expand_relu (ReLU)      (None, 14, 14, 384)  0           block_9_expand_BN[0][0]          \n",
            "__________________________________________________________________________________________________\n",
            "block_9_depthwise (DepthwiseCon (None, 14, 14, 384)  3456        block_9_expand_relu[0][0]        \n",
            "__________________________________________________________________________________________________\n",
            "block_9_depthwise_BN (BatchNorm (None, 14, 14, 384)  1536        block_9_depthwise[0][0]          \n",
            "__________________________________________________________________________________________________\n",
            "block_9_depthwise_relu (ReLU)   (None, 14, 14, 384)  0           block_9_depthwise_BN[0][0]       \n",
            "__________________________________________________________________________________________________\n",
            "block_9_project (Conv2D)        (None, 14, 14, 64)   24576       block_9_depthwise_relu[0][0]     \n",
            "__________________________________________________________________________________________________\n",
            "block_9_project_BN (BatchNormal (None, 14, 14, 64)   256         block_9_project[0][0]            \n",
            "__________________________________________________________________________________________________\n",
            "block_9_add (Add)               (None, 14, 14, 64)   0           block_8_add[0][0]                \n",
            "                                                                 block_9_project_BN[0][0]         \n",
            "__________________________________________________________________________________________________\n",
            "block_10_expand (Conv2D)        (None, 14, 14, 384)  24576       block_9_add[0][0]                \n",
            "__________________________________________________________________________________________________\n",
            "block_10_expand_BN (BatchNormal (None, 14, 14, 384)  1536        block_10_expand[0][0]            \n",
            "__________________________________________________________________________________________________\n",
            "block_10_expand_relu (ReLU)     (None, 14, 14, 384)  0           block_10_expand_BN[0][0]         \n",
            "__________________________________________________________________________________________________\n",
            "block_10_depthwise (DepthwiseCo (None, 14, 14, 384)  3456        block_10_expand_relu[0][0]       \n",
            "__________________________________________________________________________________________________\n",
            "block_10_depthwise_BN (BatchNor (None, 14, 14, 384)  1536        block_10_depthwise[0][0]         \n",
            "__________________________________________________________________________________________________\n",
            "block_10_depthwise_relu (ReLU)  (None, 14, 14, 384)  0           block_10_depthwise_BN[0][0]      \n",
            "__________________________________________________________________________________________________\n",
            "block_10_project (Conv2D)       (None, 14, 14, 96)   36864       block_10_depthwise_relu[0][0]    \n",
            "__________________________________________________________________________________________________\n",
            "block_10_project_BN (BatchNorma (None, 14, 14, 96)   384         block_10_project[0][0]           \n",
            "__________________________________________________________________________________________________\n",
            "block_11_expand (Conv2D)        (None, 14, 14, 576)  55296       block_10_project_BN[0][0]        \n",
            "__________________________________________________________________________________________________\n",
            "block_11_expand_BN (BatchNormal (None, 14, 14, 576)  2304        block_11_expand[0][0]            \n",
            "__________________________________________________________________________________________________\n",
            "block_11_expand_relu (ReLU)     (None, 14, 14, 576)  0           block_11_expand_BN[0][0]         \n",
            "__________________________________________________________________________________________________\n",
            "block_11_depthwise (DepthwiseCo (None, 14, 14, 576)  5184        block_11_expand_relu[0][0]       \n",
            "__________________________________________________________________________________________________\n",
            "block_11_depthwise_BN (BatchNor (None, 14, 14, 576)  2304        block_11_depthwise[0][0]         \n",
            "__________________________________________________________________________________________________\n",
            "block_11_depthwise_relu (ReLU)  (None, 14, 14, 576)  0           block_11_depthwise_BN[0][0]      \n",
            "__________________________________________________________________________________________________\n",
            "block_11_project (Conv2D)       (None, 14, 14, 96)   55296       block_11_depthwise_relu[0][0]    \n",
            "__________________________________________________________________________________________________\n",
            "block_11_project_BN (BatchNorma (None, 14, 14, 96)   384         block_11_project[0][0]           \n",
            "__________________________________________________________________________________________________\n",
            "block_11_add (Add)              (None, 14, 14, 96)   0           block_10_project_BN[0][0]        \n",
            "                                                                 block_11_project_BN[0][0]        \n",
            "__________________________________________________________________________________________________\n",
            "block_12_expand (Conv2D)        (None, 14, 14, 576)  55296       block_11_add[0][0]               \n",
            "__________________________________________________________________________________________________\n",
            "block_12_expand_BN (BatchNormal (None, 14, 14, 576)  2304        block_12_expand[0][0]            \n",
            "__________________________________________________________________________________________________\n",
            "block_12_expand_relu (ReLU)     (None, 14, 14, 576)  0           block_12_expand_BN[0][0]         \n",
            "__________________________________________________________________________________________________\n",
            "block_12_depthwise (DepthwiseCo (None, 14, 14, 576)  5184        block_12_expand_relu[0][0]       \n",
            "__________________________________________________________________________________________________\n",
            "block_12_depthwise_BN (BatchNor (None, 14, 14, 576)  2304        block_12_depthwise[0][0]         \n",
            "__________________________________________________________________________________________________\n",
            "block_12_depthwise_relu (ReLU)  (None, 14, 14, 576)  0           block_12_depthwise_BN[0][0]      \n",
            "__________________________________________________________________________________________________\n",
            "block_12_project (Conv2D)       (None, 14, 14, 96)   55296       block_12_depthwise_relu[0][0]    \n",
            "__________________________________________________________________________________________________\n",
            "block_12_project_BN (BatchNorma (None, 14, 14, 96)   384         block_12_project[0][0]           \n",
            "__________________________________________________________________________________________________\n",
            "block_12_add (Add)              (None, 14, 14, 96)   0           block_11_add[0][0]               \n",
            "                                                                 block_12_project_BN[0][0]        \n",
            "__________________________________________________________________________________________________\n",
            "block_13_expand (Conv2D)        (None, 14, 14, 576)  55296       block_12_add[0][0]               \n",
            "__________________________________________________________________________________________________\n",
            "block_13_expand_BN (BatchNormal (None, 14, 14, 576)  2304        block_13_expand[0][0]            \n",
            "__________________________________________________________________________________________________\n",
            "block_13_expand_relu (ReLU)     (None, 14, 14, 576)  0           block_13_expand_BN[0][0]         \n",
            "__________________________________________________________________________________________________\n",
            "block_13_pad (ZeroPadding2D)    (None, 15, 15, 576)  0           block_13_expand_relu[0][0]       \n",
            "__________________________________________________________________________________________________\n",
            "block_13_depthwise (DepthwiseCo (None, 7, 7, 576)    5184        block_13_pad[0][0]               \n",
            "__________________________________________________________________________________________________\n",
            "block_13_depthwise_BN (BatchNor (None, 7, 7, 576)    2304        block_13_depthwise[0][0]         \n",
            "__________________________________________________________________________________________________\n",
            "block_13_depthwise_relu (ReLU)  (None, 7, 7, 576)    0           block_13_depthwise_BN[0][0]      \n",
            "__________________________________________________________________________________________________\n",
            "block_13_project (Conv2D)       (None, 7, 7, 160)    92160       block_13_depthwise_relu[0][0]    \n",
            "__________________________________________________________________________________________________\n",
            "block_13_project_BN (BatchNorma (None, 7, 7, 160)    640         block_13_project[0][0]           \n",
            "__________________________________________________________________________________________________\n",
            "block_14_expand (Conv2D)        (None, 7, 7, 960)    153600      block_13_project_BN[0][0]        \n",
            "__________________________________________________________________________________________________\n",
            "block_14_expand_BN (BatchNormal (None, 7, 7, 960)    3840        block_14_expand[0][0]            \n",
            "__________________________________________________________________________________________________\n",
            "block_14_expand_relu (ReLU)     (None, 7, 7, 960)    0           block_14_expand_BN[0][0]         \n",
            "__________________________________________________________________________________________________\n",
            "block_14_depthwise (DepthwiseCo (None, 7, 7, 960)    8640        block_14_expand_relu[0][0]       \n",
            "__________________________________________________________________________________________________\n",
            "block_14_depthwise_BN (BatchNor (None, 7, 7, 960)    3840        block_14_depthwise[0][0]         \n",
            "__________________________________________________________________________________________________\n",
            "block_14_depthwise_relu (ReLU)  (None, 7, 7, 960)    0           block_14_depthwise_BN[0][0]      \n",
            "__________________________________________________________________________________________________\n",
            "block_14_project (Conv2D)       (None, 7, 7, 160)    153600      block_14_depthwise_relu[0][0]    \n",
            "__________________________________________________________________________________________________\n",
            "block_14_project_BN (BatchNorma (None, 7, 7, 160)    640         block_14_project[0][0]           \n",
            "__________________________________________________________________________________________________\n",
            "block_14_add (Add)              (None, 7, 7, 160)    0           block_13_project_BN[0][0]        \n",
            "                                                                 block_14_project_BN[0][0]        \n",
            "__________________________________________________________________________________________________\n",
            "block_15_expand (Conv2D)        (None, 7, 7, 960)    153600      block_14_add[0][0]               \n",
            "__________________________________________________________________________________________________\n",
            "block_15_expand_BN (BatchNormal (None, 7, 7, 960)    3840        block_15_expand[0][0]            \n",
            "__________________________________________________________________________________________________\n",
            "block_15_expand_relu (ReLU)     (None, 7, 7, 960)    0           block_15_expand_BN[0][0]         \n",
            "__________________________________________________________________________________________________\n",
            "block_15_depthwise (DepthwiseCo (None, 7, 7, 960)    8640        block_15_expand_relu[0][0]       \n",
            "__________________________________________________________________________________________________\n",
            "block_15_depthwise_BN (BatchNor (None, 7, 7, 960)    3840        block_15_depthwise[0][0]         \n",
            "__________________________________________________________________________________________________\n",
            "block_15_depthwise_relu (ReLU)  (None, 7, 7, 960)    0           block_15_depthwise_BN[0][0]      \n",
            "__________________________________________________________________________________________________\n",
            "block_15_project (Conv2D)       (None, 7, 7, 160)    153600      block_15_depthwise_relu[0][0]    \n",
            "__________________________________________________________________________________________________\n",
            "block_15_project_BN (BatchNorma (None, 7, 7, 160)    640         block_15_project[0][0]           \n",
            "__________________________________________________________________________________________________\n",
            "block_15_add (Add)              (None, 7, 7, 160)    0           block_14_add[0][0]               \n",
            "                                                                 block_15_project_BN[0][0]        \n",
            "__________________________________________________________________________________________________\n",
            "block_16_expand (Conv2D)        (None, 7, 7, 960)    153600      block_15_add[0][0]               \n",
            "__________________________________________________________________________________________________\n",
            "block_16_expand_BN (BatchNormal (None, 7, 7, 960)    3840        block_16_expand[0][0]            \n",
            "__________________________________________________________________________________________________\n",
            "block_16_expand_relu (ReLU)     (None, 7, 7, 960)    0           block_16_expand_BN[0][0]         \n",
            "__________________________________________________________________________________________________\n",
            "block_16_depthwise (DepthwiseCo (None, 7, 7, 960)    8640        block_16_expand_relu[0][0]       \n",
            "__________________________________________________________________________________________________\n",
            "block_16_depthwise_BN (BatchNor (None, 7, 7, 960)    3840        block_16_depthwise[0][0]         \n",
            "__________________________________________________________________________________________________\n",
            "block_16_depthwise_relu (ReLU)  (None, 7, 7, 960)    0           block_16_depthwise_BN[0][0]      \n",
            "__________________________________________________________________________________________________\n",
            "block_16_project (Conv2D)       (None, 7, 7, 320)    307200      block_16_depthwise_relu[0][0]    \n",
            "__________________________________________________________________________________________________\n",
            "block_16_project_BN (BatchNorma (None, 7, 7, 320)    1280        block_16_project[0][0]           \n",
            "__________________________________________________________________________________________________\n",
            "Conv_1 (Conv2D)                 (None, 7, 7, 1280)   409600      block_16_project_BN[0][0]        \n",
            "__________________________________________________________________________________________________\n",
            "Conv_1_bn (BatchNormalization)  (None, 7, 7, 1280)   5120        Conv_1[0][0]                     \n",
            "__________________________________________________________________________________________________\n",
            "out_relu (ReLU)                 (None, 7, 7, 1280)   0           Conv_1_bn[0][0]                  \n",
            "__________________________________________________________________________________________________\n",
            "global_average_pooling2d_15 (Gl (None, 1280)         0           out_relu[0][0]                   \n",
            "__________________________________________________________________________________________________\n",
            "batch_normalization_13 (BatchNo (None, 1280)         5120        global_average_pooling2d_15[0][0]\n",
            "__________________________________________________________________________________________________\n",
            "dense_43 (Dense)                (None, 1024)         1311744     batch_normalization_13[0][0]     \n",
            "__________________________________________________________________________________________________\n",
            "dropout_14 (Dropout)            (None, 1024)         0           dense_43[0][0]                   \n",
            "__________________________________________________________________________________________________\n",
            "dense_44 (Dense)                (None, 512)          524800      dropout_14[0][0]                 \n",
            "__________________________________________________________________________________________________\n",
            "dropout_15 (Dropout)            (None, 512)          0           dense_44[0][0]                   \n",
            "__________________________________________________________________________________________________\n",
            "dense_45 (Dense)                (None, 196)          100548      dropout_15[0][0]                 \n",
            "==================================================================================================\n",
            "Total params: 4,200,196\n",
            "Trainable params: 4,163,524\n",
            "Non-trainable params: 36,672\n",
            "__________________________________________________________________________________________________\n"
          ],
          "name": "stdout"
        }
      ]
    },
    {
      "cell_type": "code",
      "metadata": {
        "colab": {
          "base_uri": "https://localhost:8080/"
        },
        "id": "ET3GyCe9_xaT",
        "outputId": "31cfbb75-f7a3-4818-8638-6b31c1522130"
      },
      "source": [
        "model6.compile(optimizer='adam', loss='categorical_crossentropy',\n",
        "                metrics=['accuracy'])\n",
        "\n",
        "model_history6 = model6.fit(train_ds_split, validation_data=val_ds_split, \n",
        "                            epochs=100, verbose=1)\n",
        "\n"
      ],
      "execution_count": null,
      "outputs": [
        {
          "output_type": "stream",
          "text": [
            "Epoch 1/100\n",
            "  2/102 [..............................] - ETA: 38s - loss: 2.4135 - accuracy: 0.2969WARNING:tensorflow:Callbacks method `on_train_batch_end` is slow compared to the batch time (batch time: 0.1158s vs `on_train_batch_end` time: 0.3085s). Check your callbacks.\n",
            "102/102 [==============================] - 52s 512ms/step - loss: 2.3791 - accuracy: 0.3150 - val_loss: 23.3499 - val_accuracy: 0.0080\n",
            "Epoch 2/100\n",
            "102/102 [==============================] - 50s 491ms/step - loss: 2.2032 - accuracy: 0.3546 - val_loss: 20.7468 - val_accuracy: 0.0074\n",
            "Epoch 3/100\n",
            "102/102 [==============================] - 50s 490ms/step - loss: 1.9533 - accuracy: 0.4164 - val_loss: 20.0784 - val_accuracy: 0.0086\n",
            "Epoch 4/100\n",
            "102/102 [==============================] - 50s 490ms/step - loss: 1.7831 - accuracy: 0.4589 - val_loss: 11.2569 - val_accuracy: 0.0098\n",
            "Epoch 5/100\n",
            "102/102 [==============================] - 49s 485ms/step - loss: 1.6607 - accuracy: 0.5010 - val_loss: 23.3406 - val_accuracy: 0.0184\n",
            "Epoch 6/100\n",
            "102/102 [==============================] - 50s 491ms/step - loss: 1.6386 - accuracy: 0.4993 - val_loss: 24.3803 - val_accuracy: 0.0190\n",
            "Epoch 7/100\n",
            "102/102 [==============================] - 50s 491ms/step - loss: 1.4120 - accuracy: 0.5592 - val_loss: 8.4679 - val_accuracy: 0.0313\n",
            "Epoch 8/100\n",
            "102/102 [==============================] - 50s 493ms/step - loss: 1.3481 - accuracy: 0.5796 - val_loss: 11.1476 - val_accuracy: 0.0381\n",
            "Epoch 9/100\n",
            "102/102 [==============================] - 50s 489ms/step - loss: 1.2679 - accuracy: 0.6032 - val_loss: 11.3553 - val_accuracy: 0.0227\n",
            "Epoch 10/100\n",
            "102/102 [==============================] - 50s 486ms/step - loss: 1.1625 - accuracy: 0.6275 - val_loss: 7.1790 - val_accuracy: 0.0620\n",
            "Epoch 11/100\n",
            "102/102 [==============================] - 50s 495ms/step - loss: 1.0738 - accuracy: 0.6507 - val_loss: 9.2844 - val_accuracy: 0.0405\n",
            "Epoch 12/100\n",
            "102/102 [==============================] - 53s 519ms/step - loss: 1.0215 - accuracy: 0.6724 - val_loss: 7.2283 - val_accuracy: 0.0675\n",
            "Epoch 13/100\n",
            "102/102 [==============================] - 53s 521ms/step - loss: 0.9783 - accuracy: 0.6886 - val_loss: 12.1756 - val_accuracy: 0.0632\n",
            "Epoch 14/100\n",
            "102/102 [==============================] - 54s 526ms/step - loss: 0.9104 - accuracy: 0.7093 - val_loss: 8.2636 - val_accuracy: 0.0632\n",
            "Epoch 15/100\n",
            "102/102 [==============================] - 53s 521ms/step - loss: 0.8655 - accuracy: 0.7214 - val_loss: 11.7573 - val_accuracy: 0.1031\n",
            "Epoch 16/100\n",
            "102/102 [==============================] - 53s 519ms/step - loss: 0.8130 - accuracy: 0.7449 - val_loss: 16.2149 - val_accuracy: 0.0804\n",
            "Epoch 17/100\n",
            "102/102 [==============================] - 53s 522ms/step - loss: 0.7916 - accuracy: 0.7474 - val_loss: 20.9576 - val_accuracy: 0.0528\n",
            "Epoch 18/100\n",
            "102/102 [==============================] - 53s 521ms/step - loss: 0.7676 - accuracy: 0.7530 - val_loss: 16.3116 - val_accuracy: 0.0534\n",
            "Epoch 19/100\n",
            "102/102 [==============================] - 53s 521ms/step - loss: 0.7394 - accuracy: 0.7696 - val_loss: 11.4557 - val_accuracy: 0.1295\n",
            "Epoch 20/100\n",
            "102/102 [==============================] - 54s 525ms/step - loss: 0.7359 - accuracy: 0.7715 - val_loss: 7.7008 - val_accuracy: 0.1240\n",
            "Epoch 21/100\n",
            "102/102 [==============================] - 53s 521ms/step - loss: 0.6060 - accuracy: 0.8000 - val_loss: 17.1449 - val_accuracy: 0.0982\n",
            "Epoch 22/100\n",
            "102/102 [==============================] - 53s 521ms/step - loss: 0.6745 - accuracy: 0.7877 - val_loss: 13.1197 - val_accuracy: 0.0970\n",
            "Epoch 23/100\n",
            "102/102 [==============================] - 53s 520ms/step - loss: 0.5919 - accuracy: 0.8124 - val_loss: 17.9911 - val_accuracy: 0.0706\n",
            "Epoch 24/100\n",
            "102/102 [==============================] - 53s 522ms/step - loss: 0.5727 - accuracy: 0.8226 - val_loss: 10.7690 - val_accuracy: 0.1510\n",
            "Epoch 25/100\n",
            "102/102 [==============================] - 53s 521ms/step - loss: 0.6299 - accuracy: 0.8049 - val_loss: 8.1965 - val_accuracy: 0.1793\n",
            "Epoch 26/100\n",
            "102/102 [==============================] - 54s 525ms/step - loss: 0.5677 - accuracy: 0.8216 - val_loss: 15.8023 - val_accuracy: 0.0921\n",
            "Epoch 27/100\n",
            "102/102 [==============================] - 53s 521ms/step - loss: 0.5089 - accuracy: 0.8424 - val_loss: 7.4992 - val_accuracy: 0.1621\n",
            "Epoch 28/100\n",
            "102/102 [==============================] - 53s 522ms/step - loss: 0.5227 - accuracy: 0.8382 - val_loss: 18.0518 - val_accuracy: 0.0982\n",
            "Epoch 29/100\n",
            "102/102 [==============================] - 53s 523ms/step - loss: 0.4823 - accuracy: 0.8496 - val_loss: 9.5996 - val_accuracy: 0.1811\n",
            "Epoch 30/100\n",
            "102/102 [==============================] - 54s 525ms/step - loss: 0.4638 - accuracy: 0.8591 - val_loss: 7.7470 - val_accuracy: 0.2517\n",
            "Epoch 31/100\n",
            "102/102 [==============================] - 53s 521ms/step - loss: 0.4880 - accuracy: 0.8543 - val_loss: 5.3685 - val_accuracy: 0.2523\n",
            "Epoch 32/100\n",
            "102/102 [==============================] - 54s 526ms/step - loss: 0.4654 - accuracy: 0.8531 - val_loss: 10.2091 - val_accuracy: 0.1234\n",
            "Epoch 33/100\n",
            "102/102 [==============================] - 53s 522ms/step - loss: 0.4867 - accuracy: 0.8540 - val_loss: 4.6257 - val_accuracy: 0.2812\n",
            "Epoch 34/100\n",
            "102/102 [==============================] - 53s 522ms/step - loss: 0.4504 - accuracy: 0.8616 - val_loss: 5.8753 - val_accuracy: 0.2474\n",
            "Epoch 35/100\n",
            "102/102 [==============================] - 53s 524ms/step - loss: 0.4022 - accuracy: 0.8786 - val_loss: 4.0246 - val_accuracy: 0.3567\n",
            "Epoch 36/100\n",
            "102/102 [==============================] - 53s 524ms/step - loss: 0.3699 - accuracy: 0.8916 - val_loss: 8.3712 - val_accuracy: 0.1934\n",
            "Epoch 37/100\n",
            "102/102 [==============================] - 54s 526ms/step - loss: 0.3957 - accuracy: 0.8856 - val_loss: 6.1297 - val_accuracy: 0.2719\n",
            "Epoch 38/100\n",
            "102/102 [==============================] - 53s 523ms/step - loss: 0.4397 - accuracy: 0.8743 - val_loss: 4.1796 - val_accuracy: 0.3125\n",
            "Epoch 39/100\n",
            "102/102 [==============================] - 53s 519ms/step - loss: 0.4261 - accuracy: 0.8718 - val_loss: 5.6705 - val_accuracy: 0.3002\n",
            "Epoch 40/100\n",
            "102/102 [==============================] - 53s 519ms/step - loss: 0.3499 - accuracy: 0.8950 - val_loss: 7.9023 - val_accuracy: 0.1946\n",
            "Epoch 41/100\n",
            "102/102 [==============================] - 53s 519ms/step - loss: 0.3781 - accuracy: 0.8889 - val_loss: 8.0934 - val_accuracy: 0.1682\n",
            "Epoch 42/100\n",
            "102/102 [==============================] - 53s 521ms/step - loss: 0.3674 - accuracy: 0.8890 - val_loss: 19.9506 - val_accuracy: 0.0780\n",
            "Epoch 43/100\n",
            "102/102 [==============================] - 53s 522ms/step - loss: 0.3396 - accuracy: 0.9031 - val_loss: 11.2683 - val_accuracy: 0.1670\n",
            "Epoch 44/100\n",
            "102/102 [==============================] - 53s 516ms/step - loss: 0.3153 - accuracy: 0.9101 - val_loss: 8.9506 - val_accuracy: 0.1805\n",
            "Epoch 45/100\n",
            "102/102 [==============================] - 53s 522ms/step - loss: 0.3362 - accuracy: 0.9031 - val_loss: 5.1071 - val_accuracy: 0.3542\n",
            "Epoch 46/100\n",
            "102/102 [==============================] - 53s 516ms/step - loss: 0.3814 - accuracy: 0.8930 - val_loss: 4.2423 - val_accuracy: 0.3192\n",
            "Epoch 47/100\n",
            "102/102 [==============================] - 53s 518ms/step - loss: 0.3255 - accuracy: 0.9015 - val_loss: 5.5570 - val_accuracy: 0.3106\n",
            "Epoch 48/100\n",
            "102/102 [==============================] - 53s 519ms/step - loss: 0.3574 - accuracy: 0.9005 - val_loss: 6.1165 - val_accuracy: 0.1817\n",
            "Epoch 49/100\n",
            "102/102 [==============================] - 53s 520ms/step - loss: 0.2791 - accuracy: 0.9214 - val_loss: 5.4203 - val_accuracy: 0.3137\n",
            "Epoch 50/100\n",
            "102/102 [==============================] - 53s 519ms/step - loss: 0.2817 - accuracy: 0.9194 - val_loss: 6.3711 - val_accuracy: 0.3432\n",
            "Epoch 51/100\n",
            "102/102 [==============================] - 53s 516ms/step - loss: 0.2608 - accuracy: 0.9299 - val_loss: 4.6521 - val_accuracy: 0.3831\n",
            "Epoch 52/100\n",
            "102/102 [==============================] - 53s 517ms/step - loss: 0.3042 - accuracy: 0.9194 - val_loss: 5.2826 - val_accuracy: 0.3327\n",
            "Epoch 53/100\n",
            "102/102 [==============================] - 53s 520ms/step - loss: 0.3243 - accuracy: 0.9153 - val_loss: 4.9180 - val_accuracy: 0.3223\n",
            "Epoch 54/100\n",
            "102/102 [==============================] - 53s 517ms/step - loss: 0.3329 - accuracy: 0.9061 - val_loss: 6.5060 - val_accuracy: 0.3002\n",
            "Epoch 55/100\n",
            "102/102 [==============================] - 53s 520ms/step - loss: 0.3268 - accuracy: 0.9108 - val_loss: 3.9636 - val_accuracy: 0.4309\n",
            "Epoch 56/100\n",
            "102/102 [==============================] - 53s 518ms/step - loss: 0.2854 - accuracy: 0.9200 - val_loss: 6.0171 - val_accuracy: 0.3100\n",
            "Epoch 57/100\n",
            "102/102 [==============================] - 53s 520ms/step - loss: 0.2956 - accuracy: 0.9153 - val_loss: 14.5951 - val_accuracy: 0.1215\n",
            "Epoch 58/100\n",
            "102/102 [==============================] - 53s 517ms/step - loss: 0.2496 - accuracy: 0.9300 - val_loss: 9.4403 - val_accuracy: 0.2014\n",
            "Epoch 59/100\n",
            "102/102 [==============================] - 53s 519ms/step - loss: 0.2616 - accuracy: 0.9268 - val_loss: 7.6412 - val_accuracy: 0.1995\n",
            "Epoch 60/100\n",
            "102/102 [==============================] - 53s 518ms/step - loss: 0.2974 - accuracy: 0.9183 - val_loss: 9.6182 - val_accuracy: 0.2155\n",
            "Epoch 61/100\n",
            "102/102 [==============================] - 53s 517ms/step - loss: 0.2862 - accuracy: 0.9228 - val_loss: 8.0923 - val_accuracy: 0.2179\n",
            "Epoch 62/100\n",
            "102/102 [==============================] - 53s 520ms/step - loss: 0.2739 - accuracy: 0.9254 - val_loss: 11.4594 - val_accuracy: 0.2081\n",
            "Epoch 63/100\n",
            "102/102 [==============================] - 53s 516ms/step - loss: 0.2866 - accuracy: 0.9265 - val_loss: 7.8772 - val_accuracy: 0.2891\n",
            "Epoch 64/100\n",
            "102/102 [==============================] - 53s 515ms/step - loss: 0.2676 - accuracy: 0.9271 - val_loss: 7.3335 - val_accuracy: 0.2591\n",
            "Epoch 65/100\n",
            "102/102 [==============================] - 53s 518ms/step - loss: 0.2860 - accuracy: 0.9183 - val_loss: 7.3423 - val_accuracy: 0.3076\n",
            "Epoch 66/100\n",
            "102/102 [==============================] - 53s 520ms/step - loss: 0.2304 - accuracy: 0.9369 - val_loss: 8.6258 - val_accuracy: 0.2302\n",
            "Epoch 67/100\n",
            "102/102 [==============================] - 53s 518ms/step - loss: 0.2140 - accuracy: 0.9429 - val_loss: 5.0737 - val_accuracy: 0.3886\n",
            "Epoch 68/100\n",
            "102/102 [==============================] - 53s 518ms/step - loss: 0.2004 - accuracy: 0.9450 - val_loss: 4.9873 - val_accuracy: 0.3616\n",
            "Epoch 69/100\n",
            "102/102 [==============================] - 53s 520ms/step - loss: 0.2591 - accuracy: 0.9349 - val_loss: 5.2034 - val_accuracy: 0.3315\n",
            "Epoch 70/100\n",
            "102/102 [==============================] - 54s 525ms/step - loss: 0.2652 - accuracy: 0.9286 - val_loss: 4.6867 - val_accuracy: 0.3382\n",
            "Epoch 71/100\n",
            "102/102 [==============================] - 53s 520ms/step - loss: 0.2924 - accuracy: 0.9243 - val_loss: 6.1048 - val_accuracy: 0.3076\n",
            "Epoch 72/100\n",
            "102/102 [==============================] - 54s 527ms/step - loss: 0.2353 - accuracy: 0.9369 - val_loss: 5.9126 - val_accuracy: 0.3174\n",
            "Epoch 73/100\n",
            "102/102 [==============================] - 53s 516ms/step - loss: 0.2312 - accuracy: 0.9388 - val_loss: 5.3067 - val_accuracy: 0.3585\n",
            "Epoch 74/100\n",
            "102/102 [==============================] - 53s 519ms/step - loss: 0.2609 - accuracy: 0.9317 - val_loss: 7.1559 - val_accuracy: 0.2855\n",
            "Epoch 75/100\n",
            "102/102 [==============================] - 53s 517ms/step - loss: 0.2676 - accuracy: 0.9317 - val_loss: 9.5361 - val_accuracy: 0.2327\n",
            "Epoch 76/100\n",
            "102/102 [==============================] - 53s 522ms/step - loss: 0.1874 - accuracy: 0.9523 - val_loss: 6.0913 - val_accuracy: 0.3419\n",
            "Epoch 77/100\n",
            "102/102 [==============================] - 53s 519ms/step - loss: 0.2231 - accuracy: 0.9398 - val_loss: 4.6902 - val_accuracy: 0.3966\n",
            "Epoch 78/100\n",
            "102/102 [==============================] - 53s 520ms/step - loss: 0.2449 - accuracy: 0.9354 - val_loss: 4.6235 - val_accuracy: 0.4070\n",
            "Epoch 79/100\n",
            "102/102 [==============================] - 53s 518ms/step - loss: 0.2377 - accuracy: 0.9398 - val_loss: 5.1534 - val_accuracy: 0.3002\n",
            "Epoch 80/100\n",
            "102/102 [==============================] - 53s 518ms/step - loss: 0.2140 - accuracy: 0.9443 - val_loss: 5.2183 - val_accuracy: 0.3781\n",
            "Epoch 81/100\n",
            "102/102 [==============================] - 53s 519ms/step - loss: 0.2215 - accuracy: 0.9401 - val_loss: 6.8872 - val_accuracy: 0.2879\n",
            "Epoch 82/100\n",
            "102/102 [==============================] - 53s 521ms/step - loss: 0.2333 - accuracy: 0.9420 - val_loss: 4.2076 - val_accuracy: 0.3671\n",
            "Epoch 83/100\n",
            "102/102 [==============================] - 53s 520ms/step - loss: 0.2676 - accuracy: 0.9357 - val_loss: 9.1010 - val_accuracy: 0.2437\n",
            "Epoch 84/100\n",
            "102/102 [==============================] - 53s 521ms/step - loss: 0.2629 - accuracy: 0.9349 - val_loss: 16.8184 - val_accuracy: 0.1357\n",
            "Epoch 85/100\n",
            "102/102 [==============================] - 53s 520ms/step - loss: 0.2133 - accuracy: 0.9480 - val_loss: 8.6154 - val_accuracy: 0.2425\n",
            "Epoch 86/100\n",
            "102/102 [==============================] - 53s 518ms/step - loss: 0.1875 - accuracy: 0.9489 - val_loss: 9.1901 - val_accuracy: 0.2253\n",
            "Epoch 87/100\n",
            "102/102 [==============================] - 53s 517ms/step - loss: 0.1464 - accuracy: 0.9602 - val_loss: 9.8531 - val_accuracy: 0.2897\n",
            "Epoch 88/100\n",
            "102/102 [==============================] - 53s 519ms/step - loss: 0.1830 - accuracy: 0.9510 - val_loss: 6.4132 - val_accuracy: 0.3548\n",
            "Epoch 89/100\n",
            "102/102 [==============================] - 53s 519ms/step - loss: 0.1885 - accuracy: 0.9503 - val_loss: 7.1163 - val_accuracy: 0.3235\n",
            "Epoch 90/100\n",
            "102/102 [==============================] - 53s 519ms/step - loss: 0.2353 - accuracy: 0.9431 - val_loss: 7.2578 - val_accuracy: 0.2947\n",
            "Epoch 91/100\n",
            "102/102 [==============================] - 53s 516ms/step - loss: 0.2165 - accuracy: 0.9454 - val_loss: 7.9741 - val_accuracy: 0.2947\n",
            "Epoch 92/100\n",
            "102/102 [==============================] - 53s 517ms/step - loss: 0.2058 - accuracy: 0.9469 - val_loss: 6.2076 - val_accuracy: 0.3106\n",
            "Epoch 93/100\n",
            "102/102 [==============================] - 53s 517ms/step - loss: 0.2292 - accuracy: 0.9421 - val_loss: 8.9850 - val_accuracy: 0.2805\n",
            "Epoch 94/100\n",
            "102/102 [==============================] - 53s 519ms/step - loss: 0.2880 - accuracy: 0.9371 - val_loss: 3.7194 - val_accuracy: 0.4309\n",
            "Epoch 95/100\n",
            "102/102 [==============================] - 53s 518ms/step - loss: 0.1756 - accuracy: 0.9521 - val_loss: 4.3581 - val_accuracy: 0.4512\n",
            "Epoch 96/100\n",
            "102/102 [==============================] - 53s 519ms/step - loss: 0.2062 - accuracy: 0.9529 - val_loss: 7.5835 - val_accuracy: 0.2320\n",
            "Epoch 97/100\n",
            "102/102 [==============================] - 53s 516ms/step - loss: 0.1594 - accuracy: 0.9569 - val_loss: 5.2004 - val_accuracy: 0.4230\n",
            "Epoch 98/100\n",
            "102/102 [==============================] - 53s 517ms/step - loss: 0.1716 - accuracy: 0.9544 - val_loss: 6.5215 - val_accuracy: 0.3174\n",
            "Epoch 99/100\n",
            "102/102 [==============================] - 53s 516ms/step - loss: 0.1669 - accuracy: 0.9569 - val_loss: 6.0439 - val_accuracy: 0.3714\n",
            "Epoch 100/100\n",
            "102/102 [==============================] - 53s 518ms/step - loss: 0.1949 - accuracy: 0.9472 - val_loss: 8.1587 - val_accuracy: 0.3192\n"
          ],
          "name": "stdout"
        }
      ]
    },
    {
      "cell_type": "code",
      "metadata": {
        "colab": {
          "base_uri": "https://localhost:8080/"
        },
        "id": "F36S0yhY_xaT",
        "outputId": "754f9e7b-a383-4570-a45f-31254d8bc8c2"
      },
      "source": [
        "model6.evaluate(test_ds)"
      ],
      "execution_count": null,
      "outputs": [
        {
          "output_type": "stream",
          "text": [
            "126/126 [==============================] - 47s 371ms/step - loss: 8.1268 - accuracy: 0.3271\n"
          ],
          "name": "stdout"
        },
        {
          "output_type": "execute_result",
          "data": {
            "text/plain": [
              "[8.126769065856934, 0.32707375288009644]"
            ]
          },
          "metadata": {
            "tags": []
          },
          "execution_count": 307
        }
      ]
    },
    {
      "cell_type": "code",
      "metadata": {
        "id": "_ckqL3Ay_xaT"
      },
      "source": [
        "model6.save(\"/content/drive/MyDrive/input/Model6.h5\", save_format=\"h5\")\n",
        "\n",
        "# from tensorflow import keras\n",
        "# load_model = keras.models.load_model('/content/drive/MyDrive/input/resnet50.h5')"
      ],
      "execution_count": null,
      "outputs": []
    },
    {
      "cell_type": "code",
      "metadata": {
        "colab": {
          "base_uri": "https://localhost:8080/",
          "height": 759
        },
        "id": "tE4ZrZyi_xaT",
        "outputId": "35fba810-cc8a-459e-fe67-cd09f57ff9ea"
      },
      "source": [
        "plt.figure(0)\n",
        "plt.plot(model_history6.history['accuracy'],'r')\n",
        "plt.plot(model_history6.history['loss'],'g')\n",
        "plt.xticks(np.arange(0, 100, 1.0))\n",
        "plt.rcParams['figure.figsize'] = (8, 6)\n",
        "plt.xlabel(\"Num of Epochs\")\n",
        "plt.ylabel(\"Accuracy\")\n",
        "plt.legend(['accuracy','loss'])\n",
        "\n",
        "\n",
        "plt.figure(1)\n",
        "plt.plot(model_history6.history['val_accuracy'],'r')\n",
        "plt.plot(model_history6.history['val_loss'],'g')\n",
        "plt.xticks(np.arange(0, 100, 1.0))\n",
        "plt.rcParams['figure.figsize'] = (8, 6)\n",
        "plt.xlabel(\"Num of Epochs\")\n",
        "plt.ylabel(\"Accuracy\")\n",
        "plt.legend(['val_accuracy','val_loss'])\n",
        "  \n",
        "plt.show()\n",
        "\n"
      ],
      "execution_count": null,
      "outputs": [
        {
          "output_type": "display_data",
          "data": {
            "image/png": "[encoded data removed]",
            "text/plain": [
              "<Figure size 576x432 with 1 Axes>"
            ]
          },
          "metadata": {
            "tags": [],
            "needs_background": "light"
          }
        },
        {
          "output_type": "display_data",
          "data": {
            "image/png": "[encoded data removed]",
            "text/plain": [
              "<Figure size 576x432 with 1 Axes>"
            ]
          },
          "metadata": {
            "tags": [],
            "needs_background": "light"
          }
        }
      ]
    },
    {
      "cell_type": "code",
      "metadata": {
        "id": "N7QfNTh6ORDG"
      },
      "source": [
        "base_model = tf.keras.applications.MobileNetV2(include_top=True,\n",
        "                                                   input_shape=(224, 224, 3),\n",
        "                                                   weights='imagenet')\n",
        "_model7 = base_model.layers[-2].output\n",
        "\n",
        "\n",
        "_model7 = Flatten()(_model7)\n",
        "_model7 = Dense(1024 , activation='relu')(_model7)\n",
        "_model7 = Dropout(0.5)(_model7)\n",
        "_model7 = Dense(512 , activation='relu')(_model7)\n",
        "_model7 = Dropout(0.5)(_model7)\n",
        "_model7 = Dense(num_classes, activation='softmax')(_model7)\n",
        "\n",
        "model7 = keras.Model(inputs=base_model.input, outputs=_model7)\n"
      ],
      "execution_count": null,
      "outputs": []
    },
    {
      "cell_type": "code",
      "metadata": {
        "colab": {
          "base_uri": "https://localhost:8080/"
        },
        "id": "tizOc7aKORDG",
        "outputId": "deb407bd-902c-4803-f0c6-cc22047e2a87"
      },
      "source": [
        "model7.summary()\n"
      ],
      "execution_count": null,
      "outputs": [
        {
          "output_type": "stream",
          "text": [
            "Model: \"functional_34\"\n",
            "__________________________________________________________________________________________________\n",
            "Layer (type)                    Output Shape         Param #     Connected to                     \n",
            "==================================================================================================\n",
            "input_39 (InputLayer)           [(None, 224, 224, 3) 0                                            \n",
            "__________________________________________________________________________________________________\n",
            "Conv1_pad (ZeroPadding2D)       (None, 225, 225, 3)  0           input_39[0][0]                   \n",
            "__________________________________________________________________________________________________\n",
            "Conv1 (Conv2D)                  (None, 112, 112, 32) 864         Conv1_pad[0][0]                  \n",
            "__________________________________________________________________________________________________\n",
            "bn_Conv1 (BatchNormalization)   (None, 112, 112, 32) 128         Conv1[0][0]                      \n",
            "__________________________________________________________________________________________________\n",
            "Conv1_relu (ReLU)               (None, 112, 112, 32) 0           bn_Conv1[0][0]                   \n",
            "__________________________________________________________________________________________________\n",
            "expanded_conv_depthwise (Depthw (None, 112, 112, 32) 288         Conv1_relu[0][0]                 \n",
            "__________________________________________________________________________________________________\n",
            "expanded_conv_depthwise_BN (Bat (None, 112, 112, 32) 128         expanded_conv_depthwise[0][0]    \n",
            "__________________________________________________________________________________________________\n",
            "expanded_conv_depthwise_relu (R (None, 112, 112, 32) 0           expanded_conv_depthwise_BN[0][0] \n",
            "__________________________________________________________________________________________________\n",
            "expanded_conv_project (Conv2D)  (None, 112, 112, 16) 512         expanded_conv_depthwise_relu[0][0\n",
            "__________________________________________________________________________________________________\n",
            "expanded_conv_project_BN (Batch (None, 112, 112, 16) 64          expanded_conv_project[0][0]      \n",
            "__________________________________________________________________________________________________\n",
            "block_1_expand (Conv2D)         (None, 112, 112, 96) 1536        expanded_conv_project_BN[0][0]   \n",
            "__________________________________________________________________________________________________\n",
            "block_1_expand_BN (BatchNormali (None, 112, 112, 96) 384         block_1_expand[0][0]             \n",
            "__________________________________________________________________________________________________\n",
            "block_1_expand_relu (ReLU)      (None, 112, 112, 96) 0           block_1_expand_BN[0][0]          \n",
            "__________________________________________________________________________________________________\n",
            "block_1_pad (ZeroPadding2D)     (None, 113, 113, 96) 0           block_1_expand_relu[0][0]        \n",
            "__________________________________________________________________________________________________\n",
            "block_1_depthwise (DepthwiseCon (None, 56, 56, 96)   864         block_1_pad[0][0]                \n",
            "__________________________________________________________________________________________________\n",
            "block_1_depthwise_BN (BatchNorm (None, 56, 56, 96)   384         block_1_depthwise[0][0]          \n",
            "__________________________________________________________________________________________________\n",
            "block_1_depthwise_relu (ReLU)   (None, 56, 56, 96)   0           block_1_depthwise_BN[0][0]       \n",
            "__________________________________________________________________________________________________\n",
            "block_1_project (Conv2D)        (None, 56, 56, 24)   2304        block_1_depthwise_relu[0][0]     \n",
            "__________________________________________________________________________________________________\n",
            "block_1_project_BN (BatchNormal (None, 56, 56, 24)   96          block_1_project[0][0]            \n",
            "__________________________________________________________________________________________________\n",
            "block_2_expand (Conv2D)         (None, 56, 56, 144)  3456        block_1_project_BN[0][0]         \n",
            "__________________________________________________________________________________________________\n",
            "block_2_expand_BN (BatchNormali (None, 56, 56, 144)  576         block_2_expand[0][0]             \n",
            "__________________________________________________________________________________________________\n",
            "block_2_expand_relu (ReLU)      (None, 56, 56, 144)  0           block_2_expand_BN[0][0]          \n",
            "__________________________________________________________________________________________________\n",
            "block_2_depthwise (DepthwiseCon (None, 56, 56, 144)  1296        block_2_expand_relu[0][0]        \n",
            "__________________________________________________________________________________________________\n",
            "block_2_depthwise_BN (BatchNorm (None, 56, 56, 144)  576         block_2_depthwise[0][0]          \n",
            "__________________________________________________________________________________________________\n",
            "block_2_depthwise_relu (ReLU)   (None, 56, 56, 144)  0           block_2_depthwise_BN[0][0]       \n",
            "__________________________________________________________________________________________________\n",
            "block_2_project (Conv2D)        (None, 56, 56, 24)   3456        block_2_depthwise_relu[0][0]     \n",
            "__________________________________________________________________________________________________\n",
            "block_2_project_BN (BatchNormal (None, 56, 56, 24)   96          block_2_project[0][0]            \n",
            "__________________________________________________________________________________________________\n",
            "block_2_add (Add)               (None, 56, 56, 24)   0           block_1_project_BN[0][0]         \n",
            "                                                                 block_2_project_BN[0][0]         \n",
            "__________________________________________________________________________________________________\n",
            "block_3_expand (Conv2D)         (None, 56, 56, 144)  3456        block_2_add[0][0]                \n",
            "__________________________________________________________________________________________________\n",
            "block_3_expand_BN (BatchNormali (None, 56, 56, 144)  576         block_3_expand[0][0]             \n",
            "__________________________________________________________________________________________________\n",
            "block_3_expand_relu (ReLU)      (None, 56, 56, 144)  0           block_3_expand_BN[0][0]          \n",
            "__________________________________________________________________________________________________\n",
            "block_3_pad (ZeroPadding2D)     (None, 57, 57, 144)  0           block_3_expand_relu[0][0]        \n",
            "__________________________________________________________________________________________________\n",
            "block_3_depthwise (DepthwiseCon (None, 28, 28, 144)  1296        block_3_pad[0][0]                \n",
            "__________________________________________________________________________________________________\n",
            "block_3_depthwise_BN (BatchNorm (None, 28, 28, 144)  576         block_3_depthwise[0][0]          \n",
            "__________________________________________________________________________________________________\n",
            "block_3_depthwise_relu (ReLU)   (None, 28, 28, 144)  0           block_3_depthwise_BN[0][0]       \n",
            "__________________________________________________________________________________________________\n",
            "block_3_project (Conv2D)        (None, 28, 28, 32)   4608        block_3_depthwise_relu[0][0]     \n",
            "__________________________________________________________________________________________________\n",
            "block_3_project_BN (BatchNormal (None, 28, 28, 32)   128         block_3_project[0][0]            \n",
            "__________________________________________________________________________________________________\n",
            "block_4_expand (Conv2D)         (None, 28, 28, 192)  6144        block_3_project_BN[0][0]         \n",
            "__________________________________________________________________________________________________\n",
            "block_4_expand_BN (BatchNormali (None, 28, 28, 192)  768         block_4_expand[0][0]             \n",
            "__________________________________________________________________________________________________\n",
            "block_4_expand_relu (ReLU)      (None, 28, 28, 192)  0           block_4_expand_BN[0][0]          \n",
            "__________________________________________________________________________________________________\n",
            "block_4_depthwise (DepthwiseCon (None, 28, 28, 192)  1728        block_4_expand_relu[0][0]        \n",
            "__________________________________________________________________________________________________\n",
            "block_4_depthwise_BN (BatchNorm (None, 28, 28, 192)  768         block_4_depthwise[0][0]          \n",
            "__________________________________________________________________________________________________\n",
            "block_4_depthwise_relu (ReLU)   (None, 28, 28, 192)  0           block_4_depthwise_BN[0][0]       \n",
            "__________________________________________________________________________________________________\n",
            "block_4_project (Conv2D)        (None, 28, 28, 32)   6144        block_4_depthwise_relu[0][0]     \n",
            "__________________________________________________________________________________________________\n",
            "block_4_project_BN (BatchNormal (None, 28, 28, 32)   128         block_4_project[0][0]            \n",
            "__________________________________________________________________________________________________\n",
            "block_4_add (Add)               (None, 28, 28, 32)   0           block_3_project_BN[0][0]         \n",
            "                                                                 block_4_project_BN[0][0]         \n",
            "__________________________________________________________________________________________________\n",
            "block_5_expand (Conv2D)         (None, 28, 28, 192)  6144        block_4_add[0][0]                \n",
            "__________________________________________________________________________________________________\n",
            "block_5_expand_BN (BatchNormali (None, 28, 28, 192)  768         block_5_expand[0][0]             \n",
            "__________________________________________________________________________________________________\n",
            "block_5_expand_relu (ReLU)      (None, 28, 28, 192)  0           block_5_expand_BN[0][0]          \n",
            "__________________________________________________________________________________________________\n",
            "block_5_depthwise (DepthwiseCon (None, 28, 28, 192)  1728        block_5_expand_relu[0][0]        \n",
            "__________________________________________________________________________________________________\n",
            "block_5_depthwise_BN (BatchNorm (None, 28, 28, 192)  768         block_5_depthwise[0][0]          \n",
            "__________________________________________________________________________________________________\n",
            "block_5_depthwise_relu (ReLU)   (None, 28, 28, 192)  0           block_5_depthwise_BN[0][0]       \n",
            "__________________________________________________________________________________________________\n",
            "block_5_project (Conv2D)        (None, 28, 28, 32)   6144        block_5_depthwise_relu[0][0]     \n",
            "__________________________________________________________________________________________________\n",
            "block_5_project_BN (BatchNormal (None, 28, 28, 32)   128         block_5_project[0][0]            \n",
            "__________________________________________________________________________________________________\n",
            "block_5_add (Add)               (None, 28, 28, 32)   0           block_4_add[0][0]                \n",
            "                                                                 block_5_project_BN[0][0]         \n",
            "__________________________________________________________________________________________________\n",
            "block_6_expand (Conv2D)         (None, 28, 28, 192)  6144        block_5_add[0][0]                \n",
            "__________________________________________________________________________________________________\n",
            "block_6_expand_BN (BatchNormali (None, 28, 28, 192)  768         block_6_expand[0][0]             \n",
            "__________________________________________________________________________________________________\n",
            "block_6_expand_relu (ReLU)      (None, 28, 28, 192)  0           block_6_expand_BN[0][0]          \n",
            "__________________________________________________________________________________________________\n",
            "block_6_pad (ZeroPadding2D)     (None, 29, 29, 192)  0           block_6_expand_relu[0][0]        \n",
            "__________________________________________________________________________________________________\n",
            "block_6_depthwise (DepthwiseCon (None, 14, 14, 192)  1728        block_6_pad[0][0]                \n",
            "__________________________________________________________________________________________________\n",
            "block_6_depthwise_BN (BatchNorm (None, 14, 14, 192)  768         block_6_depthwise[0][0]          \n",
            "__________________________________________________________________________________________________\n",
            "block_6_depthwise_relu (ReLU)   (None, 14, 14, 192)  0           block_6_depthwise_BN[0][0]       \n",
            "__________________________________________________________________________________________________\n",
            "block_6_project (Conv2D)        (None, 14, 14, 64)   12288       block_6_depthwise_relu[0][0]     \n",
            "__________________________________________________________________________________________________\n",
            "block_6_project_BN (BatchNormal (None, 14, 14, 64)   256         block_6_project[0][0]            \n",
            "__________________________________________________________________________________________________\n",
            "block_7_expand (Conv2D)         (None, 14, 14, 384)  24576       block_6_project_BN[0][0]         \n",
            "__________________________________________________________________________________________________\n",
            "block_7_expand_BN (BatchNormali (None, 14, 14, 384)  1536        block_7_expand[0][0]             \n",
            "__________________________________________________________________________________________________\n",
            "block_7_expand_relu (ReLU)      (None, 14, 14, 384)  0           block_7_expand_BN[0][0]          \n",
            "__________________________________________________________________________________________________\n",
            "block_7_depthwise (DepthwiseCon (None, 14, 14, 384)  3456        block_7_expand_relu[0][0]        \n",
            "__________________________________________________________________________________________________\n",
            "block_7_depthwise_BN (BatchNorm (None, 14, 14, 384)  1536        block_7_depthwise[0][0]          \n",
            "__________________________________________________________________________________________________\n",
            "block_7_depthwise_relu (ReLU)   (None, 14, 14, 384)  0           block_7_depthwise_BN[0][0]       \n",
            "__________________________________________________________________________________________________\n",
            "block_7_project (Conv2D)        (None, 14, 14, 64)   24576       block_7_depthwise_relu[0][0]     \n",
            "__________________________________________________________________________________________________\n",
            "block_7_project_BN (BatchNormal (None, 14, 14, 64)   256         block_7_project[0][0]            \n",
            "__________________________________________________________________________________________________\n",
            "block_7_add (Add)               (None, 14, 14, 64)   0           block_6_project_BN[0][0]         \n",
            "                                                                 block_7_project_BN[0][0]         \n",
            "__________________________________________________________________________________________________\n",
            "block_8_expand (Conv2D)         (None, 14, 14, 384)  24576       block_7_add[0][0]                \n",
            "__________________________________________________________________________________________________\n",
            "block_8_expand_BN (BatchNormali (None, 14, 14, 384)  1536        block_8_expand[0][0]             \n",
            "__________________________________________________________________________________________________\n",
            "block_8_expand_relu (ReLU)      (None, 14, 14, 384)  0           block_8_expand_BN[0][0]          \n",
            "__________________________________________________________________________________________________\n",
            "block_8_depthwise (DepthwiseCon (None, 14, 14, 384)  3456        block_8_expand_relu[0][0]        \n",
            "__________________________________________________________________________________________________\n",
            "block_8_depthwise_BN (BatchNorm (None, 14, 14, 384)  1536        block_8_depthwise[0][0]          \n",
            "__________________________________________________________________________________________________\n",
            "block_8_depthwise_relu (ReLU)   (None, 14, 14, 384)  0           block_8_depthwise_BN[0][0]       \n",
            "__________________________________________________________________________________________________\n",
            "block_8_project (Conv2D)        (None, 14, 14, 64)   24576       block_8_depthwise_relu[0][0]     \n",
            "__________________________________________________________________________________________________\n",
            "block_8_project_BN (BatchNormal (None, 14, 14, 64)   256         block_8_project[0][0]            \n",
            "__________________________________________________________________________________________________\n",
            "block_8_add (Add)               (None, 14, 14, 64)   0           block_7_add[0][0]                \n",
            "                                                                 block_8_project_BN[0][0]         \n",
            "__________________________________________________________________________________________________\n",
            "block_9_expand (Conv2D)         (None, 14, 14, 384)  24576       block_8_add[0][0]                \n",
            "__________________________________________________________________________________________________\n",
            "block_9_expand_BN (BatchNormali (None, 14, 14, 384)  1536        block_9_expand[0][0]             \n",
            "__________________________________________________________________________________________________\n",
            "block_9_expand_relu (ReLU)      (None, 14, 14, 384)  0           block_9_expand_BN[0][0]          \n",
            "__________________________________________________________________________________________________\n",
            "block_9_depthwise (DepthwiseCon (None, 14, 14, 384)  3456        block_9_expand_relu[0][0]        \n",
            "__________________________________________________________________________________________________\n",
            "block_9_depthwise_BN (BatchNorm (None, 14, 14, 384)  1536        block_9_depthwise[0][0]          \n",
            "__________________________________________________________________________________________________\n",
            "block_9_depthwise_relu (ReLU)   (None, 14, 14, 384)  0           block_9_depthwise_BN[0][0]       \n",
            "__________________________________________________________________________________________________\n",
            "block_9_project (Conv2D)        (None, 14, 14, 64)   24576       block_9_depthwise_relu[0][0]     \n",
            "__________________________________________________________________________________________________\n",
            "block_9_project_BN (BatchNormal (None, 14, 14, 64)   256         block_9_project[0][0]            \n",
            "__________________________________________________________________________________________________\n",
            "block_9_add (Add)               (None, 14, 14, 64)   0           block_8_add[0][0]                \n",
            "                                                                 block_9_project_BN[0][0]         \n",
            "__________________________________________________________________________________________________\n",
            "block_10_expand (Conv2D)        (None, 14, 14, 384)  24576       block_9_add[0][0]                \n",
            "__________________________________________________________________________________________________\n",
            "block_10_expand_BN (BatchNormal (None, 14, 14, 384)  1536        block_10_expand[0][0]            \n",
            "__________________________________________________________________________________________________\n",
            "block_10_expand_relu (ReLU)     (None, 14, 14, 384)  0           block_10_expand_BN[0][0]         \n",
            "__________________________________________________________________________________________________\n",
            "block_10_depthwise (DepthwiseCo (None, 14, 14, 384)  3456        block_10_expand_relu[0][0]       \n",
            "__________________________________________________________________________________________________\n",
            "block_10_depthwise_BN (BatchNor (None, 14, 14, 384)  1536        block_10_depthwise[0][0]         \n",
            "__________________________________________________________________________________________________\n",
            "block_10_depthwise_relu (ReLU)  (None, 14, 14, 384)  0           block_10_depthwise_BN[0][0]      \n",
            "__________________________________________________________________________________________________\n",
            "block_10_project (Conv2D)       (None, 14, 14, 96)   36864       block_10_depthwise_relu[0][0]    \n",
            "__________________________________________________________________________________________________\n",
            "block_10_project_BN (BatchNorma (None, 14, 14, 96)   384         block_10_project[0][0]           \n",
            "__________________________________________________________________________________________________\n",
            "block_11_expand (Conv2D)        (None, 14, 14, 576)  55296       block_10_project_BN[0][0]        \n",
            "__________________________________________________________________________________________________\n",
            "block_11_expand_BN (BatchNormal (None, 14, 14, 576)  2304        block_11_expand[0][0]            \n",
            "__________________________________________________________________________________________________\n",
            "block_11_expand_relu (ReLU)     (None, 14, 14, 576)  0           block_11_expand_BN[0][0]         \n",
            "__________________________________________________________________________________________________\n",
            "block_11_depthwise (DepthwiseCo (None, 14, 14, 576)  5184        block_11_expand_relu[0][0]       \n",
            "__________________________________________________________________________________________________\n",
            "block_11_depthwise_BN (BatchNor (None, 14, 14, 576)  2304        block_11_depthwise[0][0]         \n",
            "__________________________________________________________________________________________________\n",
            "block_11_depthwise_relu (ReLU)  (None, 14, 14, 576)  0           block_11_depthwise_BN[0][0]      \n",
            "__________________________________________________________________________________________________\n",
            "block_11_project (Conv2D)       (None, 14, 14, 96)   55296       block_11_depthwise_relu[0][0]    \n",
            "__________________________________________________________________________________________________\n",
            "block_11_project_BN (BatchNorma (None, 14, 14, 96)   384         block_11_project[0][0]           \n",
            "__________________________________________________________________________________________________\n",
            "block_11_add (Add)              (None, 14, 14, 96)   0           block_10_project_BN[0][0]        \n",
            "                                                                 block_11_project_BN[0][0]        \n",
            "__________________________________________________________________________________________________\n",
            "block_12_expand (Conv2D)        (None, 14, 14, 576)  55296       block_11_add[0][0]               \n",
            "__________________________________________________________________________________________________\n",
            "block_12_expand_BN (BatchNormal (None, 14, 14, 576)  2304        block_12_expand[0][0]            \n",
            "__________________________________________________________________________________________________\n",
            "block_12_expand_relu (ReLU)     (None, 14, 14, 576)  0           block_12_expand_BN[0][0]         \n",
            "__________________________________________________________________________________________________\n",
            "block_12_depthwise (DepthwiseCo (None, 14, 14, 576)  5184        block_12_expand_relu[0][0]       \n",
            "__________________________________________________________________________________________________\n",
            "block_12_depthwise_BN (BatchNor (None, 14, 14, 576)  2304        block_12_depthwise[0][0]         \n",
            "__________________________________________________________________________________________________\n",
            "block_12_depthwise_relu (ReLU)  (None, 14, 14, 576)  0           block_12_depthwise_BN[0][0]      \n",
            "__________________________________________________________________________________________________\n",
            "block_12_project (Conv2D)       (None, 14, 14, 96)   55296       block_12_depthwise_relu[0][0]    \n",
            "__________________________________________________________________________________________________\n",
            "block_12_project_BN (BatchNorma (None, 14, 14, 96)   384         block_12_project[0][0]           \n",
            "__________________________________________________________________________________________________\n",
            "block_12_add (Add)              (None, 14, 14, 96)   0           block_11_add[0][0]               \n",
            "                                                                 block_12_project_BN[0][0]        \n",
            "__________________________________________________________________________________________________\n",
            "block_13_expand (Conv2D)        (None, 14, 14, 576)  55296       block_12_add[0][0]               \n",
            "__________________________________________________________________________________________________\n",
            "block_13_expand_BN (BatchNormal (None, 14, 14, 576)  2304        block_13_expand[0][0]            \n",
            "__________________________________________________________________________________________________\n",
            "block_13_expand_relu (ReLU)     (None, 14, 14, 576)  0           block_13_expand_BN[0][0]         \n",
            "__________________________________________________________________________________________________\n",
            "block_13_pad (ZeroPadding2D)    (None, 15, 15, 576)  0           block_13_expand_relu[0][0]       \n",
            "__________________________________________________________________________________________________\n",
            "block_13_depthwise (DepthwiseCo (None, 7, 7, 576)    5184        block_13_pad[0][0]               \n",
            "__________________________________________________________________________________________________\n",
            "block_13_depthwise_BN (BatchNor (None, 7, 7, 576)    2304        block_13_depthwise[0][0]         \n",
            "__________________________________________________________________________________________________\n",
            "block_13_depthwise_relu (ReLU)  (None, 7, 7, 576)    0           block_13_depthwise_BN[0][0]      \n",
            "__________________________________________________________________________________________________\n",
            "block_13_project (Conv2D)       (None, 7, 7, 160)    92160       block_13_depthwise_relu[0][0]    \n",
            "__________________________________________________________________________________________________\n",
            "block_13_project_BN (BatchNorma (None, 7, 7, 160)    640         block_13_project[0][0]           \n",
            "__________________________________________________________________________________________________\n",
            "block_14_expand (Conv2D)        (None, 7, 7, 960)    153600      block_13_project_BN[0][0]        \n",
            "__________________________________________________________________________________________________\n",
            "block_14_expand_BN (BatchNormal (None, 7, 7, 960)    3840        block_14_expand[0][0]            \n",
            "__________________________________________________________________________________________________\n",
            "block_14_expand_relu (ReLU)     (None, 7, 7, 960)    0           block_14_expand_BN[0][0]         \n",
            "__________________________________________________________________________________________________\n",
            "block_14_depthwise (DepthwiseCo (None, 7, 7, 960)    8640        block_14_expand_relu[0][0]       \n",
            "__________________________________________________________________________________________________\n",
            "block_14_depthwise_BN (BatchNor (None, 7, 7, 960)    3840        block_14_depthwise[0][0]         \n",
            "__________________________________________________________________________________________________\n",
            "block_14_depthwise_relu (ReLU)  (None, 7, 7, 960)    0           block_14_depthwise_BN[0][0]      \n",
            "__________________________________________________________________________________________________\n",
            "block_14_project (Conv2D)       (None, 7, 7, 160)    153600      block_14_depthwise_relu[0][0]    \n",
            "__________________________________________________________________________________________________\n",
            "block_14_project_BN (BatchNorma (None, 7, 7, 160)    640         block_14_project[0][0]           \n",
            "__________________________________________________________________________________________________\n",
            "block_14_add (Add)              (None, 7, 7, 160)    0           block_13_project_BN[0][0]        \n",
            "                                                                 block_14_project_BN[0][0]        \n",
            "__________________________________________________________________________________________________\n",
            "block_15_expand (Conv2D)        (None, 7, 7, 960)    153600      block_14_add[0][0]               \n",
            "__________________________________________________________________________________________________\n",
            "block_15_expand_BN (BatchNormal (None, 7, 7, 960)    3840        block_15_expand[0][0]            \n",
            "__________________________________________________________________________________________________\n",
            "block_15_expand_relu (ReLU)     (None, 7, 7, 960)    0           block_15_expand_BN[0][0]         \n",
            "__________________________________________________________________________________________________\n",
            "block_15_depthwise (DepthwiseCo (None, 7, 7, 960)    8640        block_15_expand_relu[0][0]       \n",
            "__________________________________________________________________________________________________\n",
            "block_15_depthwise_BN (BatchNor (None, 7, 7, 960)    3840        block_15_depthwise[0][0]         \n",
            "__________________________________________________________________________________________________\n",
            "block_15_depthwise_relu (ReLU)  (None, 7, 7, 960)    0           block_15_depthwise_BN[0][0]      \n",
            "__________________________________________________________________________________________________\n",
            "block_15_project (Conv2D)       (None, 7, 7, 160)    153600      block_15_depthwise_relu[0][0]    \n",
            "__________________________________________________________________________________________________\n",
            "block_15_project_BN (BatchNorma (None, 7, 7, 160)    640         block_15_project[0][0]           \n",
            "__________________________________________________________________________________________________\n",
            "block_15_add (Add)              (None, 7, 7, 160)    0           block_14_add[0][0]               \n",
            "                                                                 block_15_project_BN[0][0]        \n",
            "__________________________________________________________________________________________________\n",
            "block_16_expand (Conv2D)        (None, 7, 7, 960)    153600      block_15_add[0][0]               \n",
            "__________________________________________________________________________________________________\n",
            "block_16_expand_BN (BatchNormal (None, 7, 7, 960)    3840        block_16_expand[0][0]            \n",
            "__________________________________________________________________________________________________\n",
            "block_16_expand_relu (ReLU)     (None, 7, 7, 960)    0           block_16_expand_BN[0][0]         \n",
            "__________________________________________________________________________________________________\n",
            "block_16_depthwise (DepthwiseCo (None, 7, 7, 960)    8640        block_16_expand_relu[0][0]       \n",
            "__________________________________________________________________________________________________\n",
            "block_16_depthwise_BN (BatchNor (None, 7, 7, 960)    3840        block_16_depthwise[0][0]         \n",
            "__________________________________________________________________________________________________\n",
            "block_16_depthwise_relu (ReLU)  (None, 7, 7, 960)    0           block_16_depthwise_BN[0][0]      \n",
            "__________________________________________________________________________________________________\n",
            "block_16_project (Conv2D)       (None, 7, 7, 320)    307200      block_16_depthwise_relu[0][0]    \n",
            "__________________________________________________________________________________________________\n",
            "block_16_project_BN (BatchNorma (None, 7, 7, 320)    1280        block_16_project[0][0]           \n",
            "__________________________________________________________________________________________________\n",
            "Conv_1 (Conv2D)                 (None, 7, 7, 1280)   409600      block_16_project_BN[0][0]        \n",
            "__________________________________________________________________________________________________\n",
            "Conv_1_bn (BatchNormalization)  (None, 7, 7, 1280)   5120        Conv_1[0][0]                     \n",
            "__________________________________________________________________________________________________\n",
            "out_relu (ReLU)                 (None, 7, 7, 1280)   0           Conv_1_bn[0][0]                  \n",
            "__________________________________________________________________________________________________\n",
            "global_average_pooling2d_16 (Gl (None, 1280)         0           out_relu[0][0]                   \n",
            "__________________________________________________________________________________________________\n",
            "batch_normalization_14 (BatchNo (None, 1280)         5120        global_average_pooling2d_16[0][0]\n",
            "__________________________________________________________________________________________________\n",
            "dense_46 (Dense)                (None, 1024)         1311744     batch_normalization_14[0][0]     \n",
            "__________________________________________________________________________________________________\n",
            "dropout_16 (Dropout)            (None, 1024)         0           dense_46[0][0]                   \n",
            "__________________________________________________________________________________________________\n",
            "dense_47 (Dense)                (None, 512)          524800      dropout_16[0][0]                 \n",
            "__________________________________________________________________________________________________\n",
            "dropout_17 (Dropout)            (None, 512)          0           dense_47[0][0]                   \n",
            "__________________________________________________________________________________________________\n",
            "dense_48 (Dense)                (None, 196)          100548      dropout_17[0][0]                 \n",
            "==================================================================================================\n",
            "Total params: 4,200,196\n",
            "Trainable params: 4,163,524\n",
            "Non-trainable params: 36,672\n",
            "__________________________________________________________________________________________________\n"
          ],
          "name": "stdout"
        }
      ]
    },
    {
      "cell_type": "code",
      "metadata": {
        "colab": {
          "base_uri": "https://localhost:8080/"
        },
        "id": "KMPPSyEOORDH",
        "outputId": "ad51d6d0-8c3b-4aba-fcd9-b0ac60e1112c"
      },
      "source": [
        "opt = keras.optimizers.Adam(learning_rate=0.0001)\n",
        "\n",
        "model7.compile(optimizer=opt, loss='categorical_crossentropy',\n",
        "                metrics=['accuracy'])\n",
        "\n",
        "model_history7 = model7.fit(train_ds_split, validation_data=val_ds_split, \n",
        "                            epochs=100, verbose=1)\n",
        "\n"
      ],
      "execution_count": null,
      "outputs": [
        {
          "output_type": "stream",
          "text": [
            "Epoch 1/100\n",
            "  2/102 [..............................] - ETA: 36s - loss: 6.1077 - accuracy: 0.0000e+00WARNING:tensorflow:Callbacks method `on_train_batch_end` is slow compared to the batch time (batch time: 0.0923s vs `on_train_batch_end` time: 0.2864s). Check your callbacks.\n",
            "102/102 [==============================] - 51s 501ms/step - loss: 5.8293 - accuracy: 0.0069 - val_loss: 5.2453 - val_accuracy: 0.0086\n",
            "Epoch 2/100\n",
            "102/102 [==============================] - 52s 507ms/step - loss: 5.1764 - accuracy: 0.0215 - val_loss: 5.1530 - val_accuracy: 0.0135\n",
            "Epoch 3/100\n",
            "102/102 [==============================] - 51s 496ms/step - loss: 4.8653 - accuracy: 0.0454 - val_loss: 4.9740 - val_accuracy: 0.0399\n",
            "Epoch 4/100\n",
            "102/102 [==============================] - 48s 475ms/step - loss: 4.5516 - accuracy: 0.0856 - val_loss: 4.7592 - val_accuracy: 0.0540\n",
            "Epoch 5/100\n",
            "102/102 [==============================] - 48s 474ms/step - loss: 4.1132 - accuracy: 0.1383 - val_loss: 4.4675 - val_accuracy: 0.0724\n",
            "Epoch 6/100\n",
            "102/102 [==============================] - 49s 479ms/step - loss: 3.6593 - accuracy: 0.2034 - val_loss: 4.1431 - val_accuracy: 0.1344\n",
            "Epoch 7/100\n",
            "102/102 [==============================] - 48s 471ms/step - loss: 3.1858 - accuracy: 0.2817 - val_loss: 3.8043 - val_accuracy: 0.1719\n",
            "Epoch 8/100\n",
            "102/102 [==============================] - 49s 476ms/step - loss: 2.7180 - accuracy: 0.3644 - val_loss: 3.4893 - val_accuracy: 0.2142\n",
            "Epoch 9/100\n",
            "102/102 [==============================] - 48s 472ms/step - loss: 2.2747 - accuracy: 0.4526 - val_loss: 3.1621 - val_accuracy: 0.2541\n",
            "Epoch 10/100\n",
            "102/102 [==============================] - 48s 475ms/step - loss: 1.8765 - accuracy: 0.5346 - val_loss: 2.9480 - val_accuracy: 0.2897\n",
            "Epoch 11/100\n",
            "102/102 [==============================] - 48s 474ms/step - loss: 1.5837 - accuracy: 0.5968 - val_loss: 2.8216 - val_accuracy: 0.3186\n",
            "Epoch 12/100\n",
            "102/102 [==============================] - 49s 482ms/step - loss: 1.2644 - accuracy: 0.6798 - val_loss: 2.6711 - val_accuracy: 0.3530\n",
            "Epoch 13/100\n",
            "102/102 [==============================] - 49s 484ms/step - loss: 1.0096 - accuracy: 0.7441 - val_loss: 2.5957 - val_accuracy: 0.3579\n",
            "Epoch 14/100\n",
            "102/102 [==============================] - 49s 480ms/step - loss: 0.8106 - accuracy: 0.7870 - val_loss: 2.4885 - val_accuracy: 0.3849\n",
            "Epoch 15/100\n",
            "102/102 [==============================] - 49s 481ms/step - loss: 0.6637 - accuracy: 0.8259 - val_loss: 2.4933 - val_accuracy: 0.3867\n",
            "Epoch 16/100\n",
            "102/102 [==============================] - 50s 487ms/step - loss: 0.5331 - accuracy: 0.8628 - val_loss: 2.4617 - val_accuracy: 0.3898\n",
            "Epoch 17/100\n",
            "102/102 [==============================] - 49s 480ms/step - loss: 0.4329 - accuracy: 0.8919 - val_loss: 2.3809 - val_accuracy: 0.4150\n",
            "Epoch 18/100\n",
            "102/102 [==============================] - 49s 482ms/step - loss: 0.3709 - accuracy: 0.9028 - val_loss: 2.3868 - val_accuracy: 0.4248\n",
            "Epoch 19/100\n",
            "102/102 [==============================] - 50s 486ms/step - loss: 0.3132 - accuracy: 0.9216 - val_loss: 2.4623 - val_accuracy: 0.4033\n",
            "Epoch 20/100\n",
            "102/102 [==============================] - 50s 494ms/step - loss: 0.2686 - accuracy: 0.9318 - val_loss: 2.4054 - val_accuracy: 0.4279\n",
            "Epoch 21/100\n",
            "102/102 [==============================] - 52s 510ms/step - loss: 0.2365 - accuracy: 0.9392 - val_loss: 2.4001 - val_accuracy: 0.4322\n",
            "Epoch 22/100\n",
            "102/102 [==============================] - 52s 513ms/step - loss: 0.2058 - accuracy: 0.9475 - val_loss: 2.3728 - val_accuracy: 0.4494\n"
          ],
          "name": "stdout"
        }
      ]
    },
    {
      "cell_type": "code",
      "metadata": {
        "colab": {
          "base_uri": "https://localhost:8080/"
        },
        "id": "r306H194R2WQ",
        "outputId": "ad51d6d0-8c3b-4aba-fcd9-b0ac60e1112c"
      },
      "source": [
        "opt = keras.optimizers.Adam(learning_rate=0.0001)\n",
        "\n",
        "model7.compile(optimizer=opt, loss='categorical_crossentropy',\n",
        "                metrics=['accuracy'])\n",
        "\n",
        "model_history7 = model7.fit(train_ds_split, validation_data=val_ds_split, \n",
        "                            epochs=100, verbose=1)\n",
        "\n"
      ],
      "execution_count": null,
      "outputs": [
        {
          "output_type": "stream",
          "text": [
            "Epoch 1/100\n",
            "  2/102 [..............................] - ETA: 36s - loss: 6.1077 - accuracy: 0.0000e+00WARNING:tensorflow:Callbacks method `on_train_batch_end` is slow compared to the batch time (batch time: 0.0923s vs `on_train_batch_end` time: 0.2864s). Check your callbacks.\n",
            "102/102 [==============================] - 51s 501ms/step - loss: 5.8293 - accuracy: 0.0069 - val_loss: 5.2453 - val_accuracy: 0.0086\n",
            "Epoch 2/100\n",
            "102/102 [==============================] - 52s 507ms/step - loss: 5.1764 - accuracy: 0.0215 - val_loss: 5.1530 - val_accuracy: 0.0135\n",
            "Epoch 3/100\n",
            "102/102 [==============================] - 51s 496ms/step - loss: 4.8653 - accuracy: 0.0454 - val_loss: 4.9740 - val_accuracy: 0.0399\n",
            "Epoch 4/100\n",
            "102/102 [==============================] - 48s 475ms/step - loss: 4.5516 - accuracy: 0.0856 - val_loss: 4.7592 - val_accuracy: 0.0540\n",
            "Epoch 5/100\n",
            "102/102 [==============================] - 48s 474ms/step - loss: 4.1132 - accuracy: 0.1383 - val_loss: 4.4675 - val_accuracy: 0.0724\n",
            "Epoch 6/100\n",
            "102/102 [==============================] - 49s 479ms/step - loss: 3.6593 - accuracy: 0.2034 - val_loss: 4.1431 - val_accuracy: 0.1344\n",
            "Epoch 7/100\n",
            "102/102 [==============================] - 48s 471ms/step - loss: 3.1858 - accuracy: 0.2817 - val_loss: 3.8043 - val_accuracy: 0.1719\n",
            "Epoch 8/100\n",
            "102/102 [==============================] - 49s 476ms/step - loss: 2.7180 - accuracy: 0.3644 - val_loss: 3.4893 - val_accuracy: 0.2142\n",
            "Epoch 9/100\n",
            "102/102 [==============================] - 48s 472ms/step - loss: 2.2747 - accuracy: 0.4526 - val_loss: 3.1621 - val_accuracy: 0.2541\n",
            "Epoch 10/100\n",
            "102/102 [==============================] - 48s 475ms/step - loss: 1.8765 - accuracy: 0.5346 - val_loss: 2.9480 - val_accuracy: 0.2897\n",
            "Epoch 11/100\n",
            "102/102 [==============================] - 48s 474ms/step - loss: 1.5837 - accuracy: 0.5968 - val_loss: 2.8216 - val_accuracy: 0.3186\n",
            "Epoch 12/100\n",
            "102/102 [==============================] - 49s 482ms/step - loss: 1.2644 - accuracy: 0.6798 - val_loss: 2.6711 - val_accuracy: 0.3530\n",
            "Epoch 13/100\n",
            "102/102 [==============================] - 49s 484ms/step - loss: 1.0096 - accuracy: 0.7441 - val_loss: 2.5957 - val_accuracy: 0.3579\n",
            "Epoch 14/100\n",
            "102/102 [==============================] - 49s 480ms/step - loss: 0.8106 - accuracy: 0.7870 - val_loss: 2.4885 - val_accuracy: 0.3849\n",
            "Epoch 15/100\n",
            "102/102 [==============================] - 49s 481ms/step - loss: 0.6637 - accuracy: 0.8259 - val_loss: 2.4933 - val_accuracy: 0.3867\n",
            "Epoch 16/100\n",
            "102/102 [==============================] - 50s 487ms/step - loss: 0.5331 - accuracy: 0.8628 - val_loss: 2.4617 - val_accuracy: 0.3898\n",
            "Epoch 17/100\n",
            "102/102 [==============================] - 49s 480ms/step - loss: 0.4329 - accuracy: 0.8919 - val_loss: 2.3809 - val_accuracy: 0.4150\n",
            "Epoch 18/100\n",
            "102/102 [==============================] - 49s 482ms/step - loss: 0.3709 - accuracy: 0.9028 - val_loss: 2.3868 - val_accuracy: 0.4248\n",
            "Epoch 19/100\n",
            "102/102 [==============================] - 50s 486ms/step - loss: 0.3132 - accuracy: 0.9216 - val_loss: 2.4623 - val_accuracy: 0.4033\n",
            "Epoch 20/100\n",
            "102/102 [==============================] - 50s 494ms/step - loss: 0.2686 - accuracy: 0.9318 - val_loss: 2.4054 - val_accuracy: 0.4279\n",
            "Epoch 21/100\n",
            "102/102 [==============================] - 52s 510ms/step - loss: 0.2365 - accuracy: 0.9392 - val_loss: 2.4001 - val_accuracy: 0.4322\n",
            "Epoch 22/100\n",
            "102/102 [==============================] - 52s 513ms/step - loss: 0.2058 - accuracy: 0.9475 - val_loss: 2.3728 - val_accuracy: 0.4494\n"
          ],
          "name": "stdout"
        }
      ]
    },
    {
      "cell_type": "code",
      "metadata": {
        "id": "TA_o3rIgppAj"
      },
      "source": [
        "model7.save(\"/content/drive/MyDrive/input/Model7.h5\", save_format=\"h5\")\n",
        "\n",
        "# from tensorflow import keras\n",
        "# load_model = keras.models.load_model('/content/drive/MyDrive/input/resnet50.h5')"
      ],
      "execution_count": null,
      "outputs": []
    },
    {
      "cell_type": "code",
      "metadata": {
        "id": "jMulvdAgPmHZ",
        "colab": {
          "base_uri": "https://localhost:8080/"
        },
        "outputId": "d4e9227d-90ee-43cd-882d-a20f6d9bef1b"
      },
      "source": [
        "base_model = tf.keras.applications.MobileNetV2(include_top=True,\n",
        "                                                   input_shape=(224, 224, 3),\n",
        "                                                   weights='imagenet')\n",
        "_model8 = base_model.layers[-2].output\n",
        "\n",
        "\n",
        "_model8 = Flatten()(_model8)\n",
        "_model8 = Dense(1024 , activation='relu')(_model8)\n",
        "_model8 = Dropout(0.5)(_model8)\n",
        "_model8 = Dense(512 , activation='relu')(_model8)\n",
        "_model8 = Dropout(0.5)(_model8)\n",
        "_model8 = Dense(num_classes, activation='softmax')(_model8)\n",
        "\n",
        "model8 = keras.Model(inputs=base_model.input, outputs=_model8)\n"
      ],
      "execution_count": null,
      "outputs": [
        {
          "output_type": "stream",
          "text": [
            "Downloading data from https://storage.googleapis.com/tensorflow/keras-applications/mobilenet_v2/mobilenet_v2_weights_tf_dim_ordering_tf_kernels_1.0_224.h5\n",
            "14540800/14536120 [==============================] - 0s 0us/step\n"
          ],
          "name": "stdout"
        }
      ]
    },
    {
      "cell_type": "code",
      "metadata": {
        "colab": {
          "base_uri": "https://localhost:8080/"
        },
        "id": "Vv2sH0l7PmHZ",
        "outputId": "8e1c4e80-b328-4d62-dc96-013611c00806"
      },
      "source": [
        "model8.summary()\n"
      ],
      "execution_count": null,
      "outputs": [
        {
          "output_type": "stream",
          "text": [
            "Model: \"functional_32\"\n",
            "__________________________________________________________________________________________________\n",
            "Layer (type)                    Output Shape         Param #     Connected to                     \n",
            "==================================================================================================\n",
            "input_38 (InputLayer)           [(None, 224, 224, 3) 0                                            \n",
            "__________________________________________________________________________________________________\n",
            "Conv1_pad (ZeroPadding2D)       (None, 225, 225, 3)  0           input_38[0][0]                   \n",
            "__________________________________________________________________________________________________\n",
            "Conv1 (Conv2D)                  (None, 112, 112, 32) 864         Conv1_pad[0][0]                  \n",
            "__________________________________________________________________________________________________\n",
            "bn_Conv1 (BatchNormalization)   (None, 112, 112, 32) 128         Conv1[0][0]                      \n",
            "__________________________________________________________________________________________________\n",
            "Conv1_relu (ReLU)               (None, 112, 112, 32) 0           bn_Conv1[0][0]                   \n",
            "__________________________________________________________________________________________________\n",
            "expanded_conv_depthwise (Depthw (None, 112, 112, 32) 288         Conv1_relu[0][0]                 \n",
            "__________________________________________________________________________________________________\n",
            "expanded_conv_depthwise_BN (Bat (None, 112, 112, 32) 128         expanded_conv_depthwise[0][0]    \n",
            "__________________________________________________________________________________________________\n",
            "expanded_conv_depthwise_relu (R (None, 112, 112, 32) 0           expanded_conv_depthwise_BN[0][0] \n",
            "__________________________________________________________________________________________________\n",
            "expanded_conv_project (Conv2D)  (None, 112, 112, 16) 512         expanded_conv_depthwise_relu[0][0\n",
            "__________________________________________________________________________________________________\n",
            "expanded_conv_project_BN (Batch (None, 112, 112, 16) 64          expanded_conv_project[0][0]      \n",
            "__________________________________________________________________________________________________\n",
            "block_1_expand (Conv2D)         (None, 112, 112, 96) 1536        expanded_conv_project_BN[0][0]   \n",
            "__________________________________________________________________________________________________\n",
            "block_1_expand_BN (BatchNormali (None, 112, 112, 96) 384         block_1_expand[0][0]             \n",
            "__________________________________________________________________________________________________\n",
            "block_1_expand_relu (ReLU)      (None, 112, 112, 96) 0           block_1_expand_BN[0][0]          \n",
            "__________________________________________________________________________________________________\n",
            "block_1_pad (ZeroPadding2D)     (None, 113, 113, 96) 0           block_1_expand_relu[0][0]        \n",
            "__________________________________________________________________________________________________\n",
            "block_1_depthwise (DepthwiseCon (None, 56, 56, 96)   864         block_1_pad[0][0]                \n",
            "__________________________________________________________________________________________________\n",
            "block_1_depthwise_BN (BatchNorm (None, 56, 56, 96)   384         block_1_depthwise[0][0]          \n",
            "__________________________________________________________________________________________________\n",
            "block_1_depthwise_relu (ReLU)   (None, 56, 56, 96)   0           block_1_depthwise_BN[0][0]       \n",
            "__________________________________________________________________________________________________\n",
            "block_1_project (Conv2D)        (None, 56, 56, 24)   2304        block_1_depthwise_relu[0][0]     \n",
            "__________________________________________________________________________________________________\n",
            "block_1_project_BN (BatchNormal (None, 56, 56, 24)   96          block_1_project[0][0]            \n",
            "__________________________________________________________________________________________________\n",
            "block_2_expand (Conv2D)         (None, 56, 56, 144)  3456        block_1_project_BN[0][0]         \n",
            "__________________________________________________________________________________________________\n",
            "block_2_expand_BN (BatchNormali (None, 56, 56, 144)  576         block_2_expand[0][0]             \n",
            "__________________________________________________________________________________________________\n",
            "block_2_expand_relu (ReLU)      (None, 56, 56, 144)  0           block_2_expand_BN[0][0]          \n",
            "__________________________________________________________________________________________________\n",
            "block_2_depthwise (DepthwiseCon (None, 56, 56, 144)  1296        block_2_expand_relu[0][0]        \n",
            "__________________________________________________________________________________________________\n",
            "block_2_depthwise_BN (BatchNorm (None, 56, 56, 144)  576         block_2_depthwise[0][0]          \n",
            "__________________________________________________________________________________________________\n",
            "block_2_depthwise_relu (ReLU)   (None, 56, 56, 144)  0           block_2_depthwise_BN[0][0]       \n",
            "__________________________________________________________________________________________________\n",
            "block_2_project (Conv2D)        (None, 56, 56, 24)   3456        block_2_depthwise_relu[0][0]     \n",
            "__________________________________________________________________________________________________\n",
            "block_2_project_BN (BatchNormal (None, 56, 56, 24)   96          block_2_project[0][0]            \n",
            "__________________________________________________________________________________________________\n",
            "block_2_add (Add)               (None, 56, 56, 24)   0           block_1_project_BN[0][0]         \n",
            "                                                                 block_2_project_BN[0][0]         \n",
            "__________________________________________________________________________________________________\n",
            "block_3_expand (Conv2D)         (None, 56, 56, 144)  3456        block_2_add[0][0]                \n",
            "__________________________________________________________________________________________________\n",
            "block_3_expand_BN (BatchNormali (None, 56, 56, 144)  576         block_3_expand[0][0]             \n",
            "__________________________________________________________________________________________________\n",
            "block_3_expand_relu (ReLU)      (None, 56, 56, 144)  0           block_3_expand_BN[0][0]          \n",
            "__________________________________________________________________________________________________\n",
            "block_3_pad (ZeroPadding2D)     (None, 57, 57, 144)  0           block_3_expand_relu[0][0]        \n",
            "__________________________________________________________________________________________________\n",
            "block_3_depthwise (DepthwiseCon (None, 28, 28, 144)  1296        block_3_pad[0][0]                \n",
            "__________________________________________________________________________________________________\n",
            "block_3_depthwise_BN (BatchNorm (None, 28, 28, 144)  576         block_3_depthwise[0][0]          \n",
            "__________________________________________________________________________________________________\n",
            "block_3_depthwise_relu (ReLU)   (None, 28, 28, 144)  0           block_3_depthwise_BN[0][0]       \n",
            "__________________________________________________________________________________________________\n",
            "block_3_project (Conv2D)        (None, 28, 28, 32)   4608        block_3_depthwise_relu[0][0]     \n",
            "__________________________________________________________________________________________________\n",
            "block_3_project_BN (BatchNormal (None, 28, 28, 32)   128         block_3_project[0][0]            \n",
            "__________________________________________________________________________________________________\n",
            "block_4_expand (Conv2D)         (None, 28, 28, 192)  6144        block_3_project_BN[0][0]         \n",
            "__________________________________________________________________________________________________\n",
            "block_4_expand_BN (BatchNormali (None, 28, 28, 192)  768         block_4_expand[0][0]             \n",
            "__________________________________________________________________________________________________\n",
            "block_4_expand_relu (ReLU)      (None, 28, 28, 192)  0           block_4_expand_BN[0][0]          \n",
            "__________________________________________________________________________________________________\n",
            "block_4_depthwise (DepthwiseCon (None, 28, 28, 192)  1728        block_4_expand_relu[0][0]        \n",
            "__________________________________________________________________________________________________\n",
            "block_4_depthwise_BN (BatchNorm (None, 28, 28, 192)  768         block_4_depthwise[0][0]          \n",
            "__________________________________________________________________________________________________\n",
            "block_4_depthwise_relu (ReLU)   (None, 28, 28, 192)  0           block_4_depthwise_BN[0][0]       \n",
            "__________________________________________________________________________________________________\n",
            "block_4_project (Conv2D)        (None, 28, 28, 32)   6144        block_4_depthwise_relu[0][0]     \n",
            "__________________________________________________________________________________________________\n",
            "block_4_project_BN (BatchNormal (None, 28, 28, 32)   128         block_4_project[0][0]            \n",
            "__________________________________________________________________________________________________\n",
            "block_4_add (Add)               (None, 28, 28, 32)   0           block_3_project_BN[0][0]         \n",
            "                                                                 block_4_project_BN[0][0]         \n",
            "__________________________________________________________________________________________________\n",
            "block_5_expand (Conv2D)         (None, 28, 28, 192)  6144        block_4_add[0][0]                \n",
            "__________________________________________________________________________________________________\n",
            "block_5_expand_BN (BatchNormali (None, 28, 28, 192)  768         block_5_expand[0][0]             \n",
            "__________________________________________________________________________________________________\n",
            "block_5_expand_relu (ReLU)      (None, 28, 28, 192)  0           block_5_expand_BN[0][0]          \n",
            "__________________________________________________________________________________________________\n",
            "block_5_depthwise (DepthwiseCon (None, 28, 28, 192)  1728        block_5_expand_relu[0][0]        \n",
            "__________________________________________________________________________________________________\n",
            "block_5_depthwise_BN (BatchNorm (None, 28, 28, 192)  768         block_5_depthwise[0][0]          \n",
            "__________________________________________________________________________________________________\n",
            "block_5_depthwise_relu (ReLU)   (None, 28, 28, 192)  0           block_5_depthwise_BN[0][0]       \n",
            "__________________________________________________________________________________________________\n",
            "block_5_project (Conv2D)        (None, 28, 28, 32)   6144        block_5_depthwise_relu[0][0]     \n",
            "__________________________________________________________________________________________________\n",
            "block_5_project_BN (BatchNormal (None, 28, 28, 32)   128         block_5_project[0][0]            \n",
            "__________________________________________________________________________________________________\n",
            "block_5_add (Add)               (None, 28, 28, 32)   0           block_4_add[0][0]                \n",
            "                                                                 block_5_project_BN[0][0]         \n",
            "__________________________________________________________________________________________________\n",
            "block_6_expand (Conv2D)         (None, 28, 28, 192)  6144        block_5_add[0][0]                \n",
            "__________________________________________________________________________________________________\n",
            "block_6_expand_BN (BatchNormali (None, 28, 28, 192)  768         block_6_expand[0][0]             \n",
            "__________________________________________________________________________________________________\n",
            "block_6_expand_relu (ReLU)      (None, 28, 28, 192)  0           block_6_expand_BN[0][0]          \n",
            "__________________________________________________________________________________________________\n",
            "block_6_pad (ZeroPadding2D)     (None, 29, 29, 192)  0           block_6_expand_relu[0][0]        \n",
            "__________________________________________________________________________________________________\n",
            "block_6_depthwise (DepthwiseCon (None, 14, 14, 192)  1728        block_6_pad[0][0]                \n",
            "__________________________________________________________________________________________________\n",
            "block_6_depthwise_BN (BatchNorm (None, 14, 14, 192)  768         block_6_depthwise[0][0]          \n",
            "__________________________________________________________________________________________________\n",
            "block_6_depthwise_relu (ReLU)   (None, 14, 14, 192)  0           block_6_depthwise_BN[0][0]       \n",
            "__________________________________________________________________________________________________\n",
            "block_6_project (Conv2D)        (None, 14, 14, 64)   12288       block_6_depthwise_relu[0][0]     \n",
            "__________________________________________________________________________________________________\n",
            "block_6_project_BN (BatchNormal (None, 14, 14, 64)   256         block_6_project[0][0]            \n",
            "__________________________________________________________________________________________________\n",
            "block_7_expand (Conv2D)         (None, 14, 14, 384)  24576       block_6_project_BN[0][0]         \n",
            "__________________________________________________________________________________________________\n",
            "block_7_expand_BN (BatchNormali (None, 14, 14, 384)  1536        block_7_expand[0][0]             \n",
            "__________________________________________________________________________________________________\n",
            "block_7_expand_relu (ReLU)      (None, 14, 14, 384)  0           block_7_expand_BN[0][0]          \n",
            "__________________________________________________________________________________________________\n",
            "block_7_depthwise (DepthwiseCon (None, 14, 14, 384)  3456        block_7_expand_relu[0][0]        \n",
            "__________________________________________________________________________________________________\n",
            "block_7_depthwise_BN (BatchNorm (None, 14, 14, 384)  1536        block_7_depthwise[0][0]          \n",
            "__________________________________________________________________________________________________\n",
            "block_7_depthwise_relu (ReLU)   (None, 14, 14, 384)  0           block_7_depthwise_BN[0][0]       \n",
            "__________________________________________________________________________________________________\n",
            "block_7_project (Conv2D)        (None, 14, 14, 64)   24576       block_7_depthwise_relu[0][0]     \n",
            "__________________________________________________________________________________________________\n",
            "block_7_project_BN (BatchNormal (None, 14, 14, 64)   256         block_7_project[0][0]            \n",
            "__________________________________________________________________________________________________\n",
            "block_7_add (Add)               (None, 14, 14, 64)   0           block_6_project_BN[0][0]         \n",
            "                                                                 block_7_project_BN[0][0]         \n",
            "__________________________________________________________________________________________________\n",
            "block_8_expand (Conv2D)         (None, 14, 14, 384)  24576       block_7_add[0][0]                \n",
            "__________________________________________________________________________________________________\n",
            "block_8_expand_BN (BatchNormali (None, 14, 14, 384)  1536        block_8_expand[0][0]             \n",
            "__________________________________________________________________________________________________\n",
            "block_8_expand_relu (ReLU)      (None, 14, 14, 384)  0           block_8_expand_BN[0][0]          \n",
            "__________________________________________________________________________________________________\n",
            "block_8_depthwise (DepthwiseCon (None, 14, 14, 384)  3456        block_8_expand_relu[0][0]        \n",
            "__________________________________________________________________________________________________\n",
            "block_8_depthwise_BN (BatchNorm (None, 14, 14, 384)  1536        block_8_depthwise[0][0]          \n",
            "__________________________________________________________________________________________________\n",
            "block_8_depthwise_relu (ReLU)   (None, 14, 14, 384)  0           block_8_depthwise_BN[0][0]       \n",
            "__________________________________________________________________________________________________\n",
            "block_8_project (Conv2D)        (None, 14, 14, 64)   24576       block_8_depthwise_relu[0][0]     \n",
            "__________________________________________________________________________________________________\n",
            "block_8_project_BN (BatchNormal (None, 14, 14, 64)   256         block_8_project[0][0]            \n",
            "__________________________________________________________________________________________________\n",
            "block_8_add (Add)               (None, 14, 14, 64)   0           block_7_add[0][0]                \n",
            "                                                                 block_8_project_BN[0][0]         \n",
            "__________________________________________________________________________________________________\n",
            "block_9_expand (Conv2D)         (None, 14, 14, 384)  24576       block_8_add[0][0]                \n",
            "__________________________________________________________________________________________________\n",
            "block_9_expand_BN (BatchNormali (None, 14, 14, 384)  1536        block_9_expand[0][0]             \n",
            "__________________________________________________________________________________________________\n",
            "block_9_expand_relu (ReLU)      (None, 14, 14, 384)  0           block_9_expand_BN[0][0]          \n",
            "__________________________________________________________________________________________________\n",
            "block_9_depthwise (DepthwiseCon (None, 14, 14, 384)  3456        block_9_expand_relu[0][0]        \n",
            "__________________________________________________________________________________________________\n",
            "block_9_depthwise_BN (BatchNorm (None, 14, 14, 384)  1536        block_9_depthwise[0][0]          \n",
            "__________________________________________________________________________________________________\n",
            "block_9_depthwise_relu (ReLU)   (None, 14, 14, 384)  0           block_9_depthwise_BN[0][0]       \n",
            "__________________________________________________________________________________________________\n",
            "block_9_project (Conv2D)        (None, 14, 14, 64)   24576       block_9_depthwise_relu[0][0]     \n",
            "__________________________________________________________________________________________________\n",
            "block_9_project_BN (BatchNormal (None, 14, 14, 64)   256         block_9_project[0][0]            \n",
            "__________________________________________________________________________________________________\n",
            "block_9_add (Add)               (None, 14, 14, 64)   0           block_8_add[0][0]                \n",
            "                                                                 block_9_project_BN[0][0]         \n",
            "__________________________________________________________________________________________________\n",
            "block_10_expand (Conv2D)        (None, 14, 14, 384)  24576       block_9_add[0][0]                \n",
            "__________________________________________________________________________________________________\n",
            "block_10_expand_BN (BatchNormal (None, 14, 14, 384)  1536        block_10_expand[0][0]            \n",
            "__________________________________________________________________________________________________\n",
            "block_10_expand_relu (ReLU)     (None, 14, 14, 384)  0           block_10_expand_BN[0][0]         \n",
            "__________________________________________________________________________________________________\n",
            "block_10_depthwise (DepthwiseCo (None, 14, 14, 384)  3456        block_10_expand_relu[0][0]       \n",
            "__________________________________________________________________________________________________\n",
            "block_10_depthwise_BN (BatchNor (None, 14, 14, 384)  1536        block_10_depthwise[0][0]         \n",
            "__________________________________________________________________________________________________\n",
            "block_10_depthwise_relu (ReLU)  (None, 14, 14, 384)  0           block_10_depthwise_BN[0][0]      \n",
            "__________________________________________________________________________________________________\n",
            "block_10_project (Conv2D)       (None, 14, 14, 96)   36864       block_10_depthwise_relu[0][0]    \n",
            "__________________________________________________________________________________________________\n",
            "block_10_project_BN (BatchNorma (None, 14, 14, 96)   384         block_10_project[0][0]           \n",
            "__________________________________________________________________________________________________\n",
            "block_11_expand (Conv2D)        (None, 14, 14, 576)  55296       block_10_project_BN[0][0]        \n",
            "__________________________________________________________________________________________________\n",
            "block_11_expand_BN (BatchNormal (None, 14, 14, 576)  2304        block_11_expand[0][0]            \n",
            "__________________________________________________________________________________________________\n",
            "block_11_expand_relu (ReLU)     (None, 14, 14, 576)  0           block_11_expand_BN[0][0]         \n",
            "__________________________________________________________________________________________________\n",
            "block_11_depthwise (DepthwiseCo (None, 14, 14, 576)  5184        block_11_expand_relu[0][0]       \n",
            "__________________________________________________________________________________________________\n",
            "block_11_depthwise_BN (BatchNor (None, 14, 14, 576)  2304        block_11_depthwise[0][0]         \n",
            "__________________________________________________________________________________________________\n",
            "block_11_depthwise_relu (ReLU)  (None, 14, 14, 576)  0           block_11_depthwise_BN[0][0]      \n",
            "__________________________________________________________________________________________________\n",
            "block_11_project (Conv2D)       (None, 14, 14, 96)   55296       block_11_depthwise_relu[0][0]    \n",
            "__________________________________________________________________________________________________\n",
            "block_11_project_BN (BatchNorma (None, 14, 14, 96)   384         block_11_project[0][0]           \n",
            "__________________________________________________________________________________________________\n",
            "block_11_add (Add)              (None, 14, 14, 96)   0           block_10_project_BN[0][0]        \n",
            "                                                                 block_11_project_BN[0][0]        \n",
            "__________________________________________________________________________________________________\n",
            "block_12_expand (Conv2D)        (None, 14, 14, 576)  55296       block_11_add[0][0]               \n",
            "__________________________________________________________________________________________________\n",
            "block_12_expand_BN (BatchNormal (None, 14, 14, 576)  2304        block_12_expand[0][0]            \n",
            "__________________________________________________________________________________________________\n",
            "block_12_expand_relu (ReLU)     (None, 14, 14, 576)  0           block_12_expand_BN[0][0]         \n",
            "__________________________________________________________________________________________________\n",
            "block_12_depthwise (DepthwiseCo (None, 14, 14, 576)  5184        block_12_expand_relu[0][0]       \n",
            "__________________________________________________________________________________________________\n",
            "block_12_depthwise_BN (BatchNor (None, 14, 14, 576)  2304        block_12_depthwise[0][0]         \n",
            "__________________________________________________________________________________________________\n",
            "block_12_depthwise_relu (ReLU)  (None, 14, 14, 576)  0           block_12_depthwise_BN[0][0]      \n",
            "__________________________________________________________________________________________________\n",
            "block_12_project (Conv2D)       (None, 14, 14, 96)   55296       block_12_depthwise_relu[0][0]    \n",
            "__________________________________________________________________________________________________\n",
            "block_12_project_BN (BatchNorma (None, 14, 14, 96)   384         block_12_project[0][0]           \n",
            "__________________________________________________________________________________________________\n",
            "block_12_add (Add)              (None, 14, 14, 96)   0           block_11_add[0][0]               \n",
            "                                                                 block_12_project_BN[0][0]        \n",
            "__________________________________________________________________________________________________\n",
            "block_13_expand (Conv2D)        (None, 14, 14, 576)  55296       block_12_add[0][0]               \n",
            "__________________________________________________________________________________________________\n",
            "block_13_expand_BN (BatchNormal (None, 14, 14, 576)  2304        block_13_expand[0][0]            \n",
            "__________________________________________________________________________________________________\n",
            "block_13_expand_relu (ReLU)     (None, 14, 14, 576)  0           block_13_expand_BN[0][0]         \n",
            "__________________________________________________________________________________________________\n",
            "block_13_pad (ZeroPadding2D)    (None, 15, 15, 576)  0           block_13_expand_relu[0][0]       \n",
            "__________________________________________________________________________________________________\n",
            "block_13_depthwise (DepthwiseCo (None, 7, 7, 576)    5184        block_13_pad[0][0]               \n",
            "__________________________________________________________________________________________________\n",
            "block_13_depthwise_BN (BatchNor (None, 7, 7, 576)    2304        block_13_depthwise[0][0]         \n",
            "__________________________________________________________________________________________________\n",
            "block_13_depthwise_relu (ReLU)  (None, 7, 7, 576)    0           block_13_depthwise_BN[0][0]      \n",
            "__________________________________________________________________________________________________\n",
            "block_13_project (Conv2D)       (None, 7, 7, 160)    92160       block_13_depthwise_relu[0][0]    \n",
            "__________________________________________________________________________________________________\n",
            "block_13_project_BN (BatchNorma (None, 7, 7, 160)    640         block_13_project[0][0]           \n",
            "__________________________________________________________________________________________________\n",
            "block_14_expand (Conv2D)        (None, 7, 7, 960)    153600      block_13_project_BN[0][0]        \n",
            "__________________________________________________________________________________________________\n",
            "block_14_expand_BN (BatchNormal (None, 7, 7, 960)    3840        block_14_expand[0][0]            \n",
            "__________________________________________________________________________________________________\n",
            "block_14_expand_relu (ReLU)     (None, 7, 7, 960)    0           block_14_expand_BN[0][0]         \n",
            "__________________________________________________________________________________________________\n",
            "block_14_depthwise (DepthwiseCo (None, 7, 7, 960)    8640        block_14_expand_relu[0][0]       \n",
            "__________________________________________________________________________________________________\n",
            "block_14_depthwise_BN (BatchNor (None, 7, 7, 960)    3840        block_14_depthwise[0][0]         \n",
            "__________________________________________________________________________________________________\n",
            "block_14_depthwise_relu (ReLU)  (None, 7, 7, 960)    0           block_14_depthwise_BN[0][0]      \n",
            "__________________________________________________________________________________________________\n",
            "block_14_project (Conv2D)       (None, 7, 7, 160)    153600      block_14_depthwise_relu[0][0]    \n",
            "__________________________________________________________________________________________________\n",
            "block_14_project_BN (BatchNorma (None, 7, 7, 160)    640         block_14_project[0][0]           \n",
            "__________________________________________________________________________________________________\n",
            "block_14_add (Add)              (None, 7, 7, 160)    0           block_13_project_BN[0][0]        \n",
            "                                                                 block_14_project_BN[0][0]        \n",
            "__________________________________________________________________________________________________\n",
            "block_15_expand (Conv2D)        (None, 7, 7, 960)    153600      block_14_add[0][0]               \n",
            "__________________________________________________________________________________________________\n",
            "block_15_expand_BN (BatchNormal (None, 7, 7, 960)    3840        block_15_expand[0][0]            \n",
            "__________________________________________________________________________________________________\n",
            "block_15_expand_relu (ReLU)     (None, 7, 7, 960)    0           block_15_expand_BN[0][0]         \n",
            "__________________________________________________________________________________________________\n",
            "block_15_depthwise (DepthwiseCo (None, 7, 7, 960)    8640        block_15_expand_relu[0][0]       \n",
            "__________________________________________________________________________________________________\n",
            "block_15_depthwise_BN (BatchNor (None, 7, 7, 960)    3840        block_15_depthwise[0][0]         \n",
            "__________________________________________________________________________________________________\n",
            "block_15_depthwise_relu (ReLU)  (None, 7, 7, 960)    0           block_15_depthwise_BN[0][0]      \n",
            "__________________________________________________________________________________________________\n",
            "block_15_project (Conv2D)       (None, 7, 7, 160)    153600      block_15_depthwise_relu[0][0]    \n",
            "__________________________________________________________________________________________________\n",
            "block_15_project_BN (BatchNorma (None, 7, 7, 160)    640         block_15_project[0][0]           \n",
            "__________________________________________________________________________________________________\n",
            "block_15_add (Add)              (None, 7, 7, 160)    0           block_14_add[0][0]               \n",
            "                                                                 block_15_project_BN[0][0]        \n",
            "__________________________________________________________________________________________________\n",
            "block_16_expand (Conv2D)        (None, 7, 7, 960)    153600      block_15_add[0][0]               \n",
            "__________________________________________________________________________________________________\n",
            "block_16_expand_BN (BatchNormal (None, 7, 7, 960)    3840        block_16_expand[0][0]            \n",
            "__________________________________________________________________________________________________\n",
            "block_16_expand_relu (ReLU)     (None, 7, 7, 960)    0           block_16_expand_BN[0][0]         \n",
            "__________________________________________________________________________________________________\n",
            "block_16_depthwise (DepthwiseCo (None, 7, 7, 960)    8640        block_16_expand_relu[0][0]       \n",
            "__________________________________________________________________________________________________\n",
            "block_16_depthwise_BN (BatchNor (None, 7, 7, 960)    3840        block_16_depthwise[0][0]         \n",
            "__________________________________________________________________________________________________\n",
            "block_16_depthwise_relu (ReLU)  (None, 7, 7, 960)    0           block_16_depthwise_BN[0][0]      \n",
            "__________________________________________________________________________________________________\n",
            "block_16_project (Conv2D)       (None, 7, 7, 320)    307200      block_16_depthwise_relu[0][0]    \n",
            "__________________________________________________________________________________________________\n",
            "block_16_project_BN (BatchNorma (None, 7, 7, 320)    1280        block_16_project[0][0]           \n",
            "__________________________________________________________________________________________________\n",
            "Conv_1 (Conv2D)                 (None, 7, 7, 1280)   409600      block_16_project_BN[0][0]        \n",
            "__________________________________________________________________________________________________\n",
            "Conv_1_bn (BatchNormalization)  (None, 7, 7, 1280)   5120        Conv_1[0][0]                     \n",
            "__________________________________________________________________________________________________\n",
            "out_relu (ReLU)                 (None, 7, 7, 1280)   0           Conv_1_bn[0][0]                  \n",
            "__________________________________________________________________________________________________\n",
            "global_average_pooling2d_15 (Gl (None, 1280)         0           out_relu[0][0]                   \n",
            "__________________________________________________________________________________________________\n",
            "batch_normalization_13 (BatchNo (None, 1280)         5120        global_average_pooling2d_15[0][0]\n",
            "__________________________________________________________________________________________________\n",
            "dense_43 (Dense)                (None, 1024)         1311744     batch_normalization_13[0][0]     \n",
            "__________________________________________________________________________________________________\n",
            "dropout_14 (Dropout)            (None, 1024)         0           dense_43[0][0]                   \n",
            "__________________________________________________________________________________________________\n",
            "dense_44 (Dense)                (None, 512)          524800      dropout_14[0][0]                 \n",
            "__________________________________________________________________________________________________\n",
            "dropout_15 (Dropout)            (None, 512)          0           dense_44[0][0]                   \n",
            "__________________________________________________________________________________________________\n",
            "dense_45 (Dense)                (None, 196)          100548      dropout_15[0][0]                 \n",
            "==================================================================================================\n",
            "Total params: 4,200,196\n",
            "Trainable params: 4,163,524\n",
            "Non-trainable params: 36,672\n",
            "__________________________________________________________________________________________________\n"
          ],
          "name": "stdout"
        }
      ]
    },
    {
      "cell_type": "code",
      "metadata": {
        "colab": {
          "base_uri": "https://localhost:8080/"
        },
        "id": "IGhxQLjDPmHZ",
        "outputId": "f586a1ef-7d25-4298-e869-2779d2bacb8c"
      },
      "source": [
        "opt = keras.optimizers.Adam(learning_rate=0.003)\n",
        "\n",
        "model8.compile(optimizer=opt, loss='categorical_crossentropy',\n",
        "                metrics=['accuracy'])\n",
        "\n",
        "model_history8 = model8.fit(train_ds_split, validation_data=val_ds_split, \n",
        "                            epochs=100, verbose=1)\n",
        "\n"
      ],
      "execution_count": null,
      "outputs": [
        {
          "output_type": "stream",
          "text": [
            "Epoch 1/100\n",
            "102/102 [==============================] - 3074s 30s/step - loss: 5.3310 - accuracy: 0.0052 - val_loss: 28.6311 - val_accuracy: 0.0055\n",
            "Epoch 2/100\n",
            "102/102 [==============================] - 62s 606ms/step - loss: 5.2806 - accuracy: 0.0077 - val_loss: 5.8852 - val_accuracy: 0.0031\n",
            "Epoch 3/100\n",
            "102/102 [==============================] - 62s 605ms/step - loss: 5.2770 - accuracy: 0.0083 - val_loss: 5.2896 - val_accuracy: 0.0080\n",
            "Epoch 4/100\n",
            "102/102 [==============================] - 62s 611ms/step - loss: 5.2748 - accuracy: 0.0084 - val_loss: 5.2910 - val_accuracy: 0.0074\n",
            "Epoch 5/100\n",
            "102/102 [==============================] - 64s 623ms/step - loss: 5.2739 - accuracy: 0.0084 - val_loss: 5.2943 - val_accuracy: 0.0074\n",
            "Epoch 6/100\n",
            "102/102 [==============================] - 62s 608ms/step - loss: 5.2728 - accuracy: 0.0084 - val_loss: 5.2940 - val_accuracy: 0.0080\n",
            "Epoch 7/100\n",
            "102/102 [==============================] - 57s 558ms/step - loss: 5.2731 - accuracy: 0.0084 - val_loss: 5.3019 - val_accuracy: 0.0080\n",
            "Epoch 8/100\n",
            "102/102 [==============================] - 61s 600ms/step - loss: 5.2726 - accuracy: 0.0084 - val_loss: 5.2951 - val_accuracy: 0.0080\n",
            "Epoch 9/100\n",
            "102/102 [==============================] - 63s 614ms/step - loss: 5.2737 - accuracy: 0.0086 - val_loss: 5.2953 - val_accuracy: 0.0080\n",
            "Epoch 10/100\n",
            "102/102 [==============================] - 64s 623ms/step - loss: 5.2846 - accuracy: 0.0086 - val_loss: 5.3197 - val_accuracy: 0.0018\n",
            "Epoch 11/100\n",
            "102/102 [==============================] - 62s 604ms/step - loss: 5.2729 - accuracy: 0.0084 - val_loss: 5.3737 - val_accuracy: 0.0049\n",
            "Epoch 12/100\n",
            "102/102 [==============================] - 63s 614ms/step - loss: 5.2723 - accuracy: 0.0084 - val_loss: 5.3343 - val_accuracy: 0.0049\n",
            "Epoch 13/100\n",
            "102/102 [==============================] - 63s 614ms/step - loss: 5.2716 - accuracy: 0.0084 - val_loss: 5.3138 - val_accuracy: 0.0061\n",
            "Epoch 14/100\n",
            "102/102 [==============================] - 63s 616ms/step - loss: 5.2711 - accuracy: 0.0084 - val_loss: 5.2982 - val_accuracy: 0.0080\n",
            "Epoch 15/100\n",
            "102/102 [==============================] - 63s 622ms/step - loss: 5.2755 - accuracy: 0.0080 - val_loss: 6.5954 - val_accuracy: 0.0068\n",
            "Epoch 16/100\n",
            "102/102 [==============================] - 63s 613ms/step - loss: 5.2728 - accuracy: 0.0084 - val_loss: 6.0045 - val_accuracy: 0.0049\n",
            "Epoch 17/100\n",
            "102/102 [==============================] - 63s 616ms/step - loss: 5.2716 - accuracy: 0.0083 - val_loss: 6.0652 - val_accuracy: 0.0000e+00\n",
            "Epoch 18/100\n",
            "102/102 [==============================] - 63s 616ms/step - loss: 5.2703 - accuracy: 0.0080 - val_loss: 5.6530 - val_accuracy: 0.0055\n",
            "Epoch 19/100\n",
            "102/102 [==============================] - 64s 623ms/step - loss: 5.2702 - accuracy: 0.0083 - val_loss: 5.4114 - val_accuracy: 0.0037\n",
            "Epoch 20/100\n",
            "102/102 [==============================] - 63s 616ms/step - loss: 5.2708 - accuracy: 0.0084 - val_loss: 5.5362 - val_accuracy: 0.0037\n",
            "Epoch 21/100\n",
            "102/102 [==============================] - 60s 592ms/step - loss: 5.2711 - accuracy: 0.0084 - val_loss: 5.3578 - val_accuracy: 0.0031\n",
            "Epoch 22/100\n",
            "102/102 [==============================] - 61s 596ms/step - loss: 5.2703 - accuracy: 0.0084 - val_loss: 5.3020 - val_accuracy: 0.0080\n",
            "Epoch 23/100\n",
            "102/102 [==============================] - 62s 606ms/step - loss: 5.2690 - accuracy: 0.0084 - val_loss: 5.3046 - val_accuracy: 0.0055\n",
            "Epoch 24/100\n",
            "102/102 [==============================] - 64s 625ms/step - loss: 5.2691 - accuracy: 0.0084 - val_loss: 5.3076 - val_accuracy: 0.0080\n",
            "Epoch 25/100\n",
            "102/102 [==============================] - 62s 610ms/step - loss: 5.2684 - accuracy: 0.0081 - val_loss: 5.3012 - val_accuracy: 0.0080\n",
            "Epoch 26/100\n",
            "102/102 [==============================] - 62s 608ms/step - loss: 5.2692 - accuracy: 0.0083 - val_loss: 5.3051 - val_accuracy: 0.0080\n",
            "Epoch 27/100\n",
            "102/102 [==============================] - 62s 612ms/step - loss: 5.2691 - accuracy: 0.0083 - val_loss: 5.3214 - val_accuracy: 0.0080\n",
            "Epoch 28/100\n",
            "102/102 [==============================] - 57s 558ms/step - loss: 5.2695 - accuracy: 0.0081 - val_loss: 5.3368 - val_accuracy: 0.0080\n",
            "Epoch 29/100\n",
            "102/102 [==============================] - 58s 568ms/step - loss: 5.2695 - accuracy: 0.0083 - val_loss: 5.3145 - val_accuracy: 0.0080\n",
            "Epoch 30/100\n",
            "102/102 [==============================] - 58s 567ms/step - loss: 5.2703 - accuracy: 0.0084 - val_loss: 5.3001 - val_accuracy: 0.0080\n",
            "Epoch 31/100\n",
            "102/102 [==============================] - 57s 560ms/step - loss: 5.2689 - accuracy: 0.0084 - val_loss: 5.3092 - val_accuracy: 0.0080\n",
            "Epoch 32/100\n",
            "102/102 [==============================] - 58s 567ms/step - loss: 5.2743 - accuracy: 0.0084 - val_loss: 5.3004 - val_accuracy: 0.0080\n",
            "Epoch 33/100\n",
            "102/102 [==============================] - 58s 567ms/step - loss: 5.2712 - accuracy: 0.0084 - val_loss: 5.3011 - val_accuracy: 0.0080\n",
            "Epoch 34/100\n",
            "102/102 [==============================] - 58s 572ms/step - loss: 5.2711 - accuracy: 0.0084 - val_loss: 5.3011 - val_accuracy: 0.0080\n",
            "Epoch 35/100\n",
            "102/102 [==============================] - 58s 570ms/step - loss: 5.2710 - accuracy: 0.0084 - val_loss: 5.2999 - val_accuracy: 0.0061\n",
            "Epoch 36/100\n",
            "102/102 [==============================] - 60s 591ms/step - loss: 5.2700 - accuracy: 0.0091 - val_loss: 5.3026 - val_accuracy: 0.0074\n",
            "Epoch 37/100\n",
            "102/102 [==============================] - 61s 598ms/step - loss: 5.2717 - accuracy: 0.0087 - val_loss: 5.3107 - val_accuracy: 0.0049\n",
            "Epoch 38/100\n",
            "102/102 [==============================] - 62s 610ms/step - loss: 5.2774 - accuracy: 0.0089 - val_loss: 5.3016 - val_accuracy: 0.0080\n",
            "Epoch 39/100\n",
            "102/102 [==============================] - 63s 615ms/step - loss: 5.2718 - accuracy: 0.0083 - val_loss: 5.3015 - val_accuracy: 0.0080\n",
            "Epoch 40/100\n",
            "102/102 [==============================] - 63s 621ms/step - loss: 5.2702 - accuracy: 0.0081 - val_loss: 5.3016 - val_accuracy: 0.0080\n",
            "Epoch 41/100\n",
            " 61/102 [================>.............] - ETA: 20s - loss: 5.2716 - accuracy: 0.0079"
          ],
          "name": "stdout"
        }
      ]
    },
    {
      "cell_type": "code",
      "metadata": {
        "id": "O9wCBPg4PmHZ"
      },
      "source": [
        "model8.save(\"/content/drive/MyDrive/input/Model8-2.h5\", save_format=\"h5\")\n",
        "\n",
        "# from tensorflow import keras\n",
        "# load_model = keras.models.load_model('/content/drive/MyDrive/input/resnet50.h5')"
      ],
      "execution_count": null,
      "outputs": []
    },
    {
      "cell_type": "code",
      "metadata": {
        "colab": {
          "base_uri": "https://localhost:8080/"
        },
        "id": "eVFHfMMcgjHl",
        "outputId": "44e0b359-1953-4856-d94d-f37850b27f76"
      },
      "source": [
        "x, y = next(test_ds.as_numpy_iterator())\n",
        "pred = model5_load.predict(test_ds.take(1))\n",
        "classes = [df_test.Brand[i] for i in np.argmax(y, axis=1)]\n",
        "y_pred = [df_test.Brand[i] for i in np.argmax(pred, axis=1)]\n",
        "print(y_pred)\n",
        "print(classes)"
      ],
      "execution_count": null,
      "outputs": [
        {
          "output_type": "stream",
          "text": [
            "['Hyundai', 'Audi', 'Cadillac', 'Chrysler', 'Honda', 'Chevrolet', 'Chevrolet', 'Aston', 'Jeep', 'BMW', 'Audi', 'BMW', 'Scion', 'BMW', 'Fisker', 'Hyundai', 'Mazda', 'Volkswagen', 'Toyota', 'Jeep', 'Ford', 'Jeep', 'Jeep', 'Chevrolet', 'Eagle', 'Chrysler', 'Dodge', 'Chevrolet', 'Jeep', 'Tesla', 'Eagle', 'Chevrolet', 'Chrysler', 'Chevrolet', 'Audi', 'GMC', 'BMW', 'Cadillac', 'Acura', 'Ford', 'Suzuki', 'Isuzu', 'Audi', 'Chevrolet', 'Chrysler', 'Chrysler', 'Bentley', 'Acura', 'Chrysler', 'Chevrolet', 'Acura', 'Dodge', 'Ford', 'Mercedes-Benz', 'BMW', 'BMW', 'Nissan', 'Bentley', 'Mercedes-Benz', 'Nissan', 'Toyota', 'Audi', 'McLaren', 'BMW']\n",
            "['BMW', 'BMW', 'Cadillac', 'Chrysler', 'Hyundai', 'Chevrolet', 'Chevrolet', 'Spyker', 'Jeep', 'BMW', 'Audi', 'Hyundai', 'Land', 'BMW', 'Fisker', 'Hyundai', 'Mazda', 'Toyota', 'Acura', 'Jeep', 'Chrysler', 'Toyota', 'Ram', 'BMW', 'Spyker', 'Chrysler', 'Dodge', 'Audi', 'Cadillac', 'Tesla', 'Eagle', 'BMW', 'Mercedes-Benz', 'Chevrolet', 'Toyota', 'GMC', 'Mercedes-Benz', 'Hyundai', 'Acura', 'Aston', 'Geo', 'Isuzu', 'Jeep', 'Chevrolet', 'Chrysler', 'BMW', 'Nissan', 'Acura', 'Mercedes-Benz', 'Chevrolet', 'Acura', 'BMW', 'Chrysler', 'Plymouth', 'BMW', 'BMW', 'Nissan', 'Acura', 'Acura', 'Acura', 'BMW', 'Chevrolet', 'Bentley', 'BMW']\n"
          ],
          "name": "stdout"
        }
      ]
    }
  ]
}