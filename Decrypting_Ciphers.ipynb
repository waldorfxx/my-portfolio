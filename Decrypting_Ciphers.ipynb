{
  "nbformat": 4,
  "nbformat_minor": 0,
  "metadata": {
    "kernelspec": {
      "display_name": "Python 3",
      "language": "python",
      "name": "python3"
    },
    "language_info": {
      "codemirror_mode": {
        "name": "ipython",
        "version": 3
      },
      "file_extension": ".py",
      "mimetype": "text/x-python",
      "name": "python",
      "nbconvert_exporter": "python",
      "pygments_lexer": "ipython3",
      "version": "3.7.6"
    },
    "colab": {
      "name": "Decrypting Ciphers.ipynb",
      "provenance": [],
      "collapsed_sections": []
    }
  },
  "cells": [
    {
      "cell_type": "code",
      "metadata": {
        "id": "952mwL4vvumm"
      },
      "source": [
        "import numpy as np\n",
        "import matplotlib.pyplot as plt\n",
        "\n",
        "import string\n",
        "import random\n",
        "import re\n",
        "import requests\n",
        "import os\n",
        "import textwrap"
      ],
      "execution_count": null,
      "outputs": []
    },
    {
      "cell_type": "code",
      "metadata": {
        "id": "LitJVOaCvumq",
        "colab": {
          "base_uri": "https://localhost:8080/",
          "height": 54
        },
        "outputId": "754c6d16-b741-49e3-8376-a9db2eebb0c7"
      },
      "source": [
        "### create substitution cipher\n",
        "\n",
        "# one will act as the key, other as the value\n",
        "letter1 = list(string.ascii_lowercase)\n",
        "letter2 = list(string.ascii_lowercase)\n",
        "\n",
        "true_mappings = {}\n",
        "\n",
        "# shuffle second set of letters\n",
        "random.shuffle(letter2)\n",
        "\n",
        "# populate map\n",
        "true_mapping = dict(zip(letter1, letter2))\n",
        "print(true_mapping)"
      ],
      "execution_count": null,
      "outputs": [
        {
          "output_type": "stream",
          "text": [
            "{'a': 'z', 'b': 'p', 'c': 'g', 'd': 'd', 'e': 'r', 'f': 'l', 'g': 't', 'h': 'y', 'i': 'f', 'j': 'e', 'k': 'n', 'l': 'c', 'm': 'w', 'n': 'k', 'o': 'q', 'p': 'x', 'q': 'j', 'r': 'u', 's': 'o', 't': 'i', 'u': 'v', 'v': 's', 'w': 'h', 'x': 'b', 'y': 'a', 'z': 'm'}\n"
          ],
          "name": "stdout"
        }
      ]
    },
    {
      "cell_type": "code",
      "metadata": {
        "id": "CXr3iQU-vumt"
      },
      "source": [
        "### the language model\n",
        "\n",
        "# initialize Markov matrix\n",
        "M = np.ones((26, 26))\n",
        "\n",
        "# initial state distribution\n",
        "pi = np.zeros(26)\n",
        "\n",
        "# a function to update the Markov matrix\n",
        "def update_transition(ch1, ch2):\n",
        "    i = ord(ch1) - 97\n",
        "    j = ord(ch2) - 97\n",
        "    M[i,j] += 1\n",
        "    # print(\"Markov Value =\", M)\n",
        "    \n",
        "# a function to update the initial state distribution\n",
        "def update_pi(ch1):\n",
        "    i = ord(ch1) - 97\n",
        "    pi[i] += 1\n",
        "    # print(\"pi =\", pi)\n",
        "    \n",
        "# get the log-probability of a word / token\n",
        "def get_word_prob(word):\n",
        "  # print(\"word:\", word)\n",
        "    i = ord(word[0]) - 97\n",
        "    logp = np.log(pi[i])\n",
        "\n",
        "    for ch in word[1:]:\n",
        "      j = ord(ch) - 97\n",
        "      logp += np.log(M[i, j]) # update prob\n",
        "      i = j # update j\n",
        "    return logp\n",
        "\n",
        "# get the probability of a sequence of words\n",
        "def get_sequence_prob(words):\n",
        "  # if input is a string, split into an array of tokens\n",
        "  if type(words) == str:\n",
        "    words = words.split()\n",
        "  logp = 0\n",
        "    \n",
        "  for word in words:\n",
        "        logp += get_word_prob(word)\n",
        "  return logp"
      ],
      "execution_count": null,
      "outputs": []
    },
    {
      "cell_type": "code",
      "metadata": {
        "id": "j-4hig6Ivumw"
      },
      "source": [
        "### create a markov model based on an English dataset\n",
        "# is an edit of https://www.gutenberg.org/ebooks/2701\n",
        "# (I removed the front and back matter)\n",
        "\n",
        "# download the file\n",
        "if not os.path.exists('moby_dick.txt'):\n",
        "    print(\"Downloading moby dick...\")\n",
        "    r = requests.get('https://lazyprogrammer.me/course_files/moby_dick.txt')\n",
        "    with open('moby_dick.txt', 'w') as f:\n",
        "        f.write(r.content.decode())\n",
        "    \n",
        "# for replacing non-alpha characters\n",
        "regex = re.compile('[^a-zA-Z]')\n",
        "\n",
        "# load in words\n",
        "for line in open('moby_dick.txt'):\n",
        "    line = line.rstrip()\n",
        "\n",
        "  # there are blank lines in the file\n",
        "    if line:\n",
        "        line = regex.sub(' ', line) # replace all non-alpha characters with space\n",
        "\n",
        "    # split the tokens in the line and lowercase\n",
        "        tokens = line.lower().split()\n",
        "\n",
        "    for token in tokens:\n",
        "      # update the model\n",
        "\n",
        "      # first letter position 0\n",
        "        ch0 = token[0]\n",
        "        update_pi(ch0)\n",
        "\n",
        "      # other letters since position 1\n",
        "        for ch1 in token[1:]:\n",
        "            update_transition(ch0, ch1)\n",
        "            ch0 = ch1\n",
        "            \n",
        "# # normalize the probabilities\n",
        "pi /= pi.sum()\n",
        "M /= M.sum(axis=1, keepdims=True)\n"
      ],
      "execution_count": null,
      "outputs": []
    },
    {
      "cell_type": "code",
      "metadata": {
        "id": "toCZ2NVzvuoF"
      },
      "source": [
        "### encode a message\n",
        "\n",
        "# this is a random excerpt from Project Gutenberg's\n",
        "# The Adventures of Sherlock Holmes, by Arthur Conan Doyle\n",
        "# https://www.gutenberg.org/ebooks/1661\n",
        "\n",
        "original_message = '''I then lounged down the street and found,\n",
        "as I expected, that there was a mews in a lane which runs down\n",
        "by one wall of the garden. I lent the ostlers a hand in rubbing\n",
        "down their horses, and received in exchange twopence, a glass of\n",
        "half-and-half, two fills of shag tobacco, and as much information\n",
        "as I could desire about Miss Adler, to say nothing of half a dozen\n",
        "other people in the neighbourhood in whom I was not in the least\n",
        "interested, but whose biographies I was compelled to listen to.\n",
        "'''"
      ],
      "execution_count": null,
      "outputs": []
    },
    {
      "cell_type": "code",
      "metadata": {
        "id": "82BzflwQiznO"
      },
      "source": [
        "# a function to encode a message\n",
        "def encode_message(msg):\n",
        "  msg = msg.lower()\n",
        "  msg = regex.sub(' ', msg)\n",
        "\n",
        "  coded_msg = [] #list\n",
        "  for ch in msg:\n",
        "    coded_ch = ch # could just be a space\n",
        "    if ch in true_mapping:\n",
        "      coded_ch = true_mapping[ch]\n",
        "    coded_msg.append(coded_ch)\n",
        "  return ''.join(coded_msg)\n",
        "\n",
        "encoded_msg = encode_message(original_message)\n",
        "\n",
        "def decode_message(msg, word_map):\n",
        "  decoded_msg = []\n",
        "\n",
        "  for ch in msg:\n",
        "    decoded_ch = ch # could just be a space\n",
        "    if ch in word_map:\n",
        "      decoded_ch = word_map[ch]\n",
        "    decoded_msg.append(decoded_ch)\n",
        "  \n",
        "  return ''.join(decoded_msg)"
      ],
      "execution_count": null,
      "outputs": []
    },
    {
      "cell_type": "code",
      "metadata": {
        "id": "EGYfNPRPfDpO"
      },
      "source": [
        "### run an evolutionary algorithm to decode the message\n",
        "\n",
        "# this is our initialization point\n",
        "\n",
        "dna_pool = []\n",
        "for _ in range(20):\n",
        "  dna = list(string.ascii_lowercase) # 20 sets of a-z\n",
        "  random.shuffle(dna)\n",
        "  dna_pool.append(dna)"
      ],
      "execution_count": null,
      "outputs": []
    },
    {
      "cell_type": "code",
      "metadata": {
        "id": "vOqrz2qxkSPy"
      },
      "source": [
        "def evolve_offspring(dna_pool, n_children):\n",
        "  # make n_children per offspring\n",
        "  offspring = []\n",
        "  for dna in dna_pool:\n",
        "    for _ in range(n_children):\n",
        "      copy = dna.copy()\n",
        "      j = np.random.randint(len(copy))\n",
        "      k = np.random.randint(len(copy))\n",
        "\n",
        "      # switch\n",
        "      tmp = copy[j]\n",
        "      copy[j] = copy[k]\n",
        "      copy[k] = tmp\n",
        "      offspring.append(copy)\n",
        "      #เปลี่ยนตัวอักษรที่ decode เป็น encode เช่น กำหนด a = c then now c = a\n",
        "\n",
        "  return offspring + dna_pool"
      ],
      "execution_count": null,
      "outputs": []
    },
    {
      "cell_type": "code",
      "metadata": {
        "id": "M8S6hgf10ILV",
        "colab": {
          "base_uri": "https://localhost:8080/",
          "height": 102
        },
        "outputId": "652d5348-4eec-4589-912d-b0e1665d5cb5"
      },
      "source": [
        "num_iters = 1000\n",
        "scores = np.zeros(num_iters)\n",
        "best_dna = None\n",
        "best_map = None\n",
        "best_score = float('-inf')\n",
        "for i in range(num_iters):\n",
        "  if i > 0:\n",
        "    # get offspring from the current dna pool\n",
        "    dna_pool = evolve_offspring(dna_pool, 3)\n",
        "\n",
        "  # calculate score for each dna\n",
        "  dna2score = {}\n",
        "  for dna in dna_pool:\n",
        "    # populate map\n",
        "    current_map = {}\n",
        "    for k, v in zip(letter1, dna):\n",
        "      current_map[k] = v\n",
        "\n",
        "    decoded_message = decode_message(encoded_msg, current_map)\n",
        "    score = get_sequence_prob(decoded_message)\n",
        "\n",
        "    # store it\n",
        "    # needs to be a string to be a dict key\n",
        "    dna2score[''.join(dna)] = score\n",
        "\n",
        "    # record the best so far\n",
        "    if score > best_score:\n",
        "      best_dna = dna\n",
        "      best_map = current_map\n",
        "      best_score = score\n",
        "\n",
        "  # average score for this generation\n",
        "  scores[i] = np.mean(list(dna2score.values()))\n",
        "\n",
        "  # keep the best 5 dna\n",
        "  # also turn them back into list of single chars\n",
        "  sorted_dna = sorted(dna2score.items(), key=lambda x: x[1], reverse=True)\n",
        "  dna_pool = [list(k) for k, v in sorted_dna[:5]]\n",
        "\n",
        "  if i % 200 == 0:\n",
        "    print(\"iter:\", i, \"score:\", scores[i], \"best so far:\", best_score)\n"
      ],
      "execution_count": null,
      "outputs": [
        {
          "output_type": "stream",
          "text": [
            "iter: 0 score: -2111.6702485289284 best so far: -1900.2247942581919\n",
            "iter: 200 score: -1143.7459848214207 best so far: -1082.5047271810774\n",
            "iter: 400 score: -1022.5365861158938 best so far: -938.1342635242178\n",
            "iter: 600 score: -1002.3233707837356 best so far: -929.9156356016822\n",
            "iter: 800 score: -1036.0540772075328 best so far: -929.9156356016822\n"
          ],
          "name": "stdout"
        }
      ]
    },
    {
      "cell_type": "code",
      "metadata": {
        "id": "adt2oAWIxFFo",
        "colab": {
          "base_uri": "https://localhost:8080/",
          "height": 119
        },
        "outputId": "c9eec71a-1fe4-498a-fc40-f3381cc802ed"
      },
      "source": [
        "# use best score\n",
        "decoded_message = decode_message(encoded_msg, best_map)\n",
        "\n",
        "print(\"LL of decoded message:\", get_sequence_prob(decoded_message))\n",
        "print(\"LL of true message:\", get_sequence_prob(regex.sub(' ', original_message.lower())))\n",
        "\n",
        "\n",
        "# which letters are wrong?\n",
        "for true, v in true_mapping.items():\n",
        "  pred = best_map[v]\n",
        "  if true != pred:\n",
        "    print(\"true: %s, pred: %s\" % (true, pred))"
      ],
      "execution_count": null,
      "outputs": [
        {
          "output_type": "stream",
          "text": [
            "LL of decoded message: -929.9156356016822\n",
            "LL of true message: -933.4784822058451\n",
            "true: j, pred: q\n",
            "true: k, pred: z\n",
            "true: q, pred: j\n",
            "true: z, pred: k\n"
          ],
          "name": "stdout"
        }
      ]
    },
    {
      "cell_type": "code",
      "metadata": {
        "id": "vFF0nJKixH0u",
        "colab": {
          "base_uri": "https://localhost:8080/",
          "height": 357
        },
        "outputId": "683be99b-4562-4f24-bd96-13cd40dcd900"
      },
      "source": [
        "# print the final decoded message\n",
        "print(\"Decoded message:\\n\", textwrap.fill(decoded_message))\n",
        "\n",
        "print(\"\\nTrue message:\\n\", original_message)"
      ],
      "execution_count": null,
      "outputs": [
        {
          "output_type": "stream",
          "text": [
            "Decoded message:\n",
            " i then lounged down the street and found  as i expected  that there\n",
            "was a mews in a lane which runs down by one wall of the garden  i lent\n",
            "the ostlers a hand in rubbing down their horses  and received in\n",
            "exchange twopence  a glass of half and half  two fills of shag tobacco\n",
            "and as much information as i could desire about miss adler  to say\n",
            "nothing of half a doken other people in the neighbourhood in whom i\n",
            "was not in the least interested  but whose biographies i was compelled\n",
            "to listen to\n",
            "\n",
            "True message:\n",
            " I then lounged down the street and found,\n",
            "as I expected, that there was a mews in a lane which runs down\n",
            "by one wall of the garden. I lent the ostlers a hand in rubbing\n",
            "down their horses, and received in exchange twopence, a glass of\n",
            "half-and-half, two fills of shag tobacco, and as much information\n",
            "as I could desire about Miss Adler, to say nothing of half a dozen\n",
            "other people in the neighbourhood in whom I was not in the least\n",
            "interested, but whose biographies I was compelled to listen to.\n",
            "\n"
          ],
          "name": "stdout"
        }
      ]
    },
    {
      "cell_type": "code",
      "metadata": {
        "id": "9lkbtolYxJMb",
        "colab": {
          "base_uri": "https://localhost:8080/",
          "height": 265
        },
        "outputId": "c85ee2cb-f5fa-46f0-8851-19b36dc7dac5"
      },
      "source": [
        "plt.plot(scores)\n",
        "plt.show()"
      ],
      "execution_count": null,
      "outputs": [
        {
          "output_type": "display_data",
          "data": {
            "image/png": "[encoded data removed]",
            "text/plain": [
              "<Figure size 432x288 with 1 Axes>"
            ]
          },
          "metadata": {
            "tags": [],
            "needs_background": "light"
          }
        }
      ]
    }
  ]
}